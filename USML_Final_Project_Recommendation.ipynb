{
 "cells": [
  {
   "cell_type": "code",
   "execution_count": 1,
   "metadata": {
    "id": "ZcYe5nsi1utb"
   },
   "outputs": [],
   "source": [
    "dataset = \"online_retail_II.csv\""
   ]
  },
  {
   "cell_type": "markdown",
   "metadata": {
    "id": "0rutp9OK3fXQ"
   },
   "source": [
    "### Importing required libraries"
   ]
  },
  {
   "cell_type": "code",
   "execution_count": 2,
   "metadata": {
    "id": "FgfAel-W2Gvb"
   },
   "outputs": [],
   "source": [
    "import pandas as pd\n",
    "import numpy as np\n",
    "import matplotlib.pyplot as plt\n",
    "%matplotlib inline\n",
    "import seaborn as sns\n",
    "from sklearn import preprocessing\n",
    "import warnings\n",
    "warnings.filterwarnings('ignore')\n",
    "from numpy import math\n",
    "\n",
    "pd.set_option(\"display.max_columns\", 50)"
   ]
  },
  {
   "cell_type": "code",
   "execution_count": 3,
   "metadata": {
    "colab": {
     "base_uri": "https://localhost:8080/",
     "height": 206
    },
    "id": "ORzEhXcL3lHv",
    "outputId": "c593df0a-d1ff-403d-c0d9-24bd89a5db65"
   },
   "outputs": [
    {
     "data": {
      "text/html": [
       "<div>\n",
       "<style scoped>\n",
       "    .dataframe tbody tr th:only-of-type {\n",
       "        vertical-align: middle;\n",
       "    }\n",
       "\n",
       "    .dataframe tbody tr th {\n",
       "        vertical-align: top;\n",
       "    }\n",
       "\n",
       "    .dataframe thead th {\n",
       "        text-align: right;\n",
       "    }\n",
       "</style>\n",
       "<table border=\"1\" class=\"dataframe\">\n",
       "  <thead>\n",
       "    <tr style=\"text-align: right;\">\n",
       "      <th></th>\n",
       "      <th>Invoice</th>\n",
       "      <th>StockCode</th>\n",
       "      <th>Description</th>\n",
       "      <th>Quantity</th>\n",
       "      <th>InvoiceDate</th>\n",
       "      <th>Price</th>\n",
       "      <th>Customer ID</th>\n",
       "      <th>Country</th>\n",
       "    </tr>\n",
       "  </thead>\n",
       "  <tbody>\n",
       "    <tr>\n",
       "      <th>0</th>\n",
       "      <td>489434</td>\n",
       "      <td>85048</td>\n",
       "      <td>15CM CHRISTMAS GLASS BALL 20 LIGHTS</td>\n",
       "      <td>12</td>\n",
       "      <td>2009-12-01 07:45:00</td>\n",
       "      <td>6.95</td>\n",
       "      <td>13085.0</td>\n",
       "      <td>United Kingdom</td>\n",
       "    </tr>\n",
       "    <tr>\n",
       "      <th>1</th>\n",
       "      <td>489434</td>\n",
       "      <td>79323P</td>\n",
       "      <td>PINK CHERRY LIGHTS</td>\n",
       "      <td>12</td>\n",
       "      <td>2009-12-01 07:45:00</td>\n",
       "      <td>6.75</td>\n",
       "      <td>13085.0</td>\n",
       "      <td>United Kingdom</td>\n",
       "    </tr>\n",
       "    <tr>\n",
       "      <th>2</th>\n",
       "      <td>489434</td>\n",
       "      <td>79323W</td>\n",
       "      <td>WHITE CHERRY LIGHTS</td>\n",
       "      <td>12</td>\n",
       "      <td>2009-12-01 07:45:00</td>\n",
       "      <td>6.75</td>\n",
       "      <td>13085.0</td>\n",
       "      <td>United Kingdom</td>\n",
       "    </tr>\n",
       "    <tr>\n",
       "      <th>3</th>\n",
       "      <td>489434</td>\n",
       "      <td>22041</td>\n",
       "      <td>RECORD FRAME 7\" SINGLE SIZE</td>\n",
       "      <td>48</td>\n",
       "      <td>2009-12-01 07:45:00</td>\n",
       "      <td>2.10</td>\n",
       "      <td>13085.0</td>\n",
       "      <td>United Kingdom</td>\n",
       "    </tr>\n",
       "    <tr>\n",
       "      <th>4</th>\n",
       "      <td>489434</td>\n",
       "      <td>21232</td>\n",
       "      <td>STRAWBERRY CERAMIC TRINKET BOX</td>\n",
       "      <td>24</td>\n",
       "      <td>2009-12-01 07:45:00</td>\n",
       "      <td>1.25</td>\n",
       "      <td>13085.0</td>\n",
       "      <td>United Kingdom</td>\n",
       "    </tr>\n",
       "  </tbody>\n",
       "</table>\n",
       "</div>"
      ],
      "text/plain": [
       "  Invoice StockCode                          Description  Quantity  \\\n",
       "0  489434     85048  15CM CHRISTMAS GLASS BALL 20 LIGHTS        12   \n",
       "1  489434    79323P                   PINK CHERRY LIGHTS        12   \n",
       "2  489434    79323W                  WHITE CHERRY LIGHTS        12   \n",
       "3  489434     22041         RECORD FRAME 7\" SINGLE SIZE         48   \n",
       "4  489434     21232       STRAWBERRY CERAMIC TRINKET BOX        24   \n",
       "\n",
       "           InvoiceDate  Price  Customer ID         Country  \n",
       "0  2009-12-01 07:45:00   6.95      13085.0  United Kingdom  \n",
       "1  2009-12-01 07:45:00   6.75      13085.0  United Kingdom  \n",
       "2  2009-12-01 07:45:00   6.75      13085.0  United Kingdom  \n",
       "3  2009-12-01 07:45:00   2.10      13085.0  United Kingdom  \n",
       "4  2009-12-01 07:45:00   1.25      13085.0  United Kingdom  "
      ]
     },
     "execution_count": 3,
     "metadata": {},
     "output_type": "execute_result"
    }
   ],
   "source": [
    "retail_df=pd.read_csv(dataset)\n",
    "retail_df.head()"
   ]
  },
  {
   "cell_type": "code",
   "execution_count": 4,
   "metadata": {
    "colab": {
     "base_uri": "https://localhost:8080/"
    },
    "id": "Y5hTfJd63mvm",
    "outputId": "65511ded-768e-4f47-bb56-0ae04583379e"
   },
   "outputs": [
    {
     "data": {
      "text/plain": [
       "(1067371, 8)"
      ]
     },
     "execution_count": 4,
     "metadata": {},
     "output_type": "execute_result"
    }
   ],
   "source": [
    "# shape of dataset\n",
    "retail_df.shape"
   ]
  },
  {
   "cell_type": "code",
   "execution_count": 5,
   "metadata": {
    "colab": {
     "base_uri": "https://localhost:8080/"
    },
    "id": "2YD3Riuy3sSY",
    "outputId": "0399a23f-4cd3-4af1-db23-752f8b00ccbe"
   },
   "outputs": [
    {
     "name": "stdout",
     "output_type": "stream",
     "text": [
      "<class 'pandas.core.frame.DataFrame'>\n",
      "RangeIndex: 1067371 entries, 0 to 1067370\n",
      "Data columns (total 8 columns):\n",
      " #   Column       Non-Null Count    Dtype  \n",
      "---  ------       --------------    -----  \n",
      " 0   Invoice      1067371 non-null  object \n",
      " 1   StockCode    1067371 non-null  object \n",
      " 2   Description  1062989 non-null  object \n",
      " 3   Quantity     1067371 non-null  int64  \n",
      " 4   InvoiceDate  1067371 non-null  object \n",
      " 5   Price        1067371 non-null  float64\n",
      " 6   Customer ID  824364 non-null   float64\n",
      " 7   Country      1067371 non-null  object \n",
      "dtypes: float64(2), int64(1), object(5)\n",
      "memory usage: 65.1+ MB\n"
     ]
    }
   ],
   "source": [
    "# checking the datatypes and null values in dataset\n",
    "retail_df.info()"
   ]
  },
  {
   "cell_type": "code",
   "execution_count": 6,
   "metadata": {
    "colab": {
     "base_uri": "https://localhost:8080/",
     "height": 335
    },
    "id": "Xdc3vTZa3ul4",
    "outputId": "7e9ee617-1e90-483b-ec92-a47e332b65d8"
   },
   "outputs": [
    {
     "data": {
      "text/plain": [
       "Invoice             0\n",
       "StockCode           0\n",
       "Description      4382\n",
       "Quantity            0\n",
       "InvoiceDate         0\n",
       "Price               0\n",
       "Customer ID    243007\n",
       "Country             0\n",
       "dtype: int64"
      ]
     },
     "execution_count": 6,
     "metadata": {},
     "output_type": "execute_result"
    }
   ],
   "source": [
    "# Checking for Null values\n",
    "retail_df.isnull().sum()"
   ]
  },
  {
   "cell_type": "markdown",
   "metadata": {
    "id": "bHinm5U73y9c"
   },
   "source": [
    "Observations:\n",
    "- Datatype of InvoiceDate is object need to convert it into datatime.\n",
    "- There are null values in CustomerID and Description.\n",
    "\n",
    "Customer ID is our Identification feature and Description has Product description.\n",
    "\n",
    "The RFM analysis and KMeans Clustering can not be done without Customer ID values.\n",
    "\n",
    "Hence, droppingg the missing values"
   ]
  },
  {
   "cell_type": "code",
   "execution_count": 7,
   "metadata": {
    "id": "t8vp5Ea73zL1"
   },
   "outputs": [],
   "source": [
    "retail_df.dropna(subset=['Customer ID'],inplace=True)\n"
   ]
  },
  {
   "cell_type": "code",
   "execution_count": 8,
   "metadata": {
    "colab": {
     "base_uri": "https://localhost:8080/",
     "height": 335
    },
    "id": "bpzZK99R3-TQ",
    "outputId": "39dd9dce-1239-4e3b-fc63-b5f6f8bf8f7d"
   },
   "outputs": [
    {
     "data": {
      "text/plain": [
       "Invoice        0\n",
       "StockCode      0\n",
       "Description    0\n",
       "Quantity       0\n",
       "InvoiceDate    0\n",
       "Price          0\n",
       "Customer ID    0\n",
       "Country        0\n",
       "dtype: int64"
      ]
     },
     "execution_count": 8,
     "metadata": {},
     "output_type": "execute_result"
    }
   ],
   "source": [
    "retail_df.isnull().sum()"
   ]
  },
  {
   "cell_type": "code",
   "execution_count": 9,
   "metadata": {
    "colab": {
     "base_uri": "https://localhost:8080/",
     "height": 300
    },
    "id": "921VSmwY3_ny",
    "outputId": "5ba13e3b-59b3-4d75-dcaf-39f19eb30617"
   },
   "outputs": [
    {
     "data": {
      "text/html": [
       "<div>\n",
       "<style scoped>\n",
       "    .dataframe tbody tr th:only-of-type {\n",
       "        vertical-align: middle;\n",
       "    }\n",
       "\n",
       "    .dataframe tbody tr th {\n",
       "        vertical-align: top;\n",
       "    }\n",
       "\n",
       "    .dataframe thead th {\n",
       "        text-align: right;\n",
       "    }\n",
       "</style>\n",
       "<table border=\"1\" class=\"dataframe\">\n",
       "  <thead>\n",
       "    <tr style=\"text-align: right;\">\n",
       "      <th></th>\n",
       "      <th>Quantity</th>\n",
       "      <th>Price</th>\n",
       "      <th>Customer ID</th>\n",
       "    </tr>\n",
       "  </thead>\n",
       "  <tbody>\n",
       "    <tr>\n",
       "      <th>count</th>\n",
       "      <td>824364.000000</td>\n",
       "      <td>824364.000000</td>\n",
       "      <td>824364.000000</td>\n",
       "    </tr>\n",
       "    <tr>\n",
       "      <th>mean</th>\n",
       "      <td>12.414574</td>\n",
       "      <td>3.676800</td>\n",
       "      <td>15324.638504</td>\n",
       "    </tr>\n",
       "    <tr>\n",
       "      <th>std</th>\n",
       "      <td>188.976099</td>\n",
       "      <td>70.241388</td>\n",
       "      <td>1697.464450</td>\n",
       "    </tr>\n",
       "    <tr>\n",
       "      <th>min</th>\n",
       "      <td>-80995.000000</td>\n",
       "      <td>0.000000</td>\n",
       "      <td>12346.000000</td>\n",
       "    </tr>\n",
       "    <tr>\n",
       "      <th>25%</th>\n",
       "      <td>2.000000</td>\n",
       "      <td>1.250000</td>\n",
       "      <td>13975.000000</td>\n",
       "    </tr>\n",
       "    <tr>\n",
       "      <th>50%</th>\n",
       "      <td>5.000000</td>\n",
       "      <td>1.950000</td>\n",
       "      <td>15255.000000</td>\n",
       "    </tr>\n",
       "    <tr>\n",
       "      <th>75%</th>\n",
       "      <td>12.000000</td>\n",
       "      <td>3.750000</td>\n",
       "      <td>16797.000000</td>\n",
       "    </tr>\n",
       "    <tr>\n",
       "      <th>max</th>\n",
       "      <td>80995.000000</td>\n",
       "      <td>38970.000000</td>\n",
       "      <td>18287.000000</td>\n",
       "    </tr>\n",
       "  </tbody>\n",
       "</table>\n",
       "</div>"
      ],
      "text/plain": [
       "            Quantity          Price    Customer ID\n",
       "count  824364.000000  824364.000000  824364.000000\n",
       "mean       12.414574       3.676800   15324.638504\n",
       "std       188.976099      70.241388    1697.464450\n",
       "min    -80995.000000       0.000000   12346.000000\n",
       "25%         2.000000       1.250000   13975.000000\n",
       "50%         5.000000       1.950000   15255.000000\n",
       "75%        12.000000       3.750000   16797.000000\n",
       "max     80995.000000   38970.000000   18287.000000"
      ]
     },
     "execution_count": 9,
     "metadata": {},
     "output_type": "execute_result"
    }
   ],
   "source": [
    "retail_df.describe()"
   ]
  },
  {
   "cell_type": "markdown",
   "metadata": {
    "id": "wwUwaBbC4G-f"
   },
   "source": [
    "We can see that Quantity and Price columns have negative values, lets explore these entries"
   ]
  },
  {
   "cell_type": "code",
   "execution_count": 10,
   "metadata": {
    "colab": {
     "base_uri": "https://localhost:8080/",
     "height": 423
    },
    "id": "8V2KiGqd4BkG",
    "outputId": "535bc2ae-8462-4e69-d372-a4238b771e76"
   },
   "outputs": [
    {
     "data": {
      "text/html": [
       "<div>\n",
       "<style scoped>\n",
       "    .dataframe tbody tr th:only-of-type {\n",
       "        vertical-align: middle;\n",
       "    }\n",
       "\n",
       "    .dataframe tbody tr th {\n",
       "        vertical-align: top;\n",
       "    }\n",
       "\n",
       "    .dataframe thead th {\n",
       "        text-align: right;\n",
       "    }\n",
       "</style>\n",
       "<table border=\"1\" class=\"dataframe\">\n",
       "  <thead>\n",
       "    <tr style=\"text-align: right;\">\n",
       "      <th></th>\n",
       "      <th>Invoice</th>\n",
       "      <th>StockCode</th>\n",
       "      <th>Description</th>\n",
       "      <th>Quantity</th>\n",
       "      <th>InvoiceDate</th>\n",
       "      <th>Price</th>\n",
       "      <th>Customer ID</th>\n",
       "      <th>Country</th>\n",
       "    </tr>\n",
       "  </thead>\n",
       "  <tbody>\n",
       "    <tr>\n",
       "      <th>178</th>\n",
       "      <td>C489449</td>\n",
       "      <td>22087</td>\n",
       "      <td>PAPER BUNTING WHITE LACE</td>\n",
       "      <td>-12</td>\n",
       "      <td>2009-12-01 10:33:00</td>\n",
       "      <td>2.95</td>\n",
       "      <td>16321.0</td>\n",
       "      <td>Australia</td>\n",
       "    </tr>\n",
       "    <tr>\n",
       "      <th>179</th>\n",
       "      <td>C489449</td>\n",
       "      <td>85206A</td>\n",
       "      <td>CREAM FELT EASTER EGG BASKET</td>\n",
       "      <td>-6</td>\n",
       "      <td>2009-12-01 10:33:00</td>\n",
       "      <td>1.65</td>\n",
       "      <td>16321.0</td>\n",
       "      <td>Australia</td>\n",
       "    </tr>\n",
       "    <tr>\n",
       "      <th>180</th>\n",
       "      <td>C489449</td>\n",
       "      <td>21895</td>\n",
       "      <td>POTTING SHED SOW 'N' GROW SET</td>\n",
       "      <td>-4</td>\n",
       "      <td>2009-12-01 10:33:00</td>\n",
       "      <td>4.25</td>\n",
       "      <td>16321.0</td>\n",
       "      <td>Australia</td>\n",
       "    </tr>\n",
       "    <tr>\n",
       "      <th>181</th>\n",
       "      <td>C489449</td>\n",
       "      <td>21896</td>\n",
       "      <td>POTTING SHED TWINE</td>\n",
       "      <td>-6</td>\n",
       "      <td>2009-12-01 10:33:00</td>\n",
       "      <td>2.10</td>\n",
       "      <td>16321.0</td>\n",
       "      <td>Australia</td>\n",
       "    </tr>\n",
       "    <tr>\n",
       "      <th>182</th>\n",
       "      <td>C489449</td>\n",
       "      <td>22083</td>\n",
       "      <td>PAPER CHAIN KIT RETRO SPOT</td>\n",
       "      <td>-12</td>\n",
       "      <td>2009-12-01 10:33:00</td>\n",
       "      <td>2.95</td>\n",
       "      <td>16321.0</td>\n",
       "      <td>Australia</td>\n",
       "    </tr>\n",
       "    <tr>\n",
       "      <th>...</th>\n",
       "      <td>...</td>\n",
       "      <td>...</td>\n",
       "      <td>...</td>\n",
       "      <td>...</td>\n",
       "      <td>...</td>\n",
       "      <td>...</td>\n",
       "      <td>...</td>\n",
       "      <td>...</td>\n",
       "    </tr>\n",
       "    <tr>\n",
       "      <th>1065910</th>\n",
       "      <td>C581490</td>\n",
       "      <td>23144</td>\n",
       "      <td>ZINC T-LIGHT HOLDER STARS SMALL</td>\n",
       "      <td>-11</td>\n",
       "      <td>2011-12-09 09:57:00</td>\n",
       "      <td>0.83</td>\n",
       "      <td>14397.0</td>\n",
       "      <td>United Kingdom</td>\n",
       "    </tr>\n",
       "    <tr>\n",
       "      <th>1067002</th>\n",
       "      <td>C581499</td>\n",
       "      <td>M</td>\n",
       "      <td>Manual</td>\n",
       "      <td>-1</td>\n",
       "      <td>2011-12-09 10:28:00</td>\n",
       "      <td>224.69</td>\n",
       "      <td>15498.0</td>\n",
       "      <td>United Kingdom</td>\n",
       "    </tr>\n",
       "    <tr>\n",
       "      <th>1067176</th>\n",
       "      <td>C581568</td>\n",
       "      <td>21258</td>\n",
       "      <td>VICTORIAN SEWING BOX LARGE</td>\n",
       "      <td>-5</td>\n",
       "      <td>2011-12-09 11:57:00</td>\n",
       "      <td>10.95</td>\n",
       "      <td>15311.0</td>\n",
       "      <td>United Kingdom</td>\n",
       "    </tr>\n",
       "    <tr>\n",
       "      <th>1067177</th>\n",
       "      <td>C581569</td>\n",
       "      <td>84978</td>\n",
       "      <td>HANGING HEART JAR T-LIGHT HOLDER</td>\n",
       "      <td>-1</td>\n",
       "      <td>2011-12-09 11:58:00</td>\n",
       "      <td>1.25</td>\n",
       "      <td>17315.0</td>\n",
       "      <td>United Kingdom</td>\n",
       "    </tr>\n",
       "    <tr>\n",
       "      <th>1067178</th>\n",
       "      <td>C581569</td>\n",
       "      <td>20979</td>\n",
       "      <td>36 PENCILS TUBE RED RETROSPOT</td>\n",
       "      <td>-5</td>\n",
       "      <td>2011-12-09 11:58:00</td>\n",
       "      <td>1.25</td>\n",
       "      <td>17315.0</td>\n",
       "      <td>United Kingdom</td>\n",
       "    </tr>\n",
       "  </tbody>\n",
       "</table>\n",
       "<p>18744 rows × 8 columns</p>\n",
       "</div>"
      ],
      "text/plain": [
       "         Invoice StockCode                       Description  Quantity  \\\n",
       "178      C489449     22087          PAPER BUNTING WHITE LACE       -12   \n",
       "179      C489449    85206A      CREAM FELT EASTER EGG BASKET        -6   \n",
       "180      C489449     21895     POTTING SHED SOW 'N' GROW SET        -4   \n",
       "181      C489449     21896                POTTING SHED TWINE        -6   \n",
       "182      C489449     22083        PAPER CHAIN KIT RETRO SPOT       -12   \n",
       "...          ...       ...                               ...       ...   \n",
       "1065910  C581490     23144   ZINC T-LIGHT HOLDER STARS SMALL       -11   \n",
       "1067002  C581499         M                            Manual        -1   \n",
       "1067176  C581568     21258        VICTORIAN SEWING BOX LARGE        -5   \n",
       "1067177  C581569     84978  HANGING HEART JAR T-LIGHT HOLDER        -1   \n",
       "1067178  C581569     20979     36 PENCILS TUBE RED RETROSPOT        -5   \n",
       "\n",
       "                 InvoiceDate   Price  Customer ID         Country  \n",
       "178      2009-12-01 10:33:00    2.95      16321.0       Australia  \n",
       "179      2009-12-01 10:33:00    1.65      16321.0       Australia  \n",
       "180      2009-12-01 10:33:00    4.25      16321.0       Australia  \n",
       "181      2009-12-01 10:33:00    2.10      16321.0       Australia  \n",
       "182      2009-12-01 10:33:00    2.95      16321.0       Australia  \n",
       "...                      ...     ...          ...             ...  \n",
       "1065910  2011-12-09 09:57:00    0.83      14397.0  United Kingdom  \n",
       "1067002  2011-12-09 10:28:00  224.69      15498.0  United Kingdom  \n",
       "1067176  2011-12-09 11:57:00   10.95      15311.0  United Kingdom  \n",
       "1067177  2011-12-09 11:58:00    1.25      17315.0  United Kingdom  \n",
       "1067178  2011-12-09 11:58:00    1.25      17315.0  United Kingdom  \n",
       "\n",
       "[18744 rows x 8 columns]"
      ]
     },
     "execution_count": 10,
     "metadata": {},
     "output_type": "execute_result"
    }
   ],
   "source": [
    "retail_df[retail_df['Quantity']<0]"
   ]
  },
  {
   "cell_type": "markdown",
   "metadata": {
    "id": "4SqWnKwY4K4Q"
   },
   "source": [
    "Invoice numbers start with C and as per description of data these are cancellations hence dropping these entries"
   ]
  },
  {
   "cell_type": "code",
   "execution_count": 11,
   "metadata": {
    "id": "BfPfVGQ44In_"
   },
   "outputs": [],
   "source": [
    "# changing the datatype to str\n",
    "retail_df['Invoice'] = retail_df['Invoice'].astype('str')"
   ]
  },
  {
   "cell_type": "code",
   "execution_count": 12,
   "metadata": {
    "id": "SCVC-ttr4NB9"
   },
   "outputs": [],
   "source": [
    "retail_df=retail_df[~retail_df['Invoice'].str.contains('C')]"
   ]
  },
  {
   "cell_type": "code",
   "execution_count": 13,
   "metadata": {
    "colab": {
     "base_uri": "https://localhost:8080/",
     "height": 423
    },
    "id": "Nw0OhBNc4QIF",
    "outputId": "de47ca56-094a-42a8-98db-158bf1e4c520"
   },
   "outputs": [
    {
     "data": {
      "text/html": [
       "<div>\n",
       "<style scoped>\n",
       "    .dataframe tbody tr th:only-of-type {\n",
       "        vertical-align: middle;\n",
       "    }\n",
       "\n",
       "    .dataframe tbody tr th {\n",
       "        vertical-align: top;\n",
       "    }\n",
       "\n",
       "    .dataframe thead th {\n",
       "        text-align: right;\n",
       "    }\n",
       "</style>\n",
       "<table border=\"1\" class=\"dataframe\">\n",
       "  <thead>\n",
       "    <tr style=\"text-align: right;\">\n",
       "      <th></th>\n",
       "      <th>Invoice</th>\n",
       "      <th>StockCode</th>\n",
       "      <th>Description</th>\n",
       "      <th>Quantity</th>\n",
       "      <th>InvoiceDate</th>\n",
       "      <th>Price</th>\n",
       "      <th>Customer ID</th>\n",
       "      <th>Country</th>\n",
       "    </tr>\n",
       "  </thead>\n",
       "  <tbody>\n",
       "    <tr>\n",
       "      <th>4674</th>\n",
       "      <td>489825</td>\n",
       "      <td>22076</td>\n",
       "      <td>6 RIBBONS EMPIRE</td>\n",
       "      <td>12</td>\n",
       "      <td>2009-12-02 13:34:00</td>\n",
       "      <td>0.0</td>\n",
       "      <td>16126.0</td>\n",
       "      <td>United Kingdom</td>\n",
       "    </tr>\n",
       "    <tr>\n",
       "      <th>840208</th>\n",
       "      <td>564651</td>\n",
       "      <td>22955</td>\n",
       "      <td>36 FOIL STAR CAKE CASES</td>\n",
       "      <td>144</td>\n",
       "      <td>2011-08-26 14:19:00</td>\n",
       "      <td>0.0</td>\n",
       "      <td>14646.0</td>\n",
       "      <td>Netherlands</td>\n",
       "    </tr>\n",
       "    <tr>\n",
       "      <th>840207</th>\n",
       "      <td>564651</td>\n",
       "      <td>23268</td>\n",
       "      <td>SET OF 2 CERAMIC CHRISTMAS REINDEER</td>\n",
       "      <td>192</td>\n",
       "      <td>2011-08-26 14:19:00</td>\n",
       "      <td>0.0</td>\n",
       "      <td>14646.0</td>\n",
       "      <td>Netherlands</td>\n",
       "    </tr>\n",
       "    <tr>\n",
       "      <th>840206</th>\n",
       "      <td>564651</td>\n",
       "      <td>23270</td>\n",
       "      <td>SET OF 2 CERAMIC PAINTED HEARTS</td>\n",
       "      <td>96</td>\n",
       "      <td>2011-08-26 14:19:00</td>\n",
       "      <td>0.0</td>\n",
       "      <td>14646.0</td>\n",
       "      <td>Netherlands</td>\n",
       "    </tr>\n",
       "    <tr>\n",
       "      <th>823515</th>\n",
       "      <td>562973</td>\n",
       "      <td>23157</td>\n",
       "      <td>SET OF 6 NATIVITY MAGNETS</td>\n",
       "      <td>240</td>\n",
       "      <td>2011-08-11 11:42:00</td>\n",
       "      <td>0.0</td>\n",
       "      <td>14911.0</td>\n",
       "      <td>EIRE</td>\n",
       "    </tr>\n",
       "    <tr>\n",
       "      <th>...</th>\n",
       "      <td>...</td>\n",
       "      <td>...</td>\n",
       "      <td>...</td>\n",
       "      <td>...</td>\n",
       "      <td>...</td>\n",
       "      <td>...</td>\n",
       "      <td>...</td>\n",
       "      <td>...</td>\n",
       "    </tr>\n",
       "    <tr>\n",
       "      <th>327801</th>\n",
       "      <td>521375</td>\n",
       "      <td>22202</td>\n",
       "      <td>MILK PAN PINK RETROSPOT</td>\n",
       "      <td>3</td>\n",
       "      <td>2010-09-05 11:58:00</td>\n",
       "      <td>0.0</td>\n",
       "      <td>12647.0</td>\n",
       "      <td>Germany</td>\n",
       "    </tr>\n",
       "    <tr>\n",
       "      <th>296375</th>\n",
       "      <td>518231</td>\n",
       "      <td>22472</td>\n",
       "      <td>TV DINNER TRAY DOLLY GIRL</td>\n",
       "      <td>9</td>\n",
       "      <td>2010-08-05 15:28:00</td>\n",
       "      <td>0.0</td>\n",
       "      <td>12471.0</td>\n",
       "      <td>Germany</td>\n",
       "    </tr>\n",
       "    <tr>\n",
       "      <th>276858</th>\n",
       "      <td>516304</td>\n",
       "      <td>22690</td>\n",
       "      <td>DOORMAT HOME SWEET HOME BLUE</td>\n",
       "      <td>6</td>\n",
       "      <td>2010-07-19 13:13:00</td>\n",
       "      <td>0.0</td>\n",
       "      <td>14025.0</td>\n",
       "      <td>United Kingdom</td>\n",
       "    </tr>\n",
       "    <tr>\n",
       "      <th>400047</th>\n",
       "      <td>527696</td>\n",
       "      <td>22121</td>\n",
       "      <td>NOEL WOODEN BLOCK LETTERS</td>\n",
       "      <td>1</td>\n",
       "      <td>2010-10-18 15:13:00</td>\n",
       "      <td>0.0</td>\n",
       "      <td>13554.0</td>\n",
       "      <td>United Kingdom</td>\n",
       "    </tr>\n",
       "    <tr>\n",
       "      <th>1027583</th>\n",
       "      <td>578841</td>\n",
       "      <td>84826</td>\n",
       "      <td>ASSTD DESIGN 3D PAPER STICKERS</td>\n",
       "      <td>12540</td>\n",
       "      <td>2011-11-25 15:57:00</td>\n",
       "      <td>0.0</td>\n",
       "      <td>13256.0</td>\n",
       "      <td>United Kingdom</td>\n",
       "    </tr>\n",
       "  </tbody>\n",
       "</table>\n",
       "<p>71 rows × 8 columns</p>\n",
       "</div>"
      ],
      "text/plain": [
       "        Invoice StockCode                          Description  Quantity  \\\n",
       "4674     489825     22076                   6 RIBBONS EMPIRE          12   \n",
       "840208   564651     22955             36 FOIL STAR CAKE CASES        144   \n",
       "840207   564651     23268  SET OF 2 CERAMIC CHRISTMAS REINDEER       192   \n",
       "840206   564651     23270     SET OF 2 CERAMIC PAINTED HEARTS         96   \n",
       "823515   562973     23157           SET OF 6 NATIVITY MAGNETS        240   \n",
       "...         ...       ...                                  ...       ...   \n",
       "327801   521375     22202              MILK PAN PINK RETROSPOT         3   \n",
       "296375   518231     22472            TV DINNER TRAY DOLLY GIRL         9   \n",
       "276858   516304     22690        DOORMAT HOME SWEET HOME BLUE          6   \n",
       "400047   527696     22121           NOEL WOODEN BLOCK LETTERS          1   \n",
       "1027583  578841     84826       ASSTD DESIGN 3D PAPER STICKERS     12540   \n",
       "\n",
       "                 InvoiceDate  Price  Customer ID         Country  \n",
       "4674     2009-12-02 13:34:00    0.0      16126.0  United Kingdom  \n",
       "840208   2011-08-26 14:19:00    0.0      14646.0     Netherlands  \n",
       "840207   2011-08-26 14:19:00    0.0      14646.0     Netherlands  \n",
       "840206   2011-08-26 14:19:00    0.0      14646.0     Netherlands  \n",
       "823515   2011-08-11 11:42:00    0.0      14911.0            EIRE  \n",
       "...                      ...    ...          ...             ...  \n",
       "327801   2010-09-05 11:58:00    0.0      12647.0         Germany  \n",
       "296375   2010-08-05 15:28:00    0.0      12471.0         Germany  \n",
       "276858   2010-07-19 13:13:00    0.0      14025.0  United Kingdom  \n",
       "400047   2010-10-18 15:13:00    0.0      13554.0  United Kingdom  \n",
       "1027583  2011-11-25 15:57:00    0.0      13256.0  United Kingdom  \n",
       "\n",
       "[71 rows x 8 columns]"
      ]
     },
     "execution_count": 13,
     "metadata": {},
     "output_type": "execute_result"
    }
   ],
   "source": [
    "retail_df[retail_df['Price']<=0].sort_values('Price')"
   ]
  },
  {
   "cell_type": "markdown",
   "metadata": {
    "id": "YArEM4w84Tvs"
   },
   "source": [
    "We observe that these are not product purchase transactions but transactions of store related to some debt hence also deopping these entries"
   ]
  },
  {
   "cell_type": "code",
   "execution_count": 14,
   "metadata": {
    "colab": {
     "base_uri": "https://localhost:8080/",
     "height": 206
    },
    "id": "KB6Enw7L4RtM",
    "outputId": "6f9388c5-ccdc-42fb-8b78-c7fdc7ba7d5f"
   },
   "outputs": [
    {
     "data": {
      "text/html": [
       "<div>\n",
       "<style scoped>\n",
       "    .dataframe tbody tr th:only-of-type {\n",
       "        vertical-align: middle;\n",
       "    }\n",
       "\n",
       "    .dataframe tbody tr th {\n",
       "        vertical-align: top;\n",
       "    }\n",
       "\n",
       "    .dataframe thead th {\n",
       "        text-align: right;\n",
       "    }\n",
       "</style>\n",
       "<table border=\"1\" class=\"dataframe\">\n",
       "  <thead>\n",
       "    <tr style=\"text-align: right;\">\n",
       "      <th></th>\n",
       "      <th>Invoice</th>\n",
       "      <th>StockCode</th>\n",
       "      <th>Description</th>\n",
       "      <th>Quantity</th>\n",
       "      <th>InvoiceDate</th>\n",
       "      <th>Price</th>\n",
       "      <th>Customer ID</th>\n",
       "      <th>Country</th>\n",
       "    </tr>\n",
       "  </thead>\n",
       "  <tbody>\n",
       "    <tr>\n",
       "      <th>0</th>\n",
       "      <td>489434</td>\n",
       "      <td>85048</td>\n",
       "      <td>15CM CHRISTMAS GLASS BALL 20 LIGHTS</td>\n",
       "      <td>12</td>\n",
       "      <td>2009-12-01 07:45:00</td>\n",
       "      <td>6.95</td>\n",
       "      <td>13085.0</td>\n",
       "      <td>United Kingdom</td>\n",
       "    </tr>\n",
       "    <tr>\n",
       "      <th>1</th>\n",
       "      <td>489434</td>\n",
       "      <td>79323P</td>\n",
       "      <td>PINK CHERRY LIGHTS</td>\n",
       "      <td>12</td>\n",
       "      <td>2009-12-01 07:45:00</td>\n",
       "      <td>6.75</td>\n",
       "      <td>13085.0</td>\n",
       "      <td>United Kingdom</td>\n",
       "    </tr>\n",
       "    <tr>\n",
       "      <th>2</th>\n",
       "      <td>489434</td>\n",
       "      <td>79323W</td>\n",
       "      <td>WHITE CHERRY LIGHTS</td>\n",
       "      <td>12</td>\n",
       "      <td>2009-12-01 07:45:00</td>\n",
       "      <td>6.75</td>\n",
       "      <td>13085.0</td>\n",
       "      <td>United Kingdom</td>\n",
       "    </tr>\n",
       "    <tr>\n",
       "      <th>3</th>\n",
       "      <td>489434</td>\n",
       "      <td>22041</td>\n",
       "      <td>RECORD FRAME 7\" SINGLE SIZE</td>\n",
       "      <td>48</td>\n",
       "      <td>2009-12-01 07:45:00</td>\n",
       "      <td>2.10</td>\n",
       "      <td>13085.0</td>\n",
       "      <td>United Kingdom</td>\n",
       "    </tr>\n",
       "    <tr>\n",
       "      <th>4</th>\n",
       "      <td>489434</td>\n",
       "      <td>21232</td>\n",
       "      <td>STRAWBERRY CERAMIC TRINKET BOX</td>\n",
       "      <td>24</td>\n",
       "      <td>2009-12-01 07:45:00</td>\n",
       "      <td>1.25</td>\n",
       "      <td>13085.0</td>\n",
       "      <td>United Kingdom</td>\n",
       "    </tr>\n",
       "  </tbody>\n",
       "</table>\n",
       "</div>"
      ],
      "text/plain": [
       "  Invoice StockCode                          Description  Quantity  \\\n",
       "0  489434     85048  15CM CHRISTMAS GLASS BALL 20 LIGHTS        12   \n",
       "1  489434    79323P                   PINK CHERRY LIGHTS        12   \n",
       "2  489434    79323W                  WHITE CHERRY LIGHTS        12   \n",
       "3  489434     22041         RECORD FRAME 7\" SINGLE SIZE         48   \n",
       "4  489434     21232       STRAWBERRY CERAMIC TRINKET BOX        24   \n",
       "\n",
       "           InvoiceDate  Price  Customer ID         Country  \n",
       "0  2009-12-01 07:45:00   6.95      13085.0  United Kingdom  \n",
       "1  2009-12-01 07:45:00   6.75      13085.0  United Kingdom  \n",
       "2  2009-12-01 07:45:00   6.75      13085.0  United Kingdom  \n",
       "3  2009-12-01 07:45:00   2.10      13085.0  United Kingdom  \n",
       "4  2009-12-01 07:45:00   1.25      13085.0  United Kingdom  "
      ]
     },
     "execution_count": 14,
     "metadata": {},
     "output_type": "execute_result"
    }
   ],
   "source": [
    "# taking price values greater than 0.\n",
    "retail_df=retail_df[retail_df['Price']>0]\n",
    "retail_df.head()\n"
   ]
  },
  {
   "cell_type": "code",
   "execution_count": 15,
   "metadata": {
    "colab": {
     "base_uri": "https://localhost:8080/"
    },
    "id": "qkclidNx4VLO",
    "outputId": "cd4557c7-effe-45b2-9bd8-195a9fd993a4"
   },
   "outputs": [
    {
     "data": {
      "text/plain": [
       "(805549, 8)"
      ]
     },
     "execution_count": 15,
     "metadata": {},
     "output_type": "execute_result"
    }
   ],
   "source": [
    "retail_df.shape\n"
   ]
  },
  {
   "cell_type": "markdown",
   "metadata": {
    "id": "NoIPOwpm4Ym6"
   },
   "source": [
    "Our data got reduced now we have 1041671 datapoints"
   ]
  },
  {
   "cell_type": "code",
   "execution_count": 16,
   "metadata": {
    "colab": {
     "base_uri": "https://localhost:8080/",
     "height": 300
    },
    "id": "vtaOW9_i4Wy6",
    "outputId": "4a37cc5d-c466-4597-c254-11a1358b6f40"
   },
   "outputs": [
    {
     "data": {
      "text/html": [
       "<div>\n",
       "<style scoped>\n",
       "    .dataframe tbody tr th:only-of-type {\n",
       "        vertical-align: middle;\n",
       "    }\n",
       "\n",
       "    .dataframe tbody tr th {\n",
       "        vertical-align: top;\n",
       "    }\n",
       "\n",
       "    .dataframe thead th {\n",
       "        text-align: right;\n",
       "    }\n",
       "</style>\n",
       "<table border=\"1\" class=\"dataframe\">\n",
       "  <thead>\n",
       "    <tr style=\"text-align: right;\">\n",
       "      <th></th>\n",
       "      <th>Quantity</th>\n",
       "      <th>Price</th>\n",
       "      <th>Customer ID</th>\n",
       "    </tr>\n",
       "  </thead>\n",
       "  <tbody>\n",
       "    <tr>\n",
       "      <th>count</th>\n",
       "      <td>805549.000000</td>\n",
       "      <td>805549.000000</td>\n",
       "      <td>805549.000000</td>\n",
       "    </tr>\n",
       "    <tr>\n",
       "      <th>mean</th>\n",
       "      <td>13.290522</td>\n",
       "      <td>3.206561</td>\n",
       "      <td>15331.954970</td>\n",
       "    </tr>\n",
       "    <tr>\n",
       "      <th>std</th>\n",
       "      <td>143.634088</td>\n",
       "      <td>29.199173</td>\n",
       "      <td>1696.737039</td>\n",
       "    </tr>\n",
       "    <tr>\n",
       "      <th>min</th>\n",
       "      <td>1.000000</td>\n",
       "      <td>0.001000</td>\n",
       "      <td>12346.000000</td>\n",
       "    </tr>\n",
       "    <tr>\n",
       "      <th>25%</th>\n",
       "      <td>2.000000</td>\n",
       "      <td>1.250000</td>\n",
       "      <td>13982.000000</td>\n",
       "    </tr>\n",
       "    <tr>\n",
       "      <th>50%</th>\n",
       "      <td>5.000000</td>\n",
       "      <td>1.950000</td>\n",
       "      <td>15271.000000</td>\n",
       "    </tr>\n",
       "    <tr>\n",
       "      <th>75%</th>\n",
       "      <td>12.000000</td>\n",
       "      <td>3.750000</td>\n",
       "      <td>16805.000000</td>\n",
       "    </tr>\n",
       "    <tr>\n",
       "      <th>max</th>\n",
       "      <td>80995.000000</td>\n",
       "      <td>10953.500000</td>\n",
       "      <td>18287.000000</td>\n",
       "    </tr>\n",
       "  </tbody>\n",
       "</table>\n",
       "</div>"
      ],
      "text/plain": [
       "            Quantity          Price    Customer ID\n",
       "count  805549.000000  805549.000000  805549.000000\n",
       "mean       13.290522       3.206561   15331.954970\n",
       "std       143.634088      29.199173    1696.737039\n",
       "min         1.000000       0.001000   12346.000000\n",
       "25%         2.000000       1.250000   13982.000000\n",
       "50%         5.000000       1.950000   15271.000000\n",
       "75%        12.000000       3.750000   16805.000000\n",
       "max     80995.000000   10953.500000   18287.000000"
      ]
     },
     "execution_count": 16,
     "metadata": {},
     "output_type": "execute_result"
    }
   ],
   "source": [
    "retail_df.describe()"
   ]
  },
  {
   "cell_type": "markdown",
   "metadata": {
    "id": "xfWc8uGB4cQR"
   },
   "source": [
    "## Feature Engineering:"
   ]
  },
  {
   "cell_type": "code",
   "execution_count": 17,
   "metadata": {
    "id": "VXZ4JcQO4ZzB"
   },
   "outputs": [],
   "source": [
    "# Converting InvoiceDate to datetime. InvoiceDate is in format of 01-12-2010 08:26:33.\n",
    "retail_df[\"InvoiceDate\"] = pd.to_datetime(retail_df[\"InvoiceDate\"], format=\"%Y-%m-%d %H:%M:%S\")\n"
   ]
  },
  {
   "cell_type": "code",
   "execution_count": 18,
   "metadata": {
    "id": "6-JhYVFn4feP"
   },
   "outputs": [],
   "source": [
    "retail_df[\"year\"] = retail_df[\"InvoiceDate\"].apply(lambda x: x.year)\n",
    "retail_df[\"month_num\"] = retail_df[\"InvoiceDate\"].apply(lambda x: x.month)\n",
    "retail_df[\"day_num\"] = retail_df[\"InvoiceDate\"].apply(lambda x: x.day)\n",
    "retail_df[\"hour\"] = retail_df[\"InvoiceDate\"].apply(lambda x: x.hour)\n",
    "retail_df[\"minute\"] = retail_df[\"InvoiceDate\"].apply(lambda x: x.minute)\n",
    "retail_df[\"second\"] = retail_df[\"InvoiceDate\"].apply(lambda x: x.second)"
   ]
  },
  {
   "cell_type": "code",
   "execution_count": 19,
   "metadata": {
    "id": "lXNNL4L44hEa"
   },
   "outputs": [],
   "source": [
    "# extracting month from the Invoice date\n",
    "retail_df['Month']=retail_df['InvoiceDate'].dt.month_name()"
   ]
  },
  {
   "cell_type": "code",
   "execution_count": 20,
   "metadata": {
    "id": "Y8lxFzFp4lLv"
   },
   "outputs": [],
   "source": [
    "# extracting day from the Invoice date\n",
    "retail_df['Day']=retail_df['InvoiceDate'].dt.day_name()"
   ]
  },
  {
   "cell_type": "markdown",
   "metadata": {
    "id": "CQPJsiCn4n-j"
   },
   "source": [
    "Making total amount column by multiplying quantity with price"
   ]
  },
  {
   "cell_type": "code",
   "execution_count": 21,
   "metadata": {
    "id": "KBvHSgJ-4mZQ"
   },
   "outputs": [],
   "source": [
    "retail_df['TotalAmount']=retail_df['Quantity']*retail_df['Price']"
   ]
  },
  {
   "cell_type": "code",
   "execution_count": 22,
   "metadata": {
    "colab": {
     "base_uri": "https://localhost:8080/"
    },
    "id": "1IFvmiTM4qOS",
    "outputId": "41af2587-78fd-4ca6-caab-ac0a409f92bc"
   },
   "outputs": [
    {
     "data": {
      "text/html": [
       "<div>\n",
       "<style scoped>\n",
       "    .dataframe tbody tr th:only-of-type {\n",
       "        vertical-align: middle;\n",
       "    }\n",
       "\n",
       "    .dataframe tbody tr th {\n",
       "        vertical-align: top;\n",
       "    }\n",
       "\n",
       "    .dataframe thead th {\n",
       "        text-align: right;\n",
       "    }\n",
       "</style>\n",
       "<table border=\"1\" class=\"dataframe\">\n",
       "  <thead>\n",
       "    <tr style=\"text-align: right;\">\n",
       "      <th></th>\n",
       "      <th>Invoice</th>\n",
       "      <th>StockCode</th>\n",
       "      <th>Description</th>\n",
       "      <th>Quantity</th>\n",
       "      <th>InvoiceDate</th>\n",
       "      <th>Price</th>\n",
       "      <th>Customer ID</th>\n",
       "      <th>Country</th>\n",
       "      <th>year</th>\n",
       "      <th>month_num</th>\n",
       "      <th>day_num</th>\n",
       "      <th>hour</th>\n",
       "      <th>minute</th>\n",
       "      <th>second</th>\n",
       "      <th>Month</th>\n",
       "      <th>Day</th>\n",
       "      <th>TotalAmount</th>\n",
       "    </tr>\n",
       "  </thead>\n",
       "  <tbody>\n",
       "    <tr>\n",
       "      <th>0</th>\n",
       "      <td>489434</td>\n",
       "      <td>85048</td>\n",
       "      <td>15CM CHRISTMAS GLASS BALL 20 LIGHTS</td>\n",
       "      <td>12</td>\n",
       "      <td>2009-12-01 07:45:00</td>\n",
       "      <td>6.95</td>\n",
       "      <td>13085.0</td>\n",
       "      <td>United Kingdom</td>\n",
       "      <td>2009</td>\n",
       "      <td>12</td>\n",
       "      <td>1</td>\n",
       "      <td>7</td>\n",
       "      <td>45</td>\n",
       "      <td>0</td>\n",
       "      <td>December</td>\n",
       "      <td>Tuesday</td>\n",
       "      <td>83.4</td>\n",
       "    </tr>\n",
       "    <tr>\n",
       "      <th>1</th>\n",
       "      <td>489434</td>\n",
       "      <td>79323P</td>\n",
       "      <td>PINK CHERRY LIGHTS</td>\n",
       "      <td>12</td>\n",
       "      <td>2009-12-01 07:45:00</td>\n",
       "      <td>6.75</td>\n",
       "      <td>13085.0</td>\n",
       "      <td>United Kingdom</td>\n",
       "      <td>2009</td>\n",
       "      <td>12</td>\n",
       "      <td>1</td>\n",
       "      <td>7</td>\n",
       "      <td>45</td>\n",
       "      <td>0</td>\n",
       "      <td>December</td>\n",
       "      <td>Tuesday</td>\n",
       "      <td>81.0</td>\n",
       "    </tr>\n",
       "    <tr>\n",
       "      <th>2</th>\n",
       "      <td>489434</td>\n",
       "      <td>79323W</td>\n",
       "      <td>WHITE CHERRY LIGHTS</td>\n",
       "      <td>12</td>\n",
       "      <td>2009-12-01 07:45:00</td>\n",
       "      <td>6.75</td>\n",
       "      <td>13085.0</td>\n",
       "      <td>United Kingdom</td>\n",
       "      <td>2009</td>\n",
       "      <td>12</td>\n",
       "      <td>1</td>\n",
       "      <td>7</td>\n",
       "      <td>45</td>\n",
       "      <td>0</td>\n",
       "      <td>December</td>\n",
       "      <td>Tuesday</td>\n",
       "      <td>81.0</td>\n",
       "    </tr>\n",
       "    <tr>\n",
       "      <th>3</th>\n",
       "      <td>489434</td>\n",
       "      <td>22041</td>\n",
       "      <td>RECORD FRAME 7\" SINGLE SIZE</td>\n",
       "      <td>48</td>\n",
       "      <td>2009-12-01 07:45:00</td>\n",
       "      <td>2.10</td>\n",
       "      <td>13085.0</td>\n",
       "      <td>United Kingdom</td>\n",
       "      <td>2009</td>\n",
       "      <td>12</td>\n",
       "      <td>1</td>\n",
       "      <td>7</td>\n",
       "      <td>45</td>\n",
       "      <td>0</td>\n",
       "      <td>December</td>\n",
       "      <td>Tuesday</td>\n",
       "      <td>100.8</td>\n",
       "    </tr>\n",
       "    <tr>\n",
       "      <th>4</th>\n",
       "      <td>489434</td>\n",
       "      <td>21232</td>\n",
       "      <td>STRAWBERRY CERAMIC TRINKET BOX</td>\n",
       "      <td>24</td>\n",
       "      <td>2009-12-01 07:45:00</td>\n",
       "      <td>1.25</td>\n",
       "      <td>13085.0</td>\n",
       "      <td>United Kingdom</td>\n",
       "      <td>2009</td>\n",
       "      <td>12</td>\n",
       "      <td>1</td>\n",
       "      <td>7</td>\n",
       "      <td>45</td>\n",
       "      <td>0</td>\n",
       "      <td>December</td>\n",
       "      <td>Tuesday</td>\n",
       "      <td>30.0</td>\n",
       "    </tr>\n",
       "  </tbody>\n",
       "</table>\n",
       "</div>"
      ],
      "text/plain": [
       "  Invoice StockCode                          Description  Quantity  \\\n",
       "0  489434     85048  15CM CHRISTMAS GLASS BALL 20 LIGHTS        12   \n",
       "1  489434    79323P                   PINK CHERRY LIGHTS        12   \n",
       "2  489434    79323W                  WHITE CHERRY LIGHTS        12   \n",
       "3  489434     22041         RECORD FRAME 7\" SINGLE SIZE         48   \n",
       "4  489434     21232       STRAWBERRY CERAMIC TRINKET BOX        24   \n",
       "\n",
       "          InvoiceDate  Price  Customer ID         Country  year  month_num  \\\n",
       "0 2009-12-01 07:45:00   6.95      13085.0  United Kingdom  2009         12   \n",
       "1 2009-12-01 07:45:00   6.75      13085.0  United Kingdom  2009         12   \n",
       "2 2009-12-01 07:45:00   6.75      13085.0  United Kingdom  2009         12   \n",
       "3 2009-12-01 07:45:00   2.10      13085.0  United Kingdom  2009         12   \n",
       "4 2009-12-01 07:45:00   1.25      13085.0  United Kingdom  2009         12   \n",
       "\n",
       "   day_num  hour  minute  second     Month      Day  TotalAmount  \n",
       "0        1     7      45       0  December  Tuesday         83.4  \n",
       "1        1     7      45       0  December  Tuesday         81.0  \n",
       "2        1     7      45       0  December  Tuesday         81.0  \n",
       "3        1     7      45       0  December  Tuesday        100.8  \n",
       "4        1     7      45       0  December  Tuesday         30.0  "
      ]
     },
     "execution_count": 22,
     "metadata": {},
     "output_type": "execute_result"
    }
   ],
   "source": [
    "retail_df.head()"
   ]
  },
  {
   "cell_type": "markdown",
   "metadata": {
    "id": "hpFCxfry4vMo"
   },
   "source": [
    "## EDA:"
   ]
  },
  {
   "cell_type": "code",
   "execution_count": 23,
   "metadata": {
    "colab": {
     "base_uri": "https://localhost:8080/"
    },
    "id": "OyLAI_zQ4tSe",
    "outputId": "bb80c456-d752-4ecf-c58d-84f90b698b97"
   },
   "outputs": [
    {
     "data": {
      "text/plain": [
       "Index(['Invoice', 'StockCode', 'Description', 'Quantity', 'InvoiceDate',\n",
       "       'Price', 'Customer ID', 'Country', 'year', 'month_num', 'day_num',\n",
       "       'hour', 'minute', 'second', 'Month', 'Day', 'TotalAmount'],\n",
       "      dtype='object')"
      ]
     },
     "execution_count": 23,
     "metadata": {},
     "output_type": "execute_result"
    }
   ],
   "source": [
    "retail_df.columns"
   ]
  },
  {
   "cell_type": "markdown",
   "metadata": {
    "id": "tH3hXxcM40-l"
   },
   "source": [
    "### TOP 10 HIGHEST SELLING PRODUCTS SOLD BY THE STORE"
   ]
  },
  {
   "cell_type": "code",
   "execution_count": 24,
   "metadata": {
    "colab": {
     "base_uri": "https://localhost:8080/"
    },
    "id": "WW5p4hbr4yq6",
    "outputId": "da6b9fce-c6cd-4606-cb4b-09f7d435eb75"
   },
   "outputs": [
    {
     "data": {
      "text/html": [
       "<div>\n",
       "<style scoped>\n",
       "    .dataframe tbody tr th:only-of-type {\n",
       "        vertical-align: middle;\n",
       "    }\n",
       "\n",
       "    .dataframe tbody tr th {\n",
       "        vertical-align: top;\n",
       "    }\n",
       "\n",
       "    .dataframe thead th {\n",
       "        text-align: right;\n",
       "    }\n",
       "</style>\n",
       "<table border=\"1\" class=\"dataframe\">\n",
       "  <thead>\n",
       "    <tr style=\"text-align: right;\">\n",
       "      <th></th>\n",
       "      <th>Product_name</th>\n",
       "      <th>Quantity</th>\n",
       "    </tr>\n",
       "  </thead>\n",
       "  <tbody>\n",
       "    <tr>\n",
       "      <th>0</th>\n",
       "      <td>WORLD WAR 2 GLIDERS ASSTD DESIGNS</td>\n",
       "      <td>109169</td>\n",
       "    </tr>\n",
       "    <tr>\n",
       "      <th>1</th>\n",
       "      <td>WHITE HANGING HEART T-LIGHT HOLDER</td>\n",
       "      <td>93640</td>\n",
       "    </tr>\n",
       "    <tr>\n",
       "      <th>2</th>\n",
       "      <td>PAPER CRAFT , LITTLE BIRDIE</td>\n",
       "      <td>80995</td>\n",
       "    </tr>\n",
       "    <tr>\n",
       "      <th>3</th>\n",
       "      <td>ASSORTED COLOUR BIRD ORNAMENT</td>\n",
       "      <td>79913</td>\n",
       "    </tr>\n",
       "    <tr>\n",
       "      <th>4</th>\n",
       "      <td>MEDIUM CERAMIC TOP STORAGE JAR</td>\n",
       "      <td>77916</td>\n",
       "    </tr>\n",
       "    <tr>\n",
       "      <th>5</th>\n",
       "      <td>JUMBO BAG RED RETROSPOT</td>\n",
       "      <td>75759</td>\n",
       "    </tr>\n",
       "    <tr>\n",
       "      <th>6</th>\n",
       "      <td>BROCADE RING PURSE</td>\n",
       "      <td>71129</td>\n",
       "    </tr>\n",
       "    <tr>\n",
       "      <th>7</th>\n",
       "      <td>PACK OF 60 PINK PAISLEY CAKE CASES</td>\n",
       "      <td>55270</td>\n",
       "    </tr>\n",
       "    <tr>\n",
       "      <th>8</th>\n",
       "      <td>60 TEATIME FAIRY CAKE CASES</td>\n",
       "      <td>53495</td>\n",
       "    </tr>\n",
       "    <tr>\n",
       "      <th>9</th>\n",
       "      <td>PACK OF 72 RETROSPOT CAKE CASES</td>\n",
       "      <td>46107</td>\n",
       "    </tr>\n",
       "  </tbody>\n",
       "</table>\n",
       "</div>"
      ],
      "text/plain": [
       "                         Product_name  Quantity\n",
       "0   WORLD WAR 2 GLIDERS ASSTD DESIGNS    109169\n",
       "1  WHITE HANGING HEART T-LIGHT HOLDER     93640\n",
       "2         PAPER CRAFT , LITTLE BIRDIE     80995\n",
       "3       ASSORTED COLOUR BIRD ORNAMENT     79913\n",
       "4      MEDIUM CERAMIC TOP STORAGE JAR     77916\n",
       "5             JUMBO BAG RED RETROSPOT     75759\n",
       "6                 BROCADE RING PURSE      71129\n",
       "7  PACK OF 60 PINK PAISLEY CAKE CASES     55270\n",
       "8         60 TEATIME FAIRY CAKE CASES     53495\n",
       "9     PACK OF 72 RETROSPOT CAKE CASES     46107"
      ]
     },
     "execution_count": 24,
     "metadata": {},
     "output_type": "execute_result"
    }
   ],
   "source": [
    "df1=retail_df.groupby('Description').agg({'Quantity': 'sum'}) # Only sum the 'Quantity' column\n",
    "df1.sort_values(['Quantity'], ascending=False,inplace=True)\n",
    "df1.reset_index(inplace=True)\n",
    "df1.rename(columns={'Description':'Product_name'},inplace=True)\n",
    "df2=df1[['Product_name','Quantity']][:10]\n",
    "df2"
   ]
  },
  {
   "cell_type": "code",
   "execution_count": 25,
   "metadata": {
    "colab": {
     "base_uri": "https://localhost:8080/"
    },
    "id": "kDlVv6SK44yF",
    "outputId": "bcd7698b-6cc5-490b-f1d4-b1838a5cdf84"
   },
   "outputs": [
    {
     "data": {
      "text/plain": [
       "Text(0.5, 1.0, 'Top 10 products by quantity')"
      ]
     },
     "execution_count": 25,
     "metadata": {},
     "output_type": "execute_result"
    },
    {
     "data": {
      "image/png": "[encoded data removed]",
      "text/plain": [
       "<Figure size 1200x600 with 1 Axes>"
      ]
     },
     "metadata": {},
     "output_type": "display_data"
    }
   ],
   "source": [
    "# top 10 products by quantity\n",
    "sns.set_palette('colorblind')\n",
    "plt.figure(figsize=(12,6))\n",
    "sns.barplot(x=df2['Quantity'],y=df2['Product_name'])\n",
    "plt.title('Top 10 products by quantity')"
   ]
  },
  {
   "cell_type": "markdown",
   "metadata": {
    "id": "kn8aOQWL59wG"
   },
   "source": [
    "Observations:\n",
    "- WORLD WAR 2 GLIDERS ASSTD DESIGNS was the highest selling product\n",
    "- WHITE HANGING HEART T-LIGHT HOLDER was the second highest selling product\n",
    "\n"
   ]
  },
  {
   "cell_type": "markdown",
   "metadata": {
    "id": "jEABwS2w6FCP"
   },
   "source": [
    "### 10 LEAST SELLING PRODUCTS OF THE STORE"
   ]
  },
  {
   "cell_type": "code",
   "execution_count": 26,
   "metadata": {
    "colab": {
     "base_uri": "https://localhost:8080/"
    },
    "id": "Ojg81_Rx53tv",
    "outputId": "3534ef00-ada5-497e-bd97-786252d0e543"
   },
   "outputs": [
    {
     "data": {
      "text/html": [
       "<div>\n",
       "<style scoped>\n",
       "    .dataframe tbody tr th:only-of-type {\n",
       "        vertical-align: middle;\n",
       "    }\n",
       "\n",
       "    .dataframe tbody tr th {\n",
       "        vertical-align: top;\n",
       "    }\n",
       "\n",
       "    .dataframe thead th {\n",
       "        text-align: right;\n",
       "    }\n",
       "</style>\n",
       "<table border=\"1\" class=\"dataframe\">\n",
       "  <thead>\n",
       "    <tr style=\"text-align: right;\">\n",
       "      <th></th>\n",
       "      <th>Product_name</th>\n",
       "      <th>Quantity</th>\n",
       "    </tr>\n",
       "  </thead>\n",
       "  <tbody>\n",
       "    <tr>\n",
       "      <th>5273</th>\n",
       "      <td>WHITE SCANDINAVIAN HEART CHRISTMAS</td>\n",
       "      <td>1</td>\n",
       "    </tr>\n",
       "    <tr>\n",
       "      <th>5274</th>\n",
       "      <td>ENGLISH ROSE TEA FOR ONE GIFT BOX</td>\n",
       "      <td>1</td>\n",
       "    </tr>\n",
       "    <tr>\n",
       "      <th>5275</th>\n",
       "      <td>OWLS CHARLOTTE BAG</td>\n",
       "      <td>1</td>\n",
       "    </tr>\n",
       "    <tr>\n",
       "      <th>5276</th>\n",
       "      <td>F FAIRY POTPOURRI CUSHIONS SUMMER</td>\n",
       "      <td>1</td>\n",
       "    </tr>\n",
       "    <tr>\n",
       "      <th>5277</th>\n",
       "      <td>F.FAIRY S/3 SML CANDLE, LAVENDER</td>\n",
       "      <td>1</td>\n",
       "    </tr>\n",
       "    <tr>\n",
       "      <th>5278</th>\n",
       "      <td>F.FAIRY S/3 SML CANDLE, ROSE</td>\n",
       "      <td>1</td>\n",
       "    </tr>\n",
       "    <tr>\n",
       "      <th>5279</th>\n",
       "      <td>F.FAIRY S/3 SML CANDLE,LILY/VALLEY</td>\n",
       "      <td>1</td>\n",
       "    </tr>\n",
       "    <tr>\n",
       "      <th>5280</th>\n",
       "      <td>VINTAGE METAL CAKE STAND CREAM</td>\n",
       "      <td>1</td>\n",
       "    </tr>\n",
       "    <tr>\n",
       "      <th>5281</th>\n",
       "      <td>F.FAIRY,CANDLE IN GLASS,LILY/VALLEY</td>\n",
       "      <td>1</td>\n",
       "    </tr>\n",
       "    <tr>\n",
       "      <th>5282</th>\n",
       "      <td>RUSSIAN FOLKART STACKING TINS</td>\n",
       "      <td>1</td>\n",
       "    </tr>\n",
       "  </tbody>\n",
       "</table>\n",
       "</div>"
      ],
      "text/plain": [
       "                             Product_name  Quantity\n",
       "5273   WHITE SCANDINAVIAN HEART CHRISTMAS         1\n",
       "5274    ENGLISH ROSE TEA FOR ONE GIFT BOX         1\n",
       "5275                   OWLS CHARLOTTE BAG         1\n",
       "5276    F FAIRY POTPOURRI CUSHIONS SUMMER         1\n",
       "5277     F.FAIRY S/3 SML CANDLE, LAVENDER         1\n",
       "5278         F.FAIRY S/3 SML CANDLE, ROSE         1\n",
       "5279   F.FAIRY S/3 SML CANDLE,LILY/VALLEY         1\n",
       "5280      VINTAGE METAL CAKE STAND CREAM          1\n",
       "5281  F.FAIRY,CANDLE IN GLASS,LILY/VALLEY         1\n",
       "5282        RUSSIAN FOLKART STACKING TINS         1"
      ]
     },
     "execution_count": 26,
     "metadata": {},
     "output_type": "execute_result"
    }
   ],
   "source": [
    "df3=df1[['Product_name','Quantity']].tail(10)\n",
    "df3"
   ]
  },
  {
   "cell_type": "markdown",
   "metadata": {
    "id": "NrhIgvL86Jzd"
   },
   "source": [
    "These are the least selling products of the store with only 1 unit sold of each product"
   ]
  },
  {
   "cell_type": "markdown",
   "metadata": {
    "id": "oneulDiN6MaY"
   },
   "source": [
    "### TOP 10 STOCKCODES BY QUANTITY"
   ]
  },
  {
   "cell_type": "code",
   "execution_count": 27,
   "metadata": {
    "colab": {
     "base_uri": "https://localhost:8080/"
    },
    "id": "PqUELZqE6H-z",
    "outputId": "45aad0f0-81fe-4b3f-ba85-f673c98b55fe"
   },
   "outputs": [
    {
     "data": {
      "text/html": [
       "<div>\n",
       "<style scoped>\n",
       "    .dataframe tbody tr th:only-of-type {\n",
       "        vertical-align: middle;\n",
       "    }\n",
       "\n",
       "    .dataframe tbody tr th {\n",
       "        vertical-align: top;\n",
       "    }\n",
       "\n",
       "    .dataframe thead th {\n",
       "        text-align: right;\n",
       "    }\n",
       "</style>\n",
       "<table border=\"1\" class=\"dataframe\">\n",
       "  <thead>\n",
       "    <tr style=\"text-align: right;\">\n",
       "      <th></th>\n",
       "      <th>StockCode</th>\n",
       "      <th>Quantity</th>\n",
       "    </tr>\n",
       "  </thead>\n",
       "  <tbody>\n",
       "    <tr>\n",
       "      <th>0</th>\n",
       "      <td>84077</td>\n",
       "      <td>109169</td>\n",
       "    </tr>\n",
       "    <tr>\n",
       "      <th>1</th>\n",
       "      <td>85099B</td>\n",
       "      <td>94983</td>\n",
       "    </tr>\n",
       "    <tr>\n",
       "      <th>2</th>\n",
       "      <td>85123A</td>\n",
       "      <td>93697</td>\n",
       "    </tr>\n",
       "    <tr>\n",
       "      <th>3</th>\n",
       "      <td>21212</td>\n",
       "      <td>91263</td>\n",
       "    </tr>\n",
       "    <tr>\n",
       "      <th>4</th>\n",
       "      <td>23843</td>\n",
       "      <td>80995</td>\n",
       "    </tr>\n",
       "    <tr>\n",
       "      <th>5</th>\n",
       "      <td>84879</td>\n",
       "      <td>79913</td>\n",
       "    </tr>\n",
       "    <tr>\n",
       "      <th>6</th>\n",
       "      <td>22197</td>\n",
       "      <td>77971</td>\n",
       "    </tr>\n",
       "    <tr>\n",
       "      <th>7</th>\n",
       "      <td>23166</td>\n",
       "      <td>77916</td>\n",
       "    </tr>\n",
       "    <tr>\n",
       "      <th>8</th>\n",
       "      <td>17003</td>\n",
       "      <td>71129</td>\n",
       "    </tr>\n",
       "    <tr>\n",
       "      <th>9</th>\n",
       "      <td>21977</td>\n",
       "      <td>55270</td>\n",
       "    </tr>\n",
       "  </tbody>\n",
       "</table>\n",
       "</div>"
      ],
      "text/plain": [
       "  StockCode  Quantity\n",
       "0     84077    109169\n",
       "1    85099B     94983\n",
       "2    85123A     93697\n",
       "3     21212     91263\n",
       "4     23843     80995\n",
       "5     84879     79913\n",
       "6     22197     77971\n",
       "7     23166     77916\n",
       "8     17003     71129\n",
       "9     21977     55270"
      ]
     },
     "execution_count": 27,
     "metadata": {},
     "output_type": "execute_result"
    }
   ],
   "source": [
    "df4=retail_df.groupby('StockCode').agg({'Quantity': 'sum'}) # Only sum the 'Quantity' column\n",
    "df4.sort_values(['Quantity'], ascending=False,inplace=True)\n",
    "df4.reset_index(inplace=True)\n",
    "df5=df4[['StockCode','Quantity']][:10]\n",
    "df5"
   ]
  },
  {
   "cell_type": "code",
   "execution_count": 28,
   "metadata": {
    "colab": {
     "base_uri": "https://localhost:8080/"
    },
    "id": "3kaHTtmp6N8j",
    "outputId": "7c2b1e23-165d-4588-e406-83f060f3711e"
   },
   "outputs": [
    {
     "data": {
      "text/plain": [
       "Text(0.5, 1.0, 'Top 10 StockCodes by quantity')"
      ]
     },
     "execution_count": 28,
     "metadata": {},
     "output_type": "execute_result"
    },
    {
     "data": {
      "image/png": "[encoded data removed]",
      "text/plain": [
       "<Figure size 1200x600 with 1 Axes>"
      ]
     },
     "metadata": {},
     "output_type": "display_data"
    }
   ],
   "source": [
    "# top 10 StockCodes by quantity\n",
    "plt.figure(figsize=(12,6))\n",
    "sns.set_palette('colorblind')\n",
    "sns.barplot(x=df5['Quantity'],y=df5['StockCode'])\n",
    "plt.title('Top 10 StockCodes by quantity')"
   ]
  },
  {
   "cell_type": "markdown",
   "metadata": {
    "id": "J7xWnHB16acT"
   },
   "source": [
    "### TOP 10 HIGHEST SPENDING CUSTOMERS"
   ]
  },
  {
   "cell_type": "code",
   "execution_count": 29,
   "metadata": {
    "colab": {
     "base_uri": "https://localhost:8080/"
    },
    "id": "1OWG2Gb66aP3",
    "outputId": "09241465-c98c-4110-a9ae-2e3c47269b16"
   },
   "outputs": [
    {
     "data": {
      "text/html": [
       "<div>\n",
       "<style scoped>\n",
       "    .dataframe tbody tr th:only-of-type {\n",
       "        vertical-align: middle;\n",
       "    }\n",
       "\n",
       "    .dataframe tbody tr th {\n",
       "        vertical-align: top;\n",
       "    }\n",
       "\n",
       "    .dataframe thead th {\n",
       "        text-align: right;\n",
       "    }\n",
       "</style>\n",
       "<table border=\"1\" class=\"dataframe\">\n",
       "  <thead>\n",
       "    <tr style=\"text-align: right;\">\n",
       "      <th></th>\n",
       "      <th>Customer ID</th>\n",
       "      <th>TotalAmount</th>\n",
       "    </tr>\n",
       "  </thead>\n",
       "  <tbody>\n",
       "    <tr>\n",
       "      <th>5692</th>\n",
       "      <td>18102.0</td>\n",
       "      <td>608821.65</td>\n",
       "    </tr>\n",
       "    <tr>\n",
       "      <th>2277</th>\n",
       "      <td>14646.0</td>\n",
       "      <td>528602.52</td>\n",
       "    </tr>\n",
       "    <tr>\n",
       "      <th>1789</th>\n",
       "      <td>14156.0</td>\n",
       "      <td>313946.37</td>\n",
       "    </tr>\n",
       "    <tr>\n",
       "      <th>2538</th>\n",
       "      <td>14911.0</td>\n",
       "      <td>295972.63</td>\n",
       "    </tr>\n",
       "    <tr>\n",
       "      <th>5050</th>\n",
       "      <td>17450.0</td>\n",
       "      <td>246973.09</td>\n",
       "    </tr>\n",
       "    <tr>\n",
       "      <th>1331</th>\n",
       "      <td>13694.0</td>\n",
       "      <td>196482.81</td>\n",
       "    </tr>\n",
       "    <tr>\n",
       "      <th>5109</th>\n",
       "      <td>17511.0</td>\n",
       "      <td>175603.55</td>\n",
       "    </tr>\n",
       "    <tr>\n",
       "      <th>4061</th>\n",
       "      <td>16446.0</td>\n",
       "      <td>168472.50</td>\n",
       "    </tr>\n",
       "    <tr>\n",
       "      <th>4295</th>\n",
       "      <td>16684.0</td>\n",
       "      <td>147142.77</td>\n",
       "    </tr>\n",
       "    <tr>\n",
       "      <th>68</th>\n",
       "      <td>12415.0</td>\n",
       "      <td>144458.37</td>\n",
       "    </tr>\n",
       "  </tbody>\n",
       "</table>\n",
       "</div>"
      ],
      "text/plain": [
       "      Customer ID  TotalAmount\n",
       "5692      18102.0    608821.65\n",
       "2277      14646.0    528602.52\n",
       "1789      14156.0    313946.37\n",
       "2538      14911.0    295972.63\n",
       "5050      17450.0    246973.09\n",
       "1331      13694.0    196482.81\n",
       "5109      17511.0    175603.55\n",
       "4061      16446.0    168472.50\n",
       "4295      16684.0    147142.77\n",
       "68        12415.0    144458.37"
      ]
     },
     "execution_count": 29,
     "metadata": {},
     "output_type": "execute_result"
    }
   ],
   "source": [
    "Top10Spending=retail_df.groupby('Customer ID')['TotalAmount'].sum().reset_index().sort_values('TotalAmount',ascending=False).head(10)\n",
    "Top10Spending"
   ]
  },
  {
   "cell_type": "code",
   "execution_count": 30,
   "metadata": {
    "colab": {
     "base_uri": "https://localhost:8080/"
    },
    "id": "AINqzuG66aK6",
    "outputId": "8deb5410-ef02-4223-ac32-66bf85f9ef77"
   },
   "outputs": [
    {
     "data": {
      "text/plain": [
       "Text(0.5, 1.0, 'Top 10 Spending Customers.')"
      ]
     },
     "execution_count": 30,
     "metadata": {},
     "output_type": "execute_result"
    },
    {
     "data": {
      "image/png": "[encoded data removed]",
      "text/plain": [
       "<Figure size 1800x600 with 1 Axes>"
      ]
     },
     "metadata": {},
     "output_type": "display_data"
    }
   ],
   "source": [
    "# Top 10 Spending Customers\n",
    "plt.figure(figsize=(18,6))\n",
    "sns.barplot(x=Top10Spending['Customer ID'],y=Top10Spending['TotalAmount'].head(10))\n",
    "plt.title('Top 10 Spending Customers.')"
   ]
  },
  {
   "cell_type": "code",
   "execution_count": 31,
   "metadata": {
    "id": "tFin_DY-yjLf"
   },
   "outputs": [],
   "source": [
    "# Convert Customer ID and TotalAmount to integers\n",
    "Top10Spending['Customer ID'] = Top10Spending['Customer ID'].astype(int)\n",
    "Top10Spending['TotalAmount'] = Top10Spending['TotalAmount'].astype(int)"
   ]
  },
  {
   "cell_type": "code",
   "execution_count": 32,
   "metadata": {
    "colab": {
     "base_uri": "https://localhost:8080/"
    },
    "id": "L7Iujc-By7gx",
    "outputId": "4b23592c-8737-403e-899e-b7bc0241b5d3"
   },
   "outputs": [
    {
     "data": {
      "text/html": [
       "<div>\n",
       "<style scoped>\n",
       "    .dataframe tbody tr th:only-of-type {\n",
       "        vertical-align: middle;\n",
       "    }\n",
       "\n",
       "    .dataframe tbody tr th {\n",
       "        vertical-align: top;\n",
       "    }\n",
       "\n",
       "    .dataframe thead th {\n",
       "        text-align: right;\n",
       "    }\n",
       "</style>\n",
       "<table border=\"1\" class=\"dataframe\">\n",
       "  <thead>\n",
       "    <tr style=\"text-align: right;\">\n",
       "      <th></th>\n",
       "      <th>Customer ID</th>\n",
       "      <th>TotalAmount</th>\n",
       "    </tr>\n",
       "  </thead>\n",
       "  <tbody>\n",
       "    <tr>\n",
       "      <th>5692</th>\n",
       "      <td>18102</td>\n",
       "      <td>608821</td>\n",
       "    </tr>\n",
       "    <tr>\n",
       "      <th>2277</th>\n",
       "      <td>14646</td>\n",
       "      <td>528602</td>\n",
       "    </tr>\n",
       "    <tr>\n",
       "      <th>1789</th>\n",
       "      <td>14156</td>\n",
       "      <td>313946</td>\n",
       "    </tr>\n",
       "    <tr>\n",
       "      <th>2538</th>\n",
       "      <td>14911</td>\n",
       "      <td>295972</td>\n",
       "    </tr>\n",
       "    <tr>\n",
       "      <th>5050</th>\n",
       "      <td>17450</td>\n",
       "      <td>246973</td>\n",
       "    </tr>\n",
       "    <tr>\n",
       "      <th>1331</th>\n",
       "      <td>13694</td>\n",
       "      <td>196482</td>\n",
       "    </tr>\n",
       "    <tr>\n",
       "      <th>5109</th>\n",
       "      <td>17511</td>\n",
       "      <td>175603</td>\n",
       "    </tr>\n",
       "    <tr>\n",
       "      <th>4061</th>\n",
       "      <td>16446</td>\n",
       "      <td>168472</td>\n",
       "    </tr>\n",
       "    <tr>\n",
       "      <th>4295</th>\n",
       "      <td>16684</td>\n",
       "      <td>147142</td>\n",
       "    </tr>\n",
       "    <tr>\n",
       "      <th>68</th>\n",
       "      <td>12415</td>\n",
       "      <td>144458</td>\n",
       "    </tr>\n",
       "  </tbody>\n",
       "</table>\n",
       "</div>"
      ],
      "text/plain": [
       "      Customer ID  TotalAmount\n",
       "5692        18102       608821\n",
       "2277        14646       528602\n",
       "1789        14156       313946\n",
       "2538        14911       295972\n",
       "5050        17450       246973\n",
       "1331        13694       196482\n",
       "5109        17511       175603\n",
       "4061        16446       168472\n",
       "4295        16684       147142\n",
       "68          12415       144458"
      ]
     },
     "execution_count": 32,
     "metadata": {},
     "output_type": "execute_result"
    }
   ],
   "source": [
    "Top10Spending"
   ]
  },
  {
   "cell_type": "code",
   "execution_count": 33,
   "metadata": {
    "colab": {
     "base_uri": "https://localhost:8080/"
    },
    "id": "9O6uD-wdx6uD",
    "outputId": "406d9858-b5b9-40ee-a8cd-fd23f7e6734c"
   },
   "outputs": [
    {
     "data": {
      "image/png": "[encoded data removed]",
      "text/plain": [
       "<Figure size 1800x600 with 1 Axes>"
      ]
     },
     "metadata": {},
     "output_type": "display_data"
    }
   ],
   "source": [
    "plt.figure(figsize=(18, 6))\n",
    "sns.barplot(x='Customer ID', y='TotalAmount', data=Top10Spending, palette='viridis',order=Top10Spending['Customer ID'])\n",
    "plt.title('Top 10 Spending Customers', fontsize=18)\n",
    "plt.xlabel('Customer ID', fontsize=12)\n",
    "plt.ylabel('Total Amount Spent in Pound Sterling (£)', fontsize=12)\n",
    "plt.xticks(rotation=45, ha='right')\n",
    "plt.grid(axis='y', linestyle='--', alpha=0.7)  # Adding grid\n",
    "plt.tight_layout()\n",
    "plt.show()"
   ]
  },
  {
   "cell_type": "markdown",
   "metadata": {
    "id": "mSpM9fb_6fvA"
   },
   "source": [
    "### TOP 10 MOST FREQUENT CUSTOMERS"
   ]
  },
  {
   "cell_type": "code",
   "execution_count": 34,
   "metadata": {
    "colab": {
     "base_uri": "https://localhost:8080/"
    },
    "id": "UPODNIbR6QEN",
    "outputId": "de1cbad3-5857-4fde-bb7f-d6e6df6e7f17"
   },
   "outputs": [
    {
     "data": {
      "text/html": [
       "<div>\n",
       "<style scoped>\n",
       "    .dataframe tbody tr th:only-of-type {\n",
       "        vertical-align: middle;\n",
       "    }\n",
       "\n",
       "    .dataframe tbody tr th {\n",
       "        vertical-align: top;\n",
       "    }\n",
       "\n",
       "    .dataframe thead th {\n",
       "        text-align: right;\n",
       "    }\n",
       "</style>\n",
       "<table border=\"1\" class=\"dataframe\">\n",
       "  <thead>\n",
       "    <tr style=\"text-align: right;\">\n",
       "      <th></th>\n",
       "      <th>Frequency</th>\n",
       "      <th>count</th>\n",
       "    </tr>\n",
       "  </thead>\n",
       "  <tbody>\n",
       "    <tr>\n",
       "      <th>0</th>\n",
       "      <td>17841.0</td>\n",
       "      <td>12890</td>\n",
       "    </tr>\n",
       "    <tr>\n",
       "      <th>1</th>\n",
       "      <td>14911.0</td>\n",
       "      <td>11245</td>\n",
       "    </tr>\n",
       "    <tr>\n",
       "      <th>2</th>\n",
       "      <td>12748.0</td>\n",
       "      <td>7228</td>\n",
       "    </tr>\n",
       "    <tr>\n",
       "      <th>3</th>\n",
       "      <td>14606.0</td>\n",
       "      <td>6566</td>\n",
       "    </tr>\n",
       "    <tr>\n",
       "      <th>4</th>\n",
       "      <td>14096.0</td>\n",
       "      <td>5111</td>\n",
       "    </tr>\n",
       "    <tr>\n",
       "      <th>5</th>\n",
       "      <td>15311.0</td>\n",
       "      <td>4434</td>\n",
       "    </tr>\n",
       "    <tr>\n",
       "      <th>6</th>\n",
       "      <td>14156.0</td>\n",
       "      <td>4048</td>\n",
       "    </tr>\n",
       "    <tr>\n",
       "      <th>7</th>\n",
       "      <td>14646.0</td>\n",
       "      <td>3849</td>\n",
       "    </tr>\n",
       "    <tr>\n",
       "      <th>8</th>\n",
       "      <td>13089.0</td>\n",
       "      <td>3362</td>\n",
       "    </tr>\n",
       "    <tr>\n",
       "      <th>9</th>\n",
       "      <td>16549.0</td>\n",
       "      <td>3250</td>\n",
       "    </tr>\n",
       "  </tbody>\n",
       "</table>\n",
       "</div>"
      ],
      "text/plain": [
       "   Frequency  count\n",
       "0    17841.0  12890\n",
       "1    14911.0  11245\n",
       "2    12748.0   7228\n",
       "3    14606.0   6566\n",
       "4    14096.0   5111\n",
       "5    15311.0   4434\n",
       "6    14156.0   4048\n",
       "7    14646.0   3849\n",
       "8    13089.0   3362\n",
       "9    16549.0   3250"
      ]
     },
     "execution_count": 34,
     "metadata": {},
     "output_type": "execute_result"
    }
   ],
   "source": [
    "Top10Frequent=retail_df['Customer ID'].value_counts().reset_index().rename(columns={'index':'Customer ID','Customer ID':'Frequency'}).head(10)\n",
    "Top10Frequent"
   ]
  },
  {
   "cell_type": "markdown",
   "metadata": {
    "id": "bqQGA6WT6kmd"
   },
   "source": [
    "We observe that both lists have 3 Customer IDs common imptlying most frequent customers tend to be the most spending customers"
   ]
  },
  {
   "cell_type": "markdown",
   "metadata": {
    "id": "taEJ2QcK6mrt"
   },
   "source": [
    "### TOP 10 CUSTOMERS BY AVERAGE ORDER AMOUNT"
   ]
  },
  {
   "cell_type": "code",
   "execution_count": 35,
   "metadata": {
    "id": "Y6Yjj9Nr6mIB"
   },
   "outputs": [],
   "source": [
    "avg_amount=retail_df.groupby('Customer ID')['TotalAmount'].mean().reset_index().rename(columns={'TotalAmount':'Avg_amount_per_customer'}).sort_values('Avg_amount_per_customer',ascending=False).head(10)"
   ]
  },
  {
   "cell_type": "code",
   "execution_count": 36,
   "metadata": {
    "colab": {
     "base_uri": "https://localhost:8080/"
    },
    "id": "i08H6NGV6i83",
    "outputId": "b94b6632-cccf-45bc-df1d-38f5dde7f8b9"
   },
   "outputs": [
    {
     "data": {
      "text/html": [
       "<div>\n",
       "<style scoped>\n",
       "    .dataframe tbody tr th:only-of-type {\n",
       "        vertical-align: middle;\n",
       "    }\n",
       "\n",
       "    .dataframe tbody tr th {\n",
       "        vertical-align: top;\n",
       "    }\n",
       "\n",
       "    .dataframe thead th {\n",
       "        text-align: right;\n",
       "    }\n",
       "</style>\n",
       "<table border=\"1\" class=\"dataframe\">\n",
       "  <thead>\n",
       "    <tr style=\"text-align: right;\">\n",
       "      <th></th>\n",
       "      <th>Customer ID</th>\n",
       "      <th>Avg_amount_per_customer</th>\n",
       "    </tr>\n",
       "  </thead>\n",
       "  <tbody>\n",
       "    <tr>\n",
       "      <th>4061</th>\n",
       "      <td>16446.0</td>\n",
       "      <td>56157.500000</td>\n",
       "    </tr>\n",
       "    <tr>\n",
       "      <th>2722</th>\n",
       "      <td>15098.0</td>\n",
       "      <td>13305.500000</td>\n",
       "    </tr>\n",
       "    <tr>\n",
       "      <th>569</th>\n",
       "      <td>12918.0</td>\n",
       "      <td>10953.500000</td>\n",
       "    </tr>\n",
       "    <tr>\n",
       "      <th>3382</th>\n",
       "      <td>15760.0</td>\n",
       "      <td>6958.170000</td>\n",
       "    </tr>\n",
       "    <tr>\n",
       "      <th>3371</th>\n",
       "      <td>15749.0</td>\n",
       "      <td>4453.430000</td>\n",
       "    </tr>\n",
       "    <tr>\n",
       "      <th>2819</th>\n",
       "      <td>15195.0</td>\n",
       "      <td>3861.000000</td>\n",
       "    </tr>\n",
       "    <tr>\n",
       "      <th>854</th>\n",
       "      <td>13205.0</td>\n",
       "      <td>2803.200000</td>\n",
       "    </tr>\n",
       "    <tr>\n",
       "      <th>0</th>\n",
       "      <td>12346.0</td>\n",
       "      <td>2281.072353</td>\n",
       "    </tr>\n",
       "    <tr>\n",
       "      <th>5438</th>\n",
       "      <td>17846.0</td>\n",
       "      <td>2033.100000</td>\n",
       "    </tr>\n",
       "    <tr>\n",
       "      <th>2826</th>\n",
       "      <td>15202.0</td>\n",
       "      <td>2000.496667</td>\n",
       "    </tr>\n",
       "  </tbody>\n",
       "</table>\n",
       "</div>"
      ],
      "text/plain": [
       "      Customer ID  Avg_amount_per_customer\n",
       "4061      16446.0             56157.500000\n",
       "2722      15098.0             13305.500000\n",
       "569       12918.0             10953.500000\n",
       "3382      15760.0              6958.170000\n",
       "3371      15749.0              4453.430000\n",
       "2819      15195.0              3861.000000\n",
       "854       13205.0              2803.200000\n",
       "0         12346.0              2281.072353\n",
       "5438      17846.0              2033.100000\n",
       "2826      15202.0              2000.496667"
      ]
     },
     "execution_count": 36,
     "metadata": {},
     "output_type": "execute_result"
    }
   ],
   "source": [
    "avg_amount"
   ]
  },
  {
   "cell_type": "code",
   "execution_count": 37,
   "metadata": {
    "colab": {
     "base_uri": "https://localhost:8080/"
    },
    "id": "zYKB_i1A6qbN",
    "outputId": "426429ab-5465-44d7-d70c-70b8bdce2b05"
   },
   "outputs": [
    {
     "data": {
      "text/plain": [
       "Text(0.5, 1.0, 'Average amount spent by each Customer')"
      ]
     },
     "execution_count": 37,
     "metadata": {},
     "output_type": "execute_result"
    },
    {
     "data": {
      "image/png": "[encoded data removed]",
      "text/plain": [
       "<Figure size 1200x600 with 1 Axes>"
      ]
     },
     "metadata": {},
     "output_type": "display_data"
    }
   ],
   "source": [
    "plt.figure(figsize=(12,6))\n",
    "sns.barplot(x=avg_amount['Customer ID'].head(5),y=avg_amount['Avg_amount_per_customer'].head(15))\n",
    "plt.title('Average amount spent by each Customer')"
   ]
  },
  {
   "cell_type": "markdown",
   "metadata": {
    "id": "sJL9pCXV6xsc"
   },
   "source": [
    "### TOP COUNTRIES CONTRIBUTING HIGHEST REVENUE TO THE STORE"
   ]
  },
  {
   "cell_type": "code",
   "execution_count": 38,
   "metadata": {
    "colab": {
     "base_uri": "https://localhost:8080/"
    },
    "id": "jh5Psggb6vRP",
    "outputId": "da967ea8-fdf2-4fb6-9cb3-aae1f330f89e"
   },
   "outputs": [
    {
     "data": {
      "text/html": [
       "<div>\n",
       "<style scoped>\n",
       "    .dataframe tbody tr th:only-of-type {\n",
       "        vertical-align: middle;\n",
       "    }\n",
       "\n",
       "    .dataframe tbody tr th {\n",
       "        vertical-align: top;\n",
       "    }\n",
       "\n",
       "    .dataframe thead th {\n",
       "        text-align: right;\n",
       "    }\n",
       "</style>\n",
       "<table border=\"1\" class=\"dataframe\">\n",
       "  <thead>\n",
       "    <tr style=\"text-align: right;\">\n",
       "      <th></th>\n",
       "      <th>Country</th>\n",
       "      <th>TotalAmount</th>\n",
       "    </tr>\n",
       "  </thead>\n",
       "  <tbody>\n",
       "    <tr>\n",
       "      <th>38</th>\n",
       "      <td>United Kingdom</td>\n",
       "      <td>1.472315e+07</td>\n",
       "    </tr>\n",
       "    <tr>\n",
       "      <th>10</th>\n",
       "      <td>EIRE</td>\n",
       "      <td>6.216311e+05</td>\n",
       "    </tr>\n",
       "    <tr>\n",
       "      <th>24</th>\n",
       "      <td>Netherlands</td>\n",
       "      <td>5.542323e+05</td>\n",
       "    </tr>\n",
       "    <tr>\n",
       "      <th>14</th>\n",
       "      <td>Germany</td>\n",
       "      <td>4.312625e+05</td>\n",
       "    </tr>\n",
       "    <tr>\n",
       "      <th>13</th>\n",
       "      <td>France</td>\n",
       "      <td>3.552575e+05</td>\n",
       "    </tr>\n",
       "    <tr>\n",
       "      <th>0</th>\n",
       "      <td>Australia</td>\n",
       "      <td>1.699681e+05</td>\n",
       "    </tr>\n",
       "    <tr>\n",
       "      <th>32</th>\n",
       "      <td>Spain</td>\n",
       "      <td>1.091785e+05</td>\n",
       "    </tr>\n",
       "    <tr>\n",
       "      <th>34</th>\n",
       "      <td>Switzerland</td>\n",
       "      <td>1.003653e+05</td>\n",
       "    </tr>\n",
       "    <tr>\n",
       "      <th>33</th>\n",
       "      <td>Sweden</td>\n",
       "      <td>9.154972e+04</td>\n",
       "    </tr>\n",
       "    <tr>\n",
       "      <th>9</th>\n",
       "      <td>Denmark</td>\n",
       "      <td>6.986219e+04</td>\n",
       "    </tr>\n",
       "    <tr>\n",
       "      <th>3</th>\n",
       "      <td>Belgium</td>\n",
       "      <td>6.575342e+04</td>\n",
       "    </tr>\n",
       "    <tr>\n",
       "      <th>26</th>\n",
       "      <td>Norway</td>\n",
       "      <td>6.010962e+04</td>\n",
       "    </tr>\n",
       "    <tr>\n",
       "      <th>28</th>\n",
       "      <td>Portugal</td>\n",
       "      <td>5.728530e+04</td>\n",
       "    </tr>\n",
       "    <tr>\n",
       "      <th>19</th>\n",
       "      <td>Japan</td>\n",
       "      <td>4.713839e+04</td>\n",
       "    </tr>\n",
       "    <tr>\n",
       "      <th>6</th>\n",
       "      <td>Channel Islands</td>\n",
       "      <td>4.499676e+04</td>\n",
       "    </tr>\n",
       "    <tr>\n",
       "      <th>18</th>\n",
       "      <td>Italy</td>\n",
       "      <td>3.255042e+04</td>\n",
       "    </tr>\n",
       "    <tr>\n",
       "      <th>12</th>\n",
       "      <td>Finland</td>\n",
       "      <td>2.992554e+04</td>\n",
       "    </tr>\n",
       "    <tr>\n",
       "      <th>31</th>\n",
       "      <td>Singapore</td>\n",
       "      <td>2.531706e+04</td>\n",
       "    </tr>\n",
       "    <tr>\n",
       "      <th>7</th>\n",
       "      <td>Cyprus</td>\n",
       "      <td>2.498013e+04</td>\n",
       "    </tr>\n",
       "    <tr>\n",
       "      <th>1</th>\n",
       "      <td>Austria</td>\n",
       "      <td>2.361301e+04</td>\n",
       "    </tr>\n",
       "    <tr>\n",
       "      <th>15</th>\n",
       "      <td>Greece</td>\n",
       "      <td>1.909619e+04</td>\n",
       "    </tr>\n",
       "    <tr>\n",
       "      <th>27</th>\n",
       "      <td>Poland</td>\n",
       "      <td>1.090245e+04</td>\n",
       "    </tr>\n",
       "    <tr>\n",
       "      <th>17</th>\n",
       "      <td>Israel</td>\n",
       "      <td>1.042109e+04</td>\n",
       "    </tr>\n",
       "    <tr>\n",
       "      <th>37</th>\n",
       "      <td>United Arab Emirates</td>\n",
       "      <td>9.202690e+03</td>\n",
       "    </tr>\n",
       "    <tr>\n",
       "      <th>39</th>\n",
       "      <td>Unspecified</td>\n",
       "      <td>8.613650e+03</td>\n",
       "    </tr>\n",
       "    <tr>\n",
       "      <th>36</th>\n",
       "      <td>USA</td>\n",
       "      <td>8.366860e+03</td>\n",
       "    </tr>\n",
       "    <tr>\n",
       "      <th>23</th>\n",
       "      <td>Malta</td>\n",
       "      <td>8.099090e+03</td>\n",
       "    </tr>\n",
       "    <tr>\n",
       "      <th>22</th>\n",
       "      <td>Lithuania</td>\n",
       "      <td>6.553740e+03</td>\n",
       "    </tr>\n",
       "    <tr>\n",
       "      <th>16</th>\n",
       "      <td>Iceland</td>\n",
       "      <td>5.633320e+03</td>\n",
       "    </tr>\n",
       "    <tr>\n",
       "      <th>5</th>\n",
       "      <td>Canada</td>\n",
       "      <td>4.883040e+03</td>\n",
       "    </tr>\n",
       "    <tr>\n",
       "      <th>35</th>\n",
       "      <td>Thailand</td>\n",
       "      <td>3.070540e+03</td>\n",
       "    </tr>\n",
       "    <tr>\n",
       "      <th>29</th>\n",
       "      <td>RSA</td>\n",
       "      <td>1.933740e+03</td>\n",
       "    </tr>\n",
       "    <tr>\n",
       "      <th>21</th>\n",
       "      <td>Lebanon</td>\n",
       "      <td>1.693880e+03</td>\n",
       "    </tr>\n",
       "    <tr>\n",
       "      <th>4</th>\n",
       "      <td>Brazil</td>\n",
       "      <td>1.411870e+03</td>\n",
       "    </tr>\n",
       "    <tr>\n",
       "      <th>2</th>\n",
       "      <td>Bahrain</td>\n",
       "      <td>1.354370e+03</td>\n",
       "    </tr>\n",
       "    <tr>\n",
       "      <th>11</th>\n",
       "      <td>European Community</td>\n",
       "      <td>1.300250e+03</td>\n",
       "    </tr>\n",
       "    <tr>\n",
       "      <th>20</th>\n",
       "      <td>Korea</td>\n",
       "      <td>1.118510e+03</td>\n",
       "    </tr>\n",
       "    <tr>\n",
       "      <th>8</th>\n",
       "      <td>Czech Republic</td>\n",
       "      <td>8.267400e+02</td>\n",
       "    </tr>\n",
       "    <tr>\n",
       "      <th>40</th>\n",
       "      <td>West Indies</td>\n",
       "      <td>5.364100e+02</td>\n",
       "    </tr>\n",
       "    <tr>\n",
       "      <th>30</th>\n",
       "      <td>Saudi Arabia</td>\n",
       "      <td>1.459200e+02</td>\n",
       "    </tr>\n",
       "    <tr>\n",
       "      <th>25</th>\n",
       "      <td>Nigeria</td>\n",
       "      <td>1.403900e+02</td>\n",
       "    </tr>\n",
       "  </tbody>\n",
       "</table>\n",
       "</div>"
      ],
      "text/plain": [
       "                 Country   TotalAmount\n",
       "38        United Kingdom  1.472315e+07\n",
       "10                  EIRE  6.216311e+05\n",
       "24           Netherlands  5.542323e+05\n",
       "14               Germany  4.312625e+05\n",
       "13                France  3.552575e+05\n",
       "0              Australia  1.699681e+05\n",
       "32                 Spain  1.091785e+05\n",
       "34           Switzerland  1.003653e+05\n",
       "33                Sweden  9.154972e+04\n",
       "9                Denmark  6.986219e+04\n",
       "3                Belgium  6.575342e+04\n",
       "26                Norway  6.010962e+04\n",
       "28              Portugal  5.728530e+04\n",
       "19                 Japan  4.713839e+04\n",
       "6        Channel Islands  4.499676e+04\n",
       "18                 Italy  3.255042e+04\n",
       "12               Finland  2.992554e+04\n",
       "31             Singapore  2.531706e+04\n",
       "7                 Cyprus  2.498013e+04\n",
       "1                Austria  2.361301e+04\n",
       "15                Greece  1.909619e+04\n",
       "27                Poland  1.090245e+04\n",
       "17                Israel  1.042109e+04\n",
       "37  United Arab Emirates  9.202690e+03\n",
       "39           Unspecified  8.613650e+03\n",
       "36                   USA  8.366860e+03\n",
       "23                 Malta  8.099090e+03\n",
       "22             Lithuania  6.553740e+03\n",
       "16               Iceland  5.633320e+03\n",
       "5                 Canada  4.883040e+03\n",
       "35              Thailand  3.070540e+03\n",
       "29                   RSA  1.933740e+03\n",
       "21               Lebanon  1.693880e+03\n",
       "4                 Brazil  1.411870e+03\n",
       "2                Bahrain  1.354370e+03\n",
       "11    European Community  1.300250e+03\n",
       "20                 Korea  1.118510e+03\n",
       "8         Czech Republic  8.267400e+02\n",
       "40           West Indies  5.364100e+02\n",
       "30          Saudi Arabia  1.459200e+02\n",
       "25               Nigeria  1.403900e+02"
      ]
     },
     "execution_count": 38,
     "metadata": {},
     "output_type": "execute_result"
    }
   ],
   "source": [
    "TopCountries=retail_df.groupby('Country')['TotalAmount'].sum().reset_index().sort_values('TotalAmount',ascending=False)\n",
    "TopCountries"
   ]
  },
  {
   "cell_type": "code",
   "execution_count": 39,
   "metadata": {
    "colab": {
     "base_uri": "https://localhost:8080/"
    },
    "id": "N1HFJOnM6z_R",
    "outputId": "2c27cbdb-ffae-41ed-d5ae-0f0514a43bfa"
   },
   "outputs": [
    {
     "data": {
      "text/plain": [
       "Text(0.5, 1.0, 'Top 5 Countries based on highest store revenue contributions')"
      ]
     },
     "execution_count": 39,
     "metadata": {},
     "output_type": "execute_result"
    },
    {
     "data": {
      "image/png": "[encoded data removed]",
      "text/plain": [
       "<Figure size 1500x600 with 1 Axes>"
      ]
     },
     "metadata": {},
     "output_type": "display_data"
    }
   ],
   "source": [
    "# top 5 countries where maximum sale happens.\n",
    "plt.figure(figsize=(15,6))\n",
    "sns.barplot(x=TopCountries['Country'].head(5),y=TopCountries['TotalAmount'].head(5))\n",
    "plt.title('Top 5 Countries based on highest store revenue contributions')"
   ]
  },
  {
   "cell_type": "markdown",
   "metadata": {
    "id": "TmUX03xo63oL"
   },
   "source": [
    "UK contributes most revenue to the store\n",
    "\n",
    "European countries like Germany, France, Netherlands, EIRE contribute significant revenue to the store"
   ]
  },
  {
   "cell_type": "code",
   "execution_count": 40,
   "metadata": {
    "colab": {
     "base_uri": "https://localhost:8080/"
    },
    "id": "wabne-nz63b-",
    "outputId": "902dba96-938c-4119-aa31-7388c13e489d"
   },
   "outputs": [
    {
     "data": {
      "text/plain": [
       "Text(0.5, 1.0, 'Top 5 Countries based on last store revenue contributors ')"
      ]
     },
     "execution_count": 40,
     "metadata": {},
     "output_type": "execute_result"
    },
    {
     "data": {
      "image/png": "[encoded data removed]",
      "text/plain": [
       "<Figure size 1500x600 with 1 Axes>"
      ]
     },
     "metadata": {},
     "output_type": "display_data"
    }
   ],
   "source": [
    "# top 5 countries where least sell happens.\n",
    "plt.figure(figsize=(15,6))\n",
    "sns.barplot(x=TopCountries['Country'].tail(5),y=TopCountries['TotalAmount'].tail(5))\n",
    "plt.title('Top 5 Countries based on last store revenue contributors ')"
   ]
  },
  {
   "cell_type": "markdown",
   "metadata": {
    "id": "6qWZseNF69RJ"
   },
   "source": [
    "### Countries contributing least to the store revenue are non european countries"
   ]
  },
  {
   "cell_type": "code",
   "execution_count": 41,
   "metadata": {
    "colab": {
     "base_uri": "https://localhost:8080/"
    },
    "id": "jsksbzyr61zV",
    "outputId": "2a31134d-24d1-426c-cd0e-72904f565d69"
   },
   "outputs": [
    {
     "data": {
      "text/html": [
       "<div>\n",
       "<style scoped>\n",
       "    .dataframe tbody tr th:only-of-type {\n",
       "        vertical-align: middle;\n",
       "    }\n",
       "\n",
       "    .dataframe tbody tr th {\n",
       "        vertical-align: top;\n",
       "    }\n",
       "\n",
       "    .dataframe thead th {\n",
       "        text-align: right;\n",
       "    }\n",
       "</style>\n",
       "<table border=\"1\" class=\"dataframe\">\n",
       "  <thead>\n",
       "    <tr style=\"text-align: right;\">\n",
       "      <th></th>\n",
       "      <th>Month</th>\n",
       "      <th>TotalAmount</th>\n",
       "    </tr>\n",
       "  </thead>\n",
       "  <tbody>\n",
       "    <tr>\n",
       "      <th>9</th>\n",
       "      <td>November</td>\n",
       "      <td>2334153.422</td>\n",
       "    </tr>\n",
       "    <tr>\n",
       "      <th>2</th>\n",
       "      <td>December</td>\n",
       "      <td>2089456.840</td>\n",
       "    </tr>\n",
       "    <tr>\n",
       "      <th>10</th>\n",
       "      <td>October</td>\n",
       "      <td>2075998.790</td>\n",
       "    </tr>\n",
       "    <tr>\n",
       "      <th>11</th>\n",
       "      <td>September</td>\n",
       "      <td>1784453.383</td>\n",
       "    </tr>\n",
       "    <tr>\n",
       "      <th>6</th>\n",
       "      <td>June</td>\n",
       "      <td>1300280.270</td>\n",
       "    </tr>\n",
       "    <tr>\n",
       "      <th>7</th>\n",
       "      <td>March</td>\n",
       "      <td>1295109.751</td>\n",
       "    </tr>\n",
       "    <tr>\n",
       "      <th>8</th>\n",
       "      <td>May</td>\n",
       "      <td>1278580.350</td>\n",
       "    </tr>\n",
       "    <tr>\n",
       "      <th>1</th>\n",
       "      <td>August</td>\n",
       "      <td>1249586.550</td>\n",
       "    </tr>\n",
       "    <tr>\n",
       "      <th>5</th>\n",
       "      <td>July</td>\n",
       "      <td>1191727.751</td>\n",
       "    </tr>\n",
       "    <tr>\n",
       "      <th>4</th>\n",
       "      <td>January</td>\n",
       "      <td>1126764.102</td>\n",
       "    </tr>\n",
       "    <tr>\n",
       "      <th>0</th>\n",
       "      <td>April</td>\n",
       "      <td>1063809.553</td>\n",
       "    </tr>\n",
       "    <tr>\n",
       "      <th>3</th>\n",
       "      <td>February</td>\n",
       "      <td>953508.416</td>\n",
       "    </tr>\n",
       "  </tbody>\n",
       "</table>\n",
       "</div>"
      ],
      "text/plain": [
       "        Month  TotalAmount\n",
       "9    November  2334153.422\n",
       "2    December  2089456.840\n",
       "10    October  2075998.790\n",
       "11  September  1784453.383\n",
       "6        June  1300280.270\n",
       "7       March  1295109.751\n",
       "8         May  1278580.350\n",
       "1      August  1249586.550\n",
       "5        July  1191727.751\n",
       "4     January  1126764.102\n",
       "0       April  1063809.553\n",
       "3    February   953508.416"
      ]
     },
     "execution_count": 41,
     "metadata": {},
     "output_type": "execute_result"
    }
   ],
   "source": [
    "SalesbyMonth=retail_df.groupby('Month')['TotalAmount'].sum().reset_index().sort_values('TotalAmount',ascending=False)\n",
    "SalesbyMonth"
   ]
  },
  {
   "cell_type": "code",
   "execution_count": 42,
   "metadata": {
    "colab": {
     "base_uri": "https://localhost:8080/"
    },
    "id": "CIhEGWKM6-m8",
    "outputId": "9fd0077b-c49a-403a-e839-f18dea8a5511"
   },
   "outputs": [
    {
     "data": {
      "text/plain": [
       "Text(0.5, 1.0, 'Sales in different Months ')"
      ]
     },
     "execution_count": 42,
     "metadata": {},
     "output_type": "execute_result"
    },
    {
     "data": {
      "image/png": "[encoded data removed]",
      "text/plain": [
       "<Figure size 2000x600 with 1 Axes>"
      ]
     },
     "metadata": {},
     "output_type": "display_data"
    }
   ],
   "source": [
    "# Sales different months.\n",
    "plt.figure(figsize=(20,6))\n",
    "sns.barplot(x=SalesbyMonth['Month'],y=SalesbyMonth['TotalAmount'])\n",
    "plt.title('Sales in different Months ')"
   ]
  },
  {
   "cell_type": "markdown",
   "metadata": {
    "id": "x7xmjg_87CRa"
   },
   "source": [
    "Highest sales happened in the month of November (Eve of Holiday Season) while least sale happened in the month of February"
   ]
  },
  {
   "cell_type": "code",
   "execution_count": 43,
   "metadata": {
    "colab": {
     "base_uri": "https://localhost:8080/"
    },
    "id": "aJiWiNTM7AF3",
    "outputId": "30c88610-349c-4fec-a915-4836dc356932"
   },
   "outputs": [
    {
     "data": {
      "text/html": [
       "<div>\n",
       "<style scoped>\n",
       "    .dataframe tbody tr th:only-of-type {\n",
       "        vertical-align: middle;\n",
       "    }\n",
       "\n",
       "    .dataframe tbody tr th {\n",
       "        vertical-align: top;\n",
       "    }\n",
       "\n",
       "    .dataframe thead th {\n",
       "        text-align: right;\n",
       "    }\n",
       "</style>\n",
       "<table border=\"1\" class=\"dataframe\">\n",
       "  <thead>\n",
       "    <tr style=\"text-align: right;\">\n",
       "      <th></th>\n",
       "      <th>Day</th>\n",
       "      <th>TotalAmount</th>\n",
       "    </tr>\n",
       "  </thead>\n",
       "  <tbody>\n",
       "    <tr>\n",
       "      <th>4</th>\n",
       "      <td>Thursday</td>\n",
       "      <td>3841082.962</td>\n",
       "    </tr>\n",
       "    <tr>\n",
       "      <th>5</th>\n",
       "      <td>Tuesday</td>\n",
       "      <td>3384678.832</td>\n",
       "    </tr>\n",
       "    <tr>\n",
       "      <th>6</th>\n",
       "      <td>Wednesday</td>\n",
       "      <td>3115619.693</td>\n",
       "    </tr>\n",
       "    <tr>\n",
       "      <th>1</th>\n",
       "      <td>Monday</td>\n",
       "      <td>2817407.806</td>\n",
       "    </tr>\n",
       "    <tr>\n",
       "      <th>0</th>\n",
       "      <td>Friday</td>\n",
       "      <td>2758423.493</td>\n",
       "    </tr>\n",
       "    <tr>\n",
       "      <th>3</th>\n",
       "      <td>Sunday</td>\n",
       "      <td>1816413.342</td>\n",
       "    </tr>\n",
       "    <tr>\n",
       "      <th>2</th>\n",
       "      <td>Saturday</td>\n",
       "      <td>9803.050</td>\n",
       "    </tr>\n",
       "  </tbody>\n",
       "</table>\n",
       "</div>"
      ],
      "text/plain": [
       "         Day  TotalAmount\n",
       "4   Thursday  3841082.962\n",
       "5    Tuesday  3384678.832\n",
       "6  Wednesday  3115619.693\n",
       "1     Monday  2817407.806\n",
       "0     Friday  2758423.493\n",
       "3     Sunday  1816413.342\n",
       "2   Saturday     9803.050"
      ]
     },
     "execution_count": 43,
     "metadata": {},
     "output_type": "execute_result"
    }
   ],
   "source": [
    "sales_on_day_basis=retail_df.groupby('Day')['TotalAmount'].sum().reset_index().sort_values('TotalAmount',ascending=False)\n",
    "sales_on_day_basis"
   ]
  },
  {
   "cell_type": "code",
   "execution_count": 44,
   "metadata": {
    "colab": {
     "base_uri": "https://localhost:8080/"
    },
    "id": "NAWwknEM7EES",
    "outputId": "7f07452a-ce95-4e9c-8dc4-f9d871bdb387"
   },
   "outputs": [
    {
     "data": {
      "text/plain": [
       "Text(0.5, 1.0, 'Sales on different Days ')"
      ]
     },
     "execution_count": 44,
     "metadata": {},
     "output_type": "execute_result"
    },
    {
     "data": {
      "image/png": "[encoded data removed]",
      "text/plain": [
       "<Figure size 2000x600 with 1 Axes>"
      ]
     },
     "metadata": {},
     "output_type": "display_data"
    }
   ],
   "source": [
    "# Sales on different days.\n",
    "plt.figure(figsize=(20,6))\n",
    "sns.barplot(x=sales_on_day_basis['Day'],y=sales_on_day_basis['TotalAmount'])\n",
    "plt.title('Sales on different Days ')"
   ]
  },
  {
   "cell_type": "markdown",
   "metadata": {
    "id": "54Du6b_I7HH2"
   },
   "source": [
    "Sale on Thursdays is very high\n",
    "\n",
    "Sale on Saturdays is very low"
   ]
  },
  {
   "cell_type": "code",
   "execution_count": 45,
   "metadata": {
    "colab": {
     "base_uri": "https://localhost:8080/"
    },
    "id": "DEHZojhB7FZ0",
    "outputId": "0a38e84a-b165-48d8-c8dd-48b815c840df"
   },
   "outputs": [
    {
     "data": {
      "text/html": [
       "<div>\n",
       "<style scoped>\n",
       "    .dataframe tbody tr th:only-of-type {\n",
       "        vertical-align: middle;\n",
       "    }\n",
       "\n",
       "    .dataframe tbody tr th {\n",
       "        vertical-align: top;\n",
       "    }\n",
       "\n",
       "    .dataframe thead th {\n",
       "        text-align: right;\n",
       "    }\n",
       "</style>\n",
       "<table border=\"1\" class=\"dataframe\">\n",
       "  <thead>\n",
       "    <tr style=\"text-align: right;\">\n",
       "      <th></th>\n",
       "      <th>Day</th>\n",
       "      <th>Sale_count</th>\n",
       "    </tr>\n",
       "  </thead>\n",
       "  <tbody>\n",
       "    <tr>\n",
       "      <th>0</th>\n",
       "      <td>Thursday</td>\n",
       "      <td>161664</td>\n",
       "    </tr>\n",
       "    <tr>\n",
       "      <th>1</th>\n",
       "      <td>Tuesday</td>\n",
       "      <td>136794</td>\n",
       "    </tr>\n",
       "    <tr>\n",
       "      <th>2</th>\n",
       "      <td>Wednesday</td>\n",
       "      <td>136501</td>\n",
       "    </tr>\n",
       "    <tr>\n",
       "      <th>3</th>\n",
       "      <td>Sunday</td>\n",
       "      <td>136329</td>\n",
       "    </tr>\n",
       "    <tr>\n",
       "      <th>4</th>\n",
       "      <td>Monday</td>\n",
       "      <td>128359</td>\n",
       "    </tr>\n",
       "    <tr>\n",
       "      <th>5</th>\n",
       "      <td>Friday</td>\n",
       "      <td>105502</td>\n",
       "    </tr>\n",
       "    <tr>\n",
       "      <th>6</th>\n",
       "      <td>Saturday</td>\n",
       "      <td>400</td>\n",
       "    </tr>\n",
       "  </tbody>\n",
       "</table>\n",
       "</div>"
      ],
      "text/plain": [
       "         Day  Sale_count\n",
       "0   Thursday      161664\n",
       "1    Tuesday      136794\n",
       "2  Wednesday      136501\n",
       "3     Sunday      136329\n",
       "4     Monday      128359\n",
       "5     Friday      105502\n",
       "6   Saturday         400"
      ]
     },
     "execution_count": 45,
     "metadata": {},
     "output_type": "execute_result"
    }
   ],
   "source": [
    "salescount_on_day_basis = retail_df['Day'].value_counts().reset_index().rename(columns={'index': 'Day', 'Day': 'Sale_count'})\n",
    "salescount_on_day_basis.columns = ['Day', 'Sale_count']\n",
    "salescount_on_day_basis"
   ]
  },
  {
   "cell_type": "code",
   "execution_count": 46,
   "metadata": {
    "colab": {
     "base_uri": "https://localhost:8080/"
    },
    "id": "J03YYaQN7Izi",
    "outputId": "e709e533-bc25-44a0-8ebc-93b8236395c0"
   },
   "outputs": [
    {
     "data": {
      "text/plain": [
       "Text(0.5, 1.0, 'Sales count on different Days ')"
      ]
     },
     "execution_count": 46,
     "metadata": {},
     "output_type": "execute_result"
    },
    {
     "data": {
      "image/png": "[encoded data removed]",
      "text/plain": [
       "<Figure size 2000x600 with 1 Axes>"
      ]
     },
     "metadata": {},
     "output_type": "display_data"
    }
   ],
   "source": [
    "# Sales count on different days.\n",
    "plt.figure(figsize=(20,6))\n",
    "sns.barplot(x=salescount_on_day_basis['Day'],y=salescount_on_day_basis['Sale_count'])\n",
    "plt.title('Sales count on different Days ')"
   ]
  },
  {
   "cell_type": "markdown",
   "metadata": {
    "id": "YnbWTqno9NTZ"
   },
   "source": [
    "As the sales revenue and sales count is negligible on Saturdays probably the store is closed on Saturday and the few orders have been given on phone"
   ]
  },
  {
   "cell_type": "markdown",
   "metadata": {
    "id": "EsTUW_1W_Gci"
   },
   "source": [
    "### SALES IN DIFFERENT DAY TIMINGS"
   ]
  },
  {
   "cell_type": "code",
   "execution_count": 47,
   "metadata": {
    "colab": {
     "base_uri": "https://localhost:8080/"
    },
    "id": "A04odj1f9NHC",
    "outputId": "30ff1782-d249-4d46-b373-4925299c8fd8"
   },
   "outputs": [
    {
     "data": {
      "text/plain": [
       "array([ 7,  9, 10, 11, 12, 13, 14, 15, 16, 17, 18, 19,  8, 20,  6],\n",
       "      dtype=int64)"
      ]
     },
     "execution_count": 47,
     "metadata": {},
     "output_type": "execute_result"
    }
   ],
   "source": [
    "retail_df['hour'].unique()\n"
   ]
  },
  {
   "cell_type": "code",
   "execution_count": 48,
   "metadata": {
    "id": "YqodZob-7Kj0"
   },
   "outputs": [],
   "source": [
    "def time(time):\n",
    "  if (time==6 or time==7 or time==8 or time==9 or time==10 or time==11) :\n",
    "    return'Morning'\n",
    "  elif (time==12 or time==13 or time==14 or time==15 or time==16 or time==17):\n",
    "    return 'Afternoon'\n",
    "  else:\n",
    "    return 'Evening'"
   ]
  },
  {
   "cell_type": "code",
   "execution_count": 49,
   "metadata": {
    "id": "PSsPycmT_J09"
   },
   "outputs": [],
   "source": [
    "retail_df['Day_time_type']=retail_df['hour'].apply(time)"
   ]
  },
  {
   "cell_type": "code",
   "execution_count": 50,
   "metadata": {
    "colab": {
     "base_uri": "https://localhost:8080/"
    },
    "id": "fdCapZQK_Ll4",
    "outputId": "cad54479-63cf-42fd-902e-7b075237f8b0"
   },
   "outputs": [
    {
     "data": {
      "text/html": [
       "<div>\n",
       "<style scoped>\n",
       "    .dataframe tbody tr th:only-of-type {\n",
       "        vertical-align: middle;\n",
       "    }\n",
       "\n",
       "    .dataframe tbody tr th {\n",
       "        vertical-align: top;\n",
       "    }\n",
       "\n",
       "    .dataframe thead th {\n",
       "        text-align: right;\n",
       "    }\n",
       "</style>\n",
       "<table border=\"1\" class=\"dataframe\">\n",
       "  <thead>\n",
       "    <tr style=\"text-align: right;\">\n",
       "      <th></th>\n",
       "      <th>Day_time_type</th>\n",
       "      <th>TotalAmount</th>\n",
       "    </tr>\n",
       "  </thead>\n",
       "  <tbody>\n",
       "    <tr>\n",
       "      <th>0</th>\n",
       "      <td>Afternoon</td>\n",
       "      <td>1.063495e+07</td>\n",
       "    </tr>\n",
       "    <tr>\n",
       "      <th>2</th>\n",
       "      <td>Morning</td>\n",
       "      <td>6.747350e+06</td>\n",
       "    </tr>\n",
       "    <tr>\n",
       "      <th>1</th>\n",
       "      <td>Evening</td>\n",
       "      <td>3.611272e+05</td>\n",
       "    </tr>\n",
       "  </tbody>\n",
       "</table>\n",
       "</div>"
      ],
      "text/plain": [
       "  Day_time_type   TotalAmount\n",
       "0     Afternoon  1.063495e+07\n",
       "2       Morning  6.747350e+06\n",
       "1       Evening  3.611272e+05"
      ]
     },
     "execution_count": 50,
     "metadata": {},
     "output_type": "execute_result"
    }
   ],
   "source": [
    "sales_timing=retail_df.groupby('Day_time_type')['TotalAmount'].sum().reset_index().sort_values('TotalAmount',ascending=False)\n",
    "sales_timing"
   ]
  },
  {
   "cell_type": "code",
   "execution_count": 51,
   "metadata": {
    "colab": {
     "base_uri": "https://localhost:8080/"
    },
    "id": "8yqmUvCD_M81",
    "outputId": "de3f2594-d4fe-4a50-d9f7-0da3908ff24c"
   },
   "outputs": [
    {
     "data": {
      "text/plain": [
       "Text(0.5, 1.0, 'Sales count in different day timings')"
      ]
     },
     "execution_count": 51,
     "metadata": {},
     "output_type": "execute_result"
    },
    {
     "data": {
      "image/png": "[encoded data removed]",
      "text/plain": [
       "<Figure size 1200x600 with 1 Axes>"
      ]
     },
     "metadata": {},
     "output_type": "display_data"
    }
   ],
   "source": [
    "#Sales on different day-time types\n",
    "plt.figure(figsize=(12,6))\n",
    "sns.barplot(x=sales_timing['Day_time_type'],y=sales_timing['TotalAmount'])\n",
    "plt.title('Sales count in different day timings')"
   ]
  },
  {
   "cell_type": "code",
   "execution_count": 52,
   "metadata": {
    "colab": {
     "base_uri": "https://localhost:8080/"
    },
    "id": "WuSkqU-lVNiJ",
    "outputId": "837a123e-2f23-46ac-f367-b64b7074573c"
   },
   "outputs": [
    {
     "data": {
      "text/html": [
       "<div>\n",
       "<style scoped>\n",
       "    .dataframe tbody tr th:only-of-type {\n",
       "        vertical-align: middle;\n",
       "    }\n",
       "\n",
       "    .dataframe tbody tr th {\n",
       "        vertical-align: top;\n",
       "    }\n",
       "\n",
       "    .dataframe thead th {\n",
       "        text-align: right;\n",
       "    }\n",
       "</style>\n",
       "<table border=\"1\" class=\"dataframe\">\n",
       "  <thead>\n",
       "    <tr style=\"text-align: right;\">\n",
       "      <th></th>\n",
       "      <th>Invoice</th>\n",
       "      <th>StockCode</th>\n",
       "      <th>Description</th>\n",
       "      <th>Quantity</th>\n",
       "      <th>InvoiceDate</th>\n",
       "      <th>Price</th>\n",
       "      <th>Customer ID</th>\n",
       "      <th>Country</th>\n",
       "      <th>year</th>\n",
       "      <th>month_num</th>\n",
       "      <th>day_num</th>\n",
       "      <th>hour</th>\n",
       "      <th>minute</th>\n",
       "      <th>second</th>\n",
       "      <th>Month</th>\n",
       "      <th>Day</th>\n",
       "      <th>TotalAmount</th>\n",
       "      <th>Day_time_type</th>\n",
       "      <th>Revenue</th>\n",
       "    </tr>\n",
       "  </thead>\n",
       "  <tbody>\n",
       "    <tr>\n",
       "      <th>0</th>\n",
       "      <td>489434</td>\n",
       "      <td>85048</td>\n",
       "      <td>15CM CHRISTMAS GLASS BALL 20 LIGHTS</td>\n",
       "      <td>12</td>\n",
       "      <td>2009-12-01 07:45:00</td>\n",
       "      <td>6.95</td>\n",
       "      <td>13085.0</td>\n",
       "      <td>United Kingdom</td>\n",
       "      <td>2009</td>\n",
       "      <td>12</td>\n",
       "      <td>1</td>\n",
       "      <td>7</td>\n",
       "      <td>45</td>\n",
       "      <td>0</td>\n",
       "      <td>December</td>\n",
       "      <td>Tuesday</td>\n",
       "      <td>83.4</td>\n",
       "      <td>Morning</td>\n",
       "      <td>83.4</td>\n",
       "    </tr>\n",
       "    <tr>\n",
       "      <th>1</th>\n",
       "      <td>489434</td>\n",
       "      <td>79323P</td>\n",
       "      <td>PINK CHERRY LIGHTS</td>\n",
       "      <td>12</td>\n",
       "      <td>2009-12-01 07:45:00</td>\n",
       "      <td>6.75</td>\n",
       "      <td>13085.0</td>\n",
       "      <td>United Kingdom</td>\n",
       "      <td>2009</td>\n",
       "      <td>12</td>\n",
       "      <td>1</td>\n",
       "      <td>7</td>\n",
       "      <td>45</td>\n",
       "      <td>0</td>\n",
       "      <td>December</td>\n",
       "      <td>Tuesday</td>\n",
       "      <td>81.0</td>\n",
       "      <td>Morning</td>\n",
       "      <td>81.0</td>\n",
       "    </tr>\n",
       "    <tr>\n",
       "      <th>2</th>\n",
       "      <td>489434</td>\n",
       "      <td>79323W</td>\n",
       "      <td>WHITE CHERRY LIGHTS</td>\n",
       "      <td>12</td>\n",
       "      <td>2009-12-01 07:45:00</td>\n",
       "      <td>6.75</td>\n",
       "      <td>13085.0</td>\n",
       "      <td>United Kingdom</td>\n",
       "      <td>2009</td>\n",
       "      <td>12</td>\n",
       "      <td>1</td>\n",
       "      <td>7</td>\n",
       "      <td>45</td>\n",
       "      <td>0</td>\n",
       "      <td>December</td>\n",
       "      <td>Tuesday</td>\n",
       "      <td>81.0</td>\n",
       "      <td>Morning</td>\n",
       "      <td>81.0</td>\n",
       "    </tr>\n",
       "    <tr>\n",
       "      <th>3</th>\n",
       "      <td>489434</td>\n",
       "      <td>22041</td>\n",
       "      <td>RECORD FRAME 7\" SINGLE SIZE</td>\n",
       "      <td>48</td>\n",
       "      <td>2009-12-01 07:45:00</td>\n",
       "      <td>2.10</td>\n",
       "      <td>13085.0</td>\n",
       "      <td>United Kingdom</td>\n",
       "      <td>2009</td>\n",
       "      <td>12</td>\n",
       "      <td>1</td>\n",
       "      <td>7</td>\n",
       "      <td>45</td>\n",
       "      <td>0</td>\n",
       "      <td>December</td>\n",
       "      <td>Tuesday</td>\n",
       "      <td>100.8</td>\n",
       "      <td>Morning</td>\n",
       "      <td>100.8</td>\n",
       "    </tr>\n",
       "    <tr>\n",
       "      <th>4</th>\n",
       "      <td>489434</td>\n",
       "      <td>21232</td>\n",
       "      <td>STRAWBERRY CERAMIC TRINKET BOX</td>\n",
       "      <td>24</td>\n",
       "      <td>2009-12-01 07:45:00</td>\n",
       "      <td>1.25</td>\n",
       "      <td>13085.0</td>\n",
       "      <td>United Kingdom</td>\n",
       "      <td>2009</td>\n",
       "      <td>12</td>\n",
       "      <td>1</td>\n",
       "      <td>7</td>\n",
       "      <td>45</td>\n",
       "      <td>0</td>\n",
       "      <td>December</td>\n",
       "      <td>Tuesday</td>\n",
       "      <td>30.0</td>\n",
       "      <td>Morning</td>\n",
       "      <td>30.0</td>\n",
       "    </tr>\n",
       "  </tbody>\n",
       "</table>\n",
       "</div>"
      ],
      "text/plain": [
       "  Invoice StockCode                          Description  Quantity  \\\n",
       "0  489434     85048  15CM CHRISTMAS GLASS BALL 20 LIGHTS        12   \n",
       "1  489434    79323P                   PINK CHERRY LIGHTS        12   \n",
       "2  489434    79323W                  WHITE CHERRY LIGHTS        12   \n",
       "3  489434     22041         RECORD FRAME 7\" SINGLE SIZE         48   \n",
       "4  489434     21232       STRAWBERRY CERAMIC TRINKET BOX        24   \n",
       "\n",
       "          InvoiceDate  Price  Customer ID         Country  year  month_num  \\\n",
       "0 2009-12-01 07:45:00   6.95      13085.0  United Kingdom  2009         12   \n",
       "1 2009-12-01 07:45:00   6.75      13085.0  United Kingdom  2009         12   \n",
       "2 2009-12-01 07:45:00   6.75      13085.0  United Kingdom  2009         12   \n",
       "3 2009-12-01 07:45:00   2.10      13085.0  United Kingdom  2009         12   \n",
       "4 2009-12-01 07:45:00   1.25      13085.0  United Kingdom  2009         12   \n",
       "\n",
       "   day_num  hour  minute  second     Month      Day  TotalAmount  \\\n",
       "0        1     7      45       0  December  Tuesday         83.4   \n",
       "1        1     7      45       0  December  Tuesday         81.0   \n",
       "2        1     7      45       0  December  Tuesday         81.0   \n",
       "3        1     7      45       0  December  Tuesday        100.8   \n",
       "4        1     7      45       0  December  Tuesday         30.0   \n",
       "\n",
       "  Day_time_type  Revenue  \n",
       "0       Morning     83.4  \n",
       "1       Morning     81.0  \n",
       "2       Morning     81.0  \n",
       "3       Morning    100.8  \n",
       "4       Morning     30.0  "
      ]
     },
     "execution_count": 52,
     "metadata": {},
     "output_type": "execute_result"
    }
   ],
   "source": [
    "# create Revenue Column\n",
    "df = retail_df.copy()\n",
    "df['Revenue'] = retail_df['Quantity'] * retail_df['Price']\n",
    "df.head()"
   ]
  },
  {
   "cell_type": "markdown",
   "metadata": {
    "id": "kdV6By1YVMok"
   },
   "source": [
    "### Revenue per month and year"
   ]
  },
  {
   "cell_type": "code",
   "execution_count": 53,
   "metadata": {
    "colab": {
     "base_uri": "https://localhost:8080/"
    },
    "id": "-fm0xx76Uqlk",
    "outputId": "46f156be-bcd1-4787-9e04-66f2661a5f0b"
   },
   "outputs": [
    {
     "data": {
      "image/png": "[encoded data removed]",
      "text/plain": [
       "<Figure size 1600x600 with 1 Axes>"
      ]
     },
     "metadata": {},
     "output_type": "display_data"
    }
   ],
   "source": [
    "import matplotlib.ticker as ticker\n",
    "# Revenue per month and year\n",
    "monthly_revenue = df.groupby([df['InvoiceDate'].dt.year, df['InvoiceDate'].dt.month])['Revenue'].sum()\n",
    "\n",
    "# Create a line plot of monthly revenue\n",
    "ax = monthly_revenue.plot(kind='line', figsize=(16,6), color='r', linewidth=3)\n",
    "\n",
    "# Set xticks and xticklabels to show all values\n",
    "ax.set_xticks(range(len(monthly_revenue.index)))\n",
    "ax.set_xticklabels(['{}-{}'.format(year, month) for year, month in monthly_revenue.index], rotation=45)\n",
    "\n",
    "# Set ylabel format\n",
    "fmt = '{x:,.0f}'\n",
    "tick = ticker.StrMethodFormatter(fmt)\n",
    "ax.yaxis.set_major_formatter(tick)\n",
    "\n",
    "# set title and label\n",
    "plt.xlabel('Invoice Date')\n",
    "plt.ylabel('Sales in Pound Sterling (£)')\n",
    "plt.title('Revenue Earned by Month and Year', fontweight='bold')\n",
    "\n",
    "# Show the plot\n",
    "plt.show()"
   ]
  },
  {
   "cell_type": "code",
   "execution_count": null,
   "metadata": {
    "id": "cHU21TmwVhKB"
   },
   "outputs": [],
   "source": []
  },
  {
   "cell_type": "markdown",
   "metadata": {},
   "source": [
    "## Frequent Itemset & Association Rule Mining:"
   ]
  },
  {
   "cell_type": "code",
   "execution_count": 54,
   "metadata": {},
   "outputs": [],
   "source": [
    "df_freq=retail_df.copy()"
   ]
  },
  {
   "cell_type": "code",
   "execution_count": 55,
   "metadata": {},
   "outputs": [
    {
     "data": {
      "text/html": [
       "<div>\n",
       "<style scoped>\n",
       "    .dataframe tbody tr th:only-of-type {\n",
       "        vertical-align: middle;\n",
       "    }\n",
       "\n",
       "    .dataframe tbody tr th {\n",
       "        vertical-align: top;\n",
       "    }\n",
       "\n",
       "    .dataframe thead th {\n",
       "        text-align: right;\n",
       "    }\n",
       "</style>\n",
       "<table border=\"1\" class=\"dataframe\">\n",
       "  <thead>\n",
       "    <tr style=\"text-align: right;\">\n",
       "      <th></th>\n",
       "      <th>Invoice</th>\n",
       "      <th>StockCode</th>\n",
       "      <th>Description</th>\n",
       "      <th>Quantity</th>\n",
       "      <th>InvoiceDate</th>\n",
       "      <th>Price</th>\n",
       "      <th>Customer ID</th>\n",
       "      <th>Country</th>\n",
       "      <th>year</th>\n",
       "      <th>month_num</th>\n",
       "      <th>day_num</th>\n",
       "      <th>hour</th>\n",
       "      <th>minute</th>\n",
       "      <th>second</th>\n",
       "      <th>Month</th>\n",
       "      <th>Day</th>\n",
       "      <th>TotalAmount</th>\n",
       "      <th>Day_time_type</th>\n",
       "    </tr>\n",
       "  </thead>\n",
       "  <tbody>\n",
       "    <tr>\n",
       "      <th>0</th>\n",
       "      <td>489434</td>\n",
       "      <td>85048</td>\n",
       "      <td>15CM CHRISTMAS GLASS BALL 20 LIGHTS</td>\n",
       "      <td>12</td>\n",
       "      <td>2009-12-01 07:45:00</td>\n",
       "      <td>6.95</td>\n",
       "      <td>13085.0</td>\n",
       "      <td>United Kingdom</td>\n",
       "      <td>2009</td>\n",
       "      <td>12</td>\n",
       "      <td>1</td>\n",
       "      <td>7</td>\n",
       "      <td>45</td>\n",
       "      <td>0</td>\n",
       "      <td>December</td>\n",
       "      <td>Tuesday</td>\n",
       "      <td>83.4</td>\n",
       "      <td>Morning</td>\n",
       "    </tr>\n",
       "    <tr>\n",
       "      <th>1</th>\n",
       "      <td>489434</td>\n",
       "      <td>79323P</td>\n",
       "      <td>PINK CHERRY LIGHTS</td>\n",
       "      <td>12</td>\n",
       "      <td>2009-12-01 07:45:00</td>\n",
       "      <td>6.75</td>\n",
       "      <td>13085.0</td>\n",
       "      <td>United Kingdom</td>\n",
       "      <td>2009</td>\n",
       "      <td>12</td>\n",
       "      <td>1</td>\n",
       "      <td>7</td>\n",
       "      <td>45</td>\n",
       "      <td>0</td>\n",
       "      <td>December</td>\n",
       "      <td>Tuesday</td>\n",
       "      <td>81.0</td>\n",
       "      <td>Morning</td>\n",
       "    </tr>\n",
       "    <tr>\n",
       "      <th>2</th>\n",
       "      <td>489434</td>\n",
       "      <td>79323W</td>\n",
       "      <td>WHITE CHERRY LIGHTS</td>\n",
       "      <td>12</td>\n",
       "      <td>2009-12-01 07:45:00</td>\n",
       "      <td>6.75</td>\n",
       "      <td>13085.0</td>\n",
       "      <td>United Kingdom</td>\n",
       "      <td>2009</td>\n",
       "      <td>12</td>\n",
       "      <td>1</td>\n",
       "      <td>7</td>\n",
       "      <td>45</td>\n",
       "      <td>0</td>\n",
       "      <td>December</td>\n",
       "      <td>Tuesday</td>\n",
       "      <td>81.0</td>\n",
       "      <td>Morning</td>\n",
       "    </tr>\n",
       "    <tr>\n",
       "      <th>3</th>\n",
       "      <td>489434</td>\n",
       "      <td>22041</td>\n",
       "      <td>RECORD FRAME 7\" SINGLE SIZE</td>\n",
       "      <td>48</td>\n",
       "      <td>2009-12-01 07:45:00</td>\n",
       "      <td>2.10</td>\n",
       "      <td>13085.0</td>\n",
       "      <td>United Kingdom</td>\n",
       "      <td>2009</td>\n",
       "      <td>12</td>\n",
       "      <td>1</td>\n",
       "      <td>7</td>\n",
       "      <td>45</td>\n",
       "      <td>0</td>\n",
       "      <td>December</td>\n",
       "      <td>Tuesday</td>\n",
       "      <td>100.8</td>\n",
       "      <td>Morning</td>\n",
       "    </tr>\n",
       "    <tr>\n",
       "      <th>4</th>\n",
       "      <td>489434</td>\n",
       "      <td>21232</td>\n",
       "      <td>STRAWBERRY CERAMIC TRINKET BOX</td>\n",
       "      <td>24</td>\n",
       "      <td>2009-12-01 07:45:00</td>\n",
       "      <td>1.25</td>\n",
       "      <td>13085.0</td>\n",
       "      <td>United Kingdom</td>\n",
       "      <td>2009</td>\n",
       "      <td>12</td>\n",
       "      <td>1</td>\n",
       "      <td>7</td>\n",
       "      <td>45</td>\n",
       "      <td>0</td>\n",
       "      <td>December</td>\n",
       "      <td>Tuesday</td>\n",
       "      <td>30.0</td>\n",
       "      <td>Morning</td>\n",
       "    </tr>\n",
       "  </tbody>\n",
       "</table>\n",
       "</div>"
      ],
      "text/plain": [
       "  Invoice StockCode                          Description  Quantity  \\\n",
       "0  489434     85048  15CM CHRISTMAS GLASS BALL 20 LIGHTS        12   \n",
       "1  489434    79323P                   PINK CHERRY LIGHTS        12   \n",
       "2  489434    79323W                  WHITE CHERRY LIGHTS        12   \n",
       "3  489434     22041         RECORD FRAME 7\" SINGLE SIZE         48   \n",
       "4  489434     21232       STRAWBERRY CERAMIC TRINKET BOX        24   \n",
       "\n",
       "          InvoiceDate  Price  Customer ID         Country  year  month_num  \\\n",
       "0 2009-12-01 07:45:00   6.95      13085.0  United Kingdom  2009         12   \n",
       "1 2009-12-01 07:45:00   6.75      13085.0  United Kingdom  2009         12   \n",
       "2 2009-12-01 07:45:00   6.75      13085.0  United Kingdom  2009         12   \n",
       "3 2009-12-01 07:45:00   2.10      13085.0  United Kingdom  2009         12   \n",
       "4 2009-12-01 07:45:00   1.25      13085.0  United Kingdom  2009         12   \n",
       "\n",
       "   day_num  hour  minute  second     Month      Day  TotalAmount Day_time_type  \n",
       "0        1     7      45       0  December  Tuesday         83.4       Morning  \n",
       "1        1     7      45       0  December  Tuesday         81.0       Morning  \n",
       "2        1     7      45       0  December  Tuesday         81.0       Morning  \n",
       "3        1     7      45       0  December  Tuesday        100.8       Morning  \n",
       "4        1     7      45       0  December  Tuesday         30.0       Morning  "
      ]
     },
     "execution_count": 55,
     "metadata": {},
     "output_type": "execute_result"
    }
   ],
   "source": [
    "df_freq.head()"
   ]
  },
  {
   "cell_type": "code",
   "execution_count": 56,
   "metadata": {},
   "outputs": [
    {
     "data": {
      "text/plain": [
       "array(['United Kingdom', 'France', 'USA', 'Belgium', 'Australia', 'EIRE',\n",
       "       'Germany', 'Portugal', 'Denmark', 'Netherlands', 'Poland',\n",
       "       'Channel Islands', 'Spain', 'Cyprus', 'Greece', 'Norway',\n",
       "       'Austria', 'Sweden', 'United Arab Emirates', 'Finland', 'Italy',\n",
       "       'Switzerland', 'Japan', 'Unspecified', 'Nigeria', 'Malta', 'RSA',\n",
       "       'Singapore', 'Bahrain', 'Thailand', 'Israel', 'Lithuania',\n",
       "       'West Indies', 'Korea', 'Brazil', 'Canada', 'Iceland', 'Lebanon',\n",
       "       'Saudi Arabia', 'Czech Republic', 'European Community'],\n",
       "      dtype=object)"
      ]
     },
     "execution_count": 56,
     "metadata": {},
     "output_type": "execute_result"
    }
   ],
   "source": [
    "df_freq['Country'].unique()"
   ]
  },
  {
   "cell_type": "code",
   "execution_count": 57,
   "metadata": {},
   "outputs": [
    {
     "name": "stdout",
     "output_type": "stream",
     "text": [
      "Number of rows per country:\n",
      "Country\n",
      "Australia                 1812\n",
      "Austria                    922\n",
      "Bahrain                     59\n",
      "Belgium                   3068\n",
      "Brazil                      94\n",
      "Canada                     228\n",
      "Channel Islands           1569\n",
      "Cyprus                    1155\n",
      "Czech Republic              25\n",
      "Denmark                    798\n",
      "EIRE                     15743\n",
      "European Community          60\n",
      "Finland                   1032\n",
      "France                   13812\n",
      "Germany                  16694\n",
      "Greece                     657\n",
      "Iceland                    253\n",
      "Israel                     322\n",
      "Italy                     1468\n",
      "Japan                      485\n",
      "Korea                       53\n",
      "Lebanon                     45\n",
      "Lithuania                  189\n",
      "Malta                      282\n",
      "Netherlands               5088\n",
      "Nigeria                     30\n",
      "Norway                    1436\n",
      "Poland                     512\n",
      "Portugal                  2446\n",
      "RSA                        122\n",
      "Saudi Arabia                 9\n",
      "Singapore                  339\n",
      "Spain                     3719\n",
      "Sweden                    1319\n",
      "Switzerland               3011\n",
      "Thailand                    76\n",
      "USA                        409\n",
      "United Arab Emirates       383\n",
      "United Kingdom          725250\n",
      "Unspecified                521\n",
      "West Indies                 54\n",
      "Name: Invoice, dtype: int64\n"
     ]
    }
   ],
   "source": [
    "# Count rows by country\n",
    "country_counts = df_freq.groupby('Country')['Invoice'].count()\n",
    "print(\"Number of rows per country:\")\n",
    "print(country_counts)"
   ]
  },
  {
   "cell_type": "markdown",
   "metadata": {},
   "source": [
    "### Invoice x Product Matrix:"
   ]
  },
  {
   "cell_type": "code",
   "execution_count": 58,
   "metadata": {},
   "outputs": [],
   "source": [
    "import pandas as pd\n",
    "from mlxtend.frequent_patterns import apriori, association_rules\n",
    "import warnings\n",
    "warnings.filterwarnings(\"ignore\")"
   ]
  },
  {
   "cell_type": "code",
   "execution_count": 59,
   "metadata": {},
   "outputs": [
    {
     "data": {
      "text/html": [
       "<div>\n",
       "<style scoped>\n",
       "    .dataframe tbody tr th:only-of-type {\n",
       "        vertical-align: middle;\n",
       "    }\n",
       "\n",
       "    .dataframe tbody tr th {\n",
       "        vertical-align: top;\n",
       "    }\n",
       "\n",
       "    .dataframe thead th {\n",
       "        text-align: right;\n",
       "    }\n",
       "</style>\n",
       "<table border=\"1\" class=\"dataframe\">\n",
       "  <thead>\n",
       "    <tr style=\"text-align: right;\">\n",
       "      <th></th>\n",
       "      <th>Invoice</th>\n",
       "      <th>StockCode</th>\n",
       "      <th>Description</th>\n",
       "      <th>Quantity</th>\n",
       "      <th>InvoiceDate</th>\n",
       "      <th>Price</th>\n",
       "      <th>Customer ID</th>\n",
       "      <th>Country</th>\n",
       "      <th>year</th>\n",
       "      <th>month_num</th>\n",
       "      <th>day_num</th>\n",
       "      <th>hour</th>\n",
       "      <th>minute</th>\n",
       "      <th>second</th>\n",
       "      <th>Month</th>\n",
       "      <th>Day</th>\n",
       "      <th>TotalAmount</th>\n",
       "      <th>Day_time_type</th>\n",
       "    </tr>\n",
       "  </thead>\n",
       "  <tbody>\n",
       "    <tr>\n",
       "      <th>579</th>\n",
       "      <td>489526</td>\n",
       "      <td>85049E</td>\n",
       "      <td>SCANDINAVIAN REDS RIBBONS</td>\n",
       "      <td>12</td>\n",
       "      <td>2009-12-01 11:50:00</td>\n",
       "      <td>1.25</td>\n",
       "      <td>12533.0</td>\n",
       "      <td>Germany</td>\n",
       "      <td>2009</td>\n",
       "      <td>12</td>\n",
       "      <td>1</td>\n",
       "      <td>11</td>\n",
       "      <td>50</td>\n",
       "      <td>0</td>\n",
       "      <td>December</td>\n",
       "      <td>Tuesday</td>\n",
       "      <td>15.0</td>\n",
       "      <td>Morning</td>\n",
       "    </tr>\n",
       "    <tr>\n",
       "      <th>580</th>\n",
       "      <td>489526</td>\n",
       "      <td>21976</td>\n",
       "      <td>PACK OF 60 MUSHROOM CAKE CASES</td>\n",
       "      <td>24</td>\n",
       "      <td>2009-12-01 11:50:00</td>\n",
       "      <td>0.55</td>\n",
       "      <td>12533.0</td>\n",
       "      <td>Germany</td>\n",
       "      <td>2009</td>\n",
       "      <td>12</td>\n",
       "      <td>1</td>\n",
       "      <td>11</td>\n",
       "      <td>50</td>\n",
       "      <td>0</td>\n",
       "      <td>December</td>\n",
       "      <td>Tuesday</td>\n",
       "      <td>13.2</td>\n",
       "      <td>Morning</td>\n",
       "    </tr>\n",
       "    <tr>\n",
       "      <th>581</th>\n",
       "      <td>489526</td>\n",
       "      <td>21498</td>\n",
       "      <td>RED SPOTS  WRAP</td>\n",
       "      <td>25</td>\n",
       "      <td>2009-12-01 11:50:00</td>\n",
       "      <td>0.42</td>\n",
       "      <td>12533.0</td>\n",
       "      <td>Germany</td>\n",
       "      <td>2009</td>\n",
       "      <td>12</td>\n",
       "      <td>1</td>\n",
       "      <td>11</td>\n",
       "      <td>50</td>\n",
       "      <td>0</td>\n",
       "      <td>December</td>\n",
       "      <td>Tuesday</td>\n",
       "      <td>10.5</td>\n",
       "      <td>Morning</td>\n",
       "    </tr>\n",
       "    <tr>\n",
       "      <th>582</th>\n",
       "      <td>489526</td>\n",
       "      <td>22077</td>\n",
       "      <td>6 RIBBONS RUSTIC CHARM</td>\n",
       "      <td>12</td>\n",
       "      <td>2009-12-01 11:50:00</td>\n",
       "      <td>1.65</td>\n",
       "      <td>12533.0</td>\n",
       "      <td>Germany</td>\n",
       "      <td>2009</td>\n",
       "      <td>12</td>\n",
       "      <td>1</td>\n",
       "      <td>11</td>\n",
       "      <td>50</td>\n",
       "      <td>0</td>\n",
       "      <td>December</td>\n",
       "      <td>Tuesday</td>\n",
       "      <td>19.8</td>\n",
       "      <td>Morning</td>\n",
       "    </tr>\n",
       "    <tr>\n",
       "      <th>583</th>\n",
       "      <td>489526</td>\n",
       "      <td>84946</td>\n",
       "      <td>ANTIQUE SILVER TEA GLASS ETCHED</td>\n",
       "      <td>12</td>\n",
       "      <td>2009-12-01 11:50:00</td>\n",
       "      <td>1.25</td>\n",
       "      <td>12533.0</td>\n",
       "      <td>Germany</td>\n",
       "      <td>2009</td>\n",
       "      <td>12</td>\n",
       "      <td>1</td>\n",
       "      <td>11</td>\n",
       "      <td>50</td>\n",
       "      <td>0</td>\n",
       "      <td>December</td>\n",
       "      <td>Tuesday</td>\n",
       "      <td>15.0</td>\n",
       "      <td>Morning</td>\n",
       "    </tr>\n",
       "  </tbody>\n",
       "</table>\n",
       "</div>"
      ],
      "text/plain": [
       "    Invoice StockCode                      Description  Quantity  \\\n",
       "579  489526    85049E        SCANDINAVIAN REDS RIBBONS        12   \n",
       "580  489526     21976   PACK OF 60 MUSHROOM CAKE CASES        24   \n",
       "581  489526     21498                 RED SPOTS  WRAP         25   \n",
       "582  489526     22077           6 RIBBONS RUSTIC CHARM        12   \n",
       "583  489526     84946  ANTIQUE SILVER TEA GLASS ETCHED        12   \n",
       "\n",
       "            InvoiceDate  Price  Customer ID  Country  year  month_num  \\\n",
       "579 2009-12-01 11:50:00   1.25      12533.0  Germany  2009         12   \n",
       "580 2009-12-01 11:50:00   0.55      12533.0  Germany  2009         12   \n",
       "581 2009-12-01 11:50:00   0.42      12533.0  Germany  2009         12   \n",
       "582 2009-12-01 11:50:00   1.65      12533.0  Germany  2009         12   \n",
       "583 2009-12-01 11:50:00   1.25      12533.0  Germany  2009         12   \n",
       "\n",
       "     day_num  hour  minute  second     Month      Day  TotalAmount  \\\n",
       "579        1    11      50       0  December  Tuesday         15.0   \n",
       "580        1    11      50       0  December  Tuesday         13.2   \n",
       "581        1    11      50       0  December  Tuesday         10.5   \n",
       "582        1    11      50       0  December  Tuesday         19.8   \n",
       "583        1    11      50       0  December  Tuesday         15.0   \n",
       "\n",
       "    Day_time_type  \n",
       "579       Morning  \n",
       "580       Morning  \n",
       "581       Morning  \n",
       "582       Morning  \n",
       "583       Morning  "
      ]
     },
     "execution_count": 59,
     "metadata": {},
     "output_type": "execute_result"
    }
   ],
   "source": [
    "# I am choosing Germany from the data set.\n",
    "df_with_one_country = df_freq[df_freq[\"Country\"] == \"Germany\"]\n",
    "df_with_one_country.head()"
   ]
  },
  {
   "cell_type": "code",
   "execution_count": 60,
   "metadata": {},
   "outputs": [],
   "source": [
    "# Construct an Invoice-Product Matrix with \"Invoice\" as rows and \"StockCode\" as columns\n",
    "# The \"Quantity\" is placed at the intersection of these two variables\n",
    "# The transactions are functionalized by assigning 1 to products with an invoice number and 0 to those without\n",
    "\n",
    "def create_invoice_product_df(dataframe, id=False):\n",
    "    if id:\n",
    "        return dataframe.groupby(['Invoice', \"StockCode\"])['Quantity'].sum().unstack().fillna(0).applymap(lambda x: 1 if x > 0 else 0)\n",
    "    else:\n",
    "        return dataframe.groupby(['Invoice', 'Description'])['Quantity'].sum().unstack().fillna(0).applymap(lambda x: 1 if x > 0 else 0)"
   ]
  },
  {
   "cell_type": "markdown",
   "metadata": {},
   "source": [
    "This function creates an Invoice-Product Matrix from a given dataframe. It groups the data by 'Invoice' and either 'StockCode' or 'Description', depending on the 'id' parameter. The matrix is then filled with 1s where a product appears in an invoice and 0s where it doesn't, effectively creating a binary representation of product presence in each invoice."
   ]
  },
  {
   "cell_type": "code",
   "execution_count": 61,
   "metadata": {},
   "outputs": [
    {
     "data": {
      "text/html": [
       "<div>\n",
       "<style scoped>\n",
       "    .dataframe tbody tr th:only-of-type {\n",
       "        vertical-align: middle;\n",
       "    }\n",
       "\n",
       "    .dataframe tbody tr th {\n",
       "        vertical-align: top;\n",
       "    }\n",
       "\n",
       "    .dataframe thead th {\n",
       "        text-align: right;\n",
       "    }\n",
       "</style>\n",
       "<table border=\"1\" class=\"dataframe\">\n",
       "  <thead>\n",
       "    <tr style=\"text-align: right;\">\n",
       "      <th>StockCode</th>\n",
       "      <th>10002</th>\n",
       "      <th>10125</th>\n",
       "      <th>10135</th>\n",
       "      <th>11001</th>\n",
       "      <th>15034</th>\n",
       "      <th>15036</th>\n",
       "      <th>15039</th>\n",
       "      <th>15044A</th>\n",
       "      <th>15044B</th>\n",
       "      <th>15044D</th>\n",
       "      <th>15056BL</th>\n",
       "      <th>15056N</th>\n",
       "      <th>15056P</th>\n",
       "      <th>15058A</th>\n",
       "      <th>15058B</th>\n",
       "      <th>15058C</th>\n",
       "      <th>15060B</th>\n",
       "      <th>16008</th>\n",
       "      <th>16011</th>\n",
       "      <th>16012</th>\n",
       "      <th>16014</th>\n",
       "      <th>16016</th>\n",
       "      <th>16033</th>\n",
       "      <th>16045</th>\n",
       "      <th>16052</th>\n",
       "      <th>...</th>\n",
       "      <th>90070</th>\n",
       "      <th>90087</th>\n",
       "      <th>90098</th>\n",
       "      <th>90104</th>\n",
       "      <th>90160A</th>\n",
       "      <th>90160B</th>\n",
       "      <th>90160C</th>\n",
       "      <th>90160D</th>\n",
       "      <th>90161B</th>\n",
       "      <th>90161C</th>\n",
       "      <th>90161D</th>\n",
       "      <th>90167</th>\n",
       "      <th>90170</th>\n",
       "      <th>90173</th>\n",
       "      <th>90200E</th>\n",
       "      <th>90201A</th>\n",
       "      <th>90201B</th>\n",
       "      <th>90201C</th>\n",
       "      <th>90201D</th>\n",
       "      <th>90202D</th>\n",
       "      <th>90204</th>\n",
       "      <th>ADJUST</th>\n",
       "      <th>M</th>\n",
       "      <th>PADS</th>\n",
       "      <th>POST</th>\n",
       "    </tr>\n",
       "    <tr>\n",
       "      <th>Invoice</th>\n",
       "      <th></th>\n",
       "      <th></th>\n",
       "      <th></th>\n",
       "      <th></th>\n",
       "      <th></th>\n",
       "      <th></th>\n",
       "      <th></th>\n",
       "      <th></th>\n",
       "      <th></th>\n",
       "      <th></th>\n",
       "      <th></th>\n",
       "      <th></th>\n",
       "      <th></th>\n",
       "      <th></th>\n",
       "      <th></th>\n",
       "      <th></th>\n",
       "      <th></th>\n",
       "      <th></th>\n",
       "      <th></th>\n",
       "      <th></th>\n",
       "      <th></th>\n",
       "      <th></th>\n",
       "      <th></th>\n",
       "      <th></th>\n",
       "      <th></th>\n",
       "      <th></th>\n",
       "      <th></th>\n",
       "      <th></th>\n",
       "      <th></th>\n",
       "      <th></th>\n",
       "      <th></th>\n",
       "      <th></th>\n",
       "      <th></th>\n",
       "      <th></th>\n",
       "      <th></th>\n",
       "      <th></th>\n",
       "      <th></th>\n",
       "      <th></th>\n",
       "      <th></th>\n",
       "      <th></th>\n",
       "      <th></th>\n",
       "      <th></th>\n",
       "      <th></th>\n",
       "      <th></th>\n",
       "      <th></th>\n",
       "      <th></th>\n",
       "      <th></th>\n",
       "      <th></th>\n",
       "      <th></th>\n",
       "      <th></th>\n",
       "      <th></th>\n",
       "    </tr>\n",
       "  </thead>\n",
       "  <tbody>\n",
       "    <tr>\n",
       "      <th>489526</th>\n",
       "      <td>0</td>\n",
       "      <td>0</td>\n",
       "      <td>0</td>\n",
       "      <td>0</td>\n",
       "      <td>0</td>\n",
       "      <td>0</td>\n",
       "      <td>0</td>\n",
       "      <td>0</td>\n",
       "      <td>0</td>\n",
       "      <td>0</td>\n",
       "      <td>1</td>\n",
       "      <td>1</td>\n",
       "      <td>0</td>\n",
       "      <td>0</td>\n",
       "      <td>0</td>\n",
       "      <td>0</td>\n",
       "      <td>0</td>\n",
       "      <td>0</td>\n",
       "      <td>0</td>\n",
       "      <td>0</td>\n",
       "      <td>0</td>\n",
       "      <td>0</td>\n",
       "      <td>0</td>\n",
       "      <td>0</td>\n",
       "      <td>0</td>\n",
       "      <td>...</td>\n",
       "      <td>0</td>\n",
       "      <td>0</td>\n",
       "      <td>0</td>\n",
       "      <td>0</td>\n",
       "      <td>0</td>\n",
       "      <td>0</td>\n",
       "      <td>0</td>\n",
       "      <td>0</td>\n",
       "      <td>0</td>\n",
       "      <td>0</td>\n",
       "      <td>0</td>\n",
       "      <td>0</td>\n",
       "      <td>0</td>\n",
       "      <td>0</td>\n",
       "      <td>0</td>\n",
       "      <td>0</td>\n",
       "      <td>0</td>\n",
       "      <td>0</td>\n",
       "      <td>0</td>\n",
       "      <td>0</td>\n",
       "      <td>0</td>\n",
       "      <td>0</td>\n",
       "      <td>0</td>\n",
       "      <td>0</td>\n",
       "      <td>1</td>\n",
       "    </tr>\n",
       "    <tr>\n",
       "      <th>490395</th>\n",
       "      <td>0</td>\n",
       "      <td>0</td>\n",
       "      <td>0</td>\n",
       "      <td>0</td>\n",
       "      <td>0</td>\n",
       "      <td>0</td>\n",
       "      <td>0</td>\n",
       "      <td>0</td>\n",
       "      <td>0</td>\n",
       "      <td>0</td>\n",
       "      <td>0</td>\n",
       "      <td>0</td>\n",
       "      <td>0</td>\n",
       "      <td>0</td>\n",
       "      <td>0</td>\n",
       "      <td>0</td>\n",
       "      <td>0</td>\n",
       "      <td>0</td>\n",
       "      <td>0</td>\n",
       "      <td>0</td>\n",
       "      <td>0</td>\n",
       "      <td>0</td>\n",
       "      <td>0</td>\n",
       "      <td>0</td>\n",
       "      <td>0</td>\n",
       "      <td>...</td>\n",
       "      <td>0</td>\n",
       "      <td>0</td>\n",
       "      <td>0</td>\n",
       "      <td>0</td>\n",
       "      <td>0</td>\n",
       "      <td>0</td>\n",
       "      <td>0</td>\n",
       "      <td>0</td>\n",
       "      <td>0</td>\n",
       "      <td>0</td>\n",
       "      <td>0</td>\n",
       "      <td>0</td>\n",
       "      <td>0</td>\n",
       "      <td>0</td>\n",
       "      <td>0</td>\n",
       "      <td>0</td>\n",
       "      <td>0</td>\n",
       "      <td>0</td>\n",
       "      <td>0</td>\n",
       "      <td>0</td>\n",
       "      <td>0</td>\n",
       "      <td>0</td>\n",
       "      <td>0</td>\n",
       "      <td>0</td>\n",
       "      <td>1</td>\n",
       "    </tr>\n",
       "    <tr>\n",
       "      <th>490563</th>\n",
       "      <td>0</td>\n",
       "      <td>0</td>\n",
       "      <td>0</td>\n",
       "      <td>0</td>\n",
       "      <td>0</td>\n",
       "      <td>0</td>\n",
       "      <td>0</td>\n",
       "      <td>0</td>\n",
       "      <td>0</td>\n",
       "      <td>0</td>\n",
       "      <td>0</td>\n",
       "      <td>0</td>\n",
       "      <td>0</td>\n",
       "      <td>0</td>\n",
       "      <td>0</td>\n",
       "      <td>0</td>\n",
       "      <td>0</td>\n",
       "      <td>0</td>\n",
       "      <td>0</td>\n",
       "      <td>0</td>\n",
       "      <td>0</td>\n",
       "      <td>0</td>\n",
       "      <td>0</td>\n",
       "      <td>0</td>\n",
       "      <td>0</td>\n",
       "      <td>...</td>\n",
       "      <td>0</td>\n",
       "      <td>0</td>\n",
       "      <td>0</td>\n",
       "      <td>0</td>\n",
       "      <td>0</td>\n",
       "      <td>0</td>\n",
       "      <td>0</td>\n",
       "      <td>0</td>\n",
       "      <td>0</td>\n",
       "      <td>0</td>\n",
       "      <td>0</td>\n",
       "      <td>0</td>\n",
       "      <td>0</td>\n",
       "      <td>0</td>\n",
       "      <td>0</td>\n",
       "      <td>0</td>\n",
       "      <td>0</td>\n",
       "      <td>0</td>\n",
       "      <td>0</td>\n",
       "      <td>0</td>\n",
       "      <td>0</td>\n",
       "      <td>0</td>\n",
       "      <td>0</td>\n",
       "      <td>0</td>\n",
       "      <td>0</td>\n",
       "    </tr>\n",
       "    <tr>\n",
       "      <th>490564</th>\n",
       "      <td>0</td>\n",
       "      <td>0</td>\n",
       "      <td>0</td>\n",
       "      <td>0</td>\n",
       "      <td>0</td>\n",
       "      <td>0</td>\n",
       "      <td>0</td>\n",
       "      <td>0</td>\n",
       "      <td>0</td>\n",
       "      <td>0</td>\n",
       "      <td>0</td>\n",
       "      <td>0</td>\n",
       "      <td>0</td>\n",
       "      <td>0</td>\n",
       "      <td>0</td>\n",
       "      <td>0</td>\n",
       "      <td>0</td>\n",
       "      <td>0</td>\n",
       "      <td>0</td>\n",
       "      <td>0</td>\n",
       "      <td>0</td>\n",
       "      <td>0</td>\n",
       "      <td>0</td>\n",
       "      <td>0</td>\n",
       "      <td>0</td>\n",
       "      <td>...</td>\n",
       "      <td>0</td>\n",
       "      <td>0</td>\n",
       "      <td>0</td>\n",
       "      <td>0</td>\n",
       "      <td>0</td>\n",
       "      <td>0</td>\n",
       "      <td>0</td>\n",
       "      <td>0</td>\n",
       "      <td>0</td>\n",
       "      <td>0</td>\n",
       "      <td>0</td>\n",
       "      <td>0</td>\n",
       "      <td>0</td>\n",
       "      <td>0</td>\n",
       "      <td>0</td>\n",
       "      <td>0</td>\n",
       "      <td>0</td>\n",
       "      <td>0</td>\n",
       "      <td>0</td>\n",
       "      <td>0</td>\n",
       "      <td>0</td>\n",
       "      <td>0</td>\n",
       "      <td>0</td>\n",
       "      <td>0</td>\n",
       "      <td>1</td>\n",
       "    </tr>\n",
       "    <tr>\n",
       "      <th>490682</th>\n",
       "      <td>0</td>\n",
       "      <td>0</td>\n",
       "      <td>0</td>\n",
       "      <td>0</td>\n",
       "      <td>0</td>\n",
       "      <td>0</td>\n",
       "      <td>0</td>\n",
       "      <td>0</td>\n",
       "      <td>0</td>\n",
       "      <td>0</td>\n",
       "      <td>1</td>\n",
       "      <td>1</td>\n",
       "      <td>0</td>\n",
       "      <td>0</td>\n",
       "      <td>0</td>\n",
       "      <td>0</td>\n",
       "      <td>0</td>\n",
       "      <td>0</td>\n",
       "      <td>0</td>\n",
       "      <td>0</td>\n",
       "      <td>0</td>\n",
       "      <td>0</td>\n",
       "      <td>0</td>\n",
       "      <td>0</td>\n",
       "      <td>0</td>\n",
       "      <td>...</td>\n",
       "      <td>0</td>\n",
       "      <td>0</td>\n",
       "      <td>0</td>\n",
       "      <td>0</td>\n",
       "      <td>0</td>\n",
       "      <td>0</td>\n",
       "      <td>0</td>\n",
       "      <td>0</td>\n",
       "      <td>0</td>\n",
       "      <td>0</td>\n",
       "      <td>0</td>\n",
       "      <td>0</td>\n",
       "      <td>0</td>\n",
       "      <td>0</td>\n",
       "      <td>0</td>\n",
       "      <td>0</td>\n",
       "      <td>0</td>\n",
       "      <td>0</td>\n",
       "      <td>0</td>\n",
       "      <td>0</td>\n",
       "      <td>0</td>\n",
       "      <td>0</td>\n",
       "      <td>0</td>\n",
       "      <td>0</td>\n",
       "      <td>1</td>\n",
       "    </tr>\n",
       "  </tbody>\n",
       "</table>\n",
       "<p>5 rows × 2172 columns</p>\n",
       "</div>"
      ],
      "text/plain": [
       "StockCode  10002  10125  10135  11001  15034  15036  15039  15044A  15044B  \\\n",
       "Invoice                                                                      \n",
       "489526         0      0      0      0      0      0      0       0       0   \n",
       "490395         0      0      0      0      0      0      0       0       0   \n",
       "490563         0      0      0      0      0      0      0       0       0   \n",
       "490564         0      0      0      0      0      0      0       0       0   \n",
       "490682         0      0      0      0      0      0      0       0       0   \n",
       "\n",
       "StockCode  15044D  15056BL  15056N  15056P  15058A  15058B  15058C  15060B  \\\n",
       "Invoice                                                                      \n",
       "489526          0        1       1       0       0       0       0       0   \n",
       "490395          0        0       0       0       0       0       0       0   \n",
       "490563          0        0       0       0       0       0       0       0   \n",
       "490564          0        0       0       0       0       0       0       0   \n",
       "490682          0        1       1       0       0       0       0       0   \n",
       "\n",
       "StockCode  16008  16011  16012  16014  16016  16033  16045  16052  ...  90070  \\\n",
       "Invoice                                                            ...          \n",
       "489526         0      0      0      0      0      0      0      0  ...      0   \n",
       "490395         0      0      0      0      0      0      0      0  ...      0   \n",
       "490563         0      0      0      0      0      0      0      0  ...      0   \n",
       "490564         0      0      0      0      0      0      0      0  ...      0   \n",
       "490682         0      0      0      0      0      0      0      0  ...      0   \n",
       "\n",
       "StockCode  90087  90098  90104  90160A  90160B  90160C  90160D  90161B  \\\n",
       "Invoice                                                                  \n",
       "489526         0      0      0       0       0       0       0       0   \n",
       "490395         0      0      0       0       0       0       0       0   \n",
       "490563         0      0      0       0       0       0       0       0   \n",
       "490564         0      0      0       0       0       0       0       0   \n",
       "490682         0      0      0       0       0       0       0       0   \n",
       "\n",
       "StockCode  90161C  90161D  90167  90170  90173  90200E  90201A  90201B  \\\n",
       "Invoice                                                                  \n",
       "489526          0       0      0      0      0       0       0       0   \n",
       "490395          0       0      0      0      0       0       0       0   \n",
       "490563          0       0      0      0      0       0       0       0   \n",
       "490564          0       0      0      0      0       0       0       0   \n",
       "490682          0       0      0      0      0       0       0       0   \n",
       "\n",
       "StockCode  90201C  90201D  90202D  90204  ADJUST  M  PADS  POST  \n",
       "Invoice                                                          \n",
       "489526          0       0       0      0       0  0     0     1  \n",
       "490395          0       0       0      0       0  0     0     1  \n",
       "490563          0       0       0      0       0  0     0     0  \n",
       "490564          0       0       0      0       0  0     0     1  \n",
       "490682          0       0       0      0       0  0     0     1  \n",
       "\n",
       "[5 rows x 2172 columns]"
      ]
     },
     "execution_count": 61,
     "metadata": {},
     "output_type": "execute_result"
    }
   ],
   "source": [
    "inv_pro_df = create_invoice_product_df(df_with_one_country, id=True)\n",
    "inv_pro_df.head()"
   ]
  },
  {
   "cell_type": "code",
   "execution_count": 62,
   "metadata": {},
   "outputs": [
    {
     "name": "stdout",
     "output_type": "stream",
     "text": [
      "['PACK OF 6 SKULL PAPER CUPS']\n",
      "['STORAGE TIN VINTAGE LEAF']\n",
      "[\"POPPY'S PLAYHOUSE BATHROOM\"]\n"
     ]
    },
    {
     "data": {
      "text/plain": [
       "[None, None, None]"
      ]
     },
     "execution_count": 62,
     "metadata": {},
     "output_type": "execute_result"
    }
   ],
   "source": [
    "# if we want to access the names of the products whose StockCode we know.\n",
    "\n",
    "def check_id(dataframe, stock_code):\n",
    "    product_name = dataframe[dataframe[\"StockCode\"] == stock_code][[\"Description\"]].values[0].tolist()\n",
    "    print(product_name)\n",
    "\n",
    "l = [\"21987\", \"23235\", \"22747\"]\n",
    "[check_id(df_with_one_country, product_id) for product_id in l]"
   ]
  },
  {
   "cell_type": "markdown",
   "metadata": {},
   "source": [
    "### Association Rules:"
   ]
  },
  {
   "cell_type": "code",
   "execution_count": 63,
   "metadata": {},
   "outputs": [
    {
     "data": {
      "text/html": [
       "<div>\n",
       "<style scoped>\n",
       "    .dataframe tbody tr th:only-of-type {\n",
       "        vertical-align: middle;\n",
       "    }\n",
       "\n",
       "    .dataframe tbody tr th {\n",
       "        vertical-align: top;\n",
       "    }\n",
       "\n",
       "    .dataframe thead th {\n",
       "        text-align: right;\n",
       "    }\n",
       "</style>\n",
       "<table border=\"1\" class=\"dataframe\">\n",
       "  <thead>\n",
       "    <tr style=\"text-align: right;\">\n",
       "      <th></th>\n",
       "      <th>support</th>\n",
       "      <th>itemsets</th>\n",
       "    </tr>\n",
       "  </thead>\n",
       "  <tbody>\n",
       "    <tr>\n",
       "      <th>562</th>\n",
       "      <td>0.798479</td>\n",
       "      <td>(POST)</td>\n",
       "    </tr>\n",
       "    <tr>\n",
       "      <th>251</th>\n",
       "      <td>0.263625</td>\n",
       "      <td>(22326)</td>\n",
       "    </tr>\n",
       "    <tr>\n",
       "      <th>2602</th>\n",
       "      <td>0.242079</td>\n",
       "      <td>(22326, POST)</td>\n",
       "    </tr>\n",
       "    <tr>\n",
       "      <th>253</th>\n",
       "      <td>0.172370</td>\n",
       "      <td>(22328)</td>\n",
       "    </tr>\n",
       "    <tr>\n",
       "      <th>27</th>\n",
       "      <td>0.166033</td>\n",
       "      <td>(20719)</td>\n",
       "    </tr>\n",
       "    <tr>\n",
       "      <th>2657</th>\n",
       "      <td>0.163498</td>\n",
       "      <td>(22328, POST)</td>\n",
       "    </tr>\n",
       "    <tr>\n",
       "      <th>943</th>\n",
       "      <td>0.149556</td>\n",
       "      <td>(POST, 20719)</td>\n",
       "    </tr>\n",
       "    <tr>\n",
       "      <th>2505</th>\n",
       "      <td>0.138150</td>\n",
       "      <td>(22326, 22328)</td>\n",
       "    </tr>\n",
       "    <tr>\n",
       "      <th>317</th>\n",
       "      <td>0.135615</td>\n",
       "      <td>(22554)</td>\n",
       "    </tr>\n",
       "    <tr>\n",
       "      <th>142</th>\n",
       "      <td>0.133080</td>\n",
       "      <td>(21731)</td>\n",
       "    </tr>\n",
       "    <tr>\n",
       "      <th>5915</th>\n",
       "      <td>0.129278</td>\n",
       "      <td>(22326, 22328, POST)</td>\n",
       "    </tr>\n",
       "    <tr>\n",
       "      <th>284</th>\n",
       "      <td>0.119138</td>\n",
       "      <td>(22423)</td>\n",
       "    </tr>\n",
       "    <tr>\n",
       "      <th>319</th>\n",
       "      <td>0.117871</td>\n",
       "      <td>(22556)</td>\n",
       "    </tr>\n",
       "    <tr>\n",
       "      <th>2901</th>\n",
       "      <td>0.115336</td>\n",
       "      <td>(22554, POST)</td>\n",
       "    </tr>\n",
       "    <tr>\n",
       "      <th>2144</th>\n",
       "      <td>0.114068</td>\n",
       "      <td>(21731, POST)</td>\n",
       "    </tr>\n",
       "    <tr>\n",
       "      <th>194</th>\n",
       "      <td>0.106464</td>\n",
       "      <td>(22077)</td>\n",
       "    </tr>\n",
       "    <tr>\n",
       "      <th>78</th>\n",
       "      <td>0.106464</td>\n",
       "      <td>(21238)</td>\n",
       "    </tr>\n",
       "    <tr>\n",
       "      <th>71</th>\n",
       "      <td>0.102662</td>\n",
       "      <td>(21212)</td>\n",
       "    </tr>\n",
       "    <tr>\n",
       "      <th>2926</th>\n",
       "      <td>0.101394</td>\n",
       "      <td>(POST, 22556)</td>\n",
       "    </tr>\n",
       "    <tr>\n",
       "      <th>2798</th>\n",
       "      <td>0.100127</td>\n",
       "      <td>(POST, 22423)</td>\n",
       "    </tr>\n",
       "  </tbody>\n",
       "</table>\n",
       "</div>"
      ],
      "text/plain": [
       "       support              itemsets\n",
       "562   0.798479                (POST)\n",
       "251   0.263625               (22326)\n",
       "2602  0.242079         (22326, POST)\n",
       "253   0.172370               (22328)\n",
       "27    0.166033               (20719)\n",
       "2657  0.163498         (22328, POST)\n",
       "943   0.149556         (POST, 20719)\n",
       "2505  0.138150        (22326, 22328)\n",
       "317   0.135615               (22554)\n",
       "142   0.133080               (21731)\n",
       "5915  0.129278  (22326, 22328, POST)\n",
       "284   0.119138               (22423)\n",
       "319   0.117871               (22556)\n",
       "2901  0.115336         (22554, POST)\n",
       "2144  0.114068         (21731, POST)\n",
       "194   0.106464               (22077)\n",
       "78    0.106464               (21238)\n",
       "71    0.102662               (21212)\n",
       "2926  0.101394         (POST, 22556)\n",
       "2798  0.100127         (POST, 22423)"
      ]
     },
     "execution_count": 63,
     "metadata": {},
     "output_type": "execute_result"
    }
   ],
   "source": [
    "# Possibilities of all possible product combinations\n",
    "frequent_itemsets = apriori(inv_pro_df, min_support=0.01, use_colnames=True)\n",
    "frequent_itemsets.sort_values(\"support\", ascending=False).head(20)"
   ]
  },
  {
   "cell_type": "code",
   "execution_count": 64,
   "metadata": {},
   "outputs": [
    {
     "data": {
      "text/html": [
       "<div>\n",
       "<style scoped>\n",
       "    .dataframe tbody tr th:only-of-type {\n",
       "        vertical-align: middle;\n",
       "    }\n",
       "\n",
       "    .dataframe tbody tr th {\n",
       "        vertical-align: top;\n",
       "    }\n",
       "\n",
       "    .dataframe thead th {\n",
       "        text-align: right;\n",
       "    }\n",
       "</style>\n",
       "<table border=\"1\" class=\"dataframe\">\n",
       "  <thead>\n",
       "    <tr style=\"text-align: right;\">\n",
       "      <th></th>\n",
       "      <th>antecedents</th>\n",
       "      <th>consequents</th>\n",
       "      <th>antecedent support</th>\n",
       "      <th>consequent support</th>\n",
       "      <th>support</th>\n",
       "      <th>confidence</th>\n",
       "      <th>lift</th>\n",
       "      <th>leverage</th>\n",
       "      <th>conviction</th>\n",
       "      <th>zhangs_metric</th>\n",
       "    </tr>\n",
       "  </thead>\n",
       "  <tbody>\n",
       "    <tr>\n",
       "      <th>76579</th>\n",
       "      <td>(84997D, 21239)</td>\n",
       "      <td>(20677, 21240, POST, 84997C)</td>\n",
       "      <td>0.011407</td>\n",
       "      <td>0.010139</td>\n",
       "      <td>0.010139</td>\n",
       "      <td>0.888889</td>\n",
       "      <td>87.666667</td>\n",
       "      <td>0.010024</td>\n",
       "      <td>8.908745</td>\n",
       "      <td>1.000000</td>\n",
       "    </tr>\n",
       "    <tr>\n",
       "      <th>76586</th>\n",
       "      <td>(84997D, 20677)</td>\n",
       "      <td>(21240, POST, 21239, 84997C)</td>\n",
       "      <td>0.011407</td>\n",
       "      <td>0.010139</td>\n",
       "      <td>0.010139</td>\n",
       "      <td>0.888889</td>\n",
       "      <td>87.666667</td>\n",
       "      <td>0.010024</td>\n",
       "      <td>8.908745</td>\n",
       "      <td>1.000000</td>\n",
       "    </tr>\n",
       "    <tr>\n",
       "      <th>4737</th>\n",
       "      <td>(22563)</td>\n",
       "      <td>(22562)</td>\n",
       "      <td>0.011407</td>\n",
       "      <td>0.010139</td>\n",
       "      <td>0.010139</td>\n",
       "      <td>0.888889</td>\n",
       "      <td>87.666667</td>\n",
       "      <td>0.010024</td>\n",
       "      <td>8.908745</td>\n",
       "      <td>1.000000</td>\n",
       "    </tr>\n",
       "    <tr>\n",
       "      <th>76561</th>\n",
       "      <td>(84997D, 21240, 20677)</td>\n",
       "      <td>(POST, 21239, 84997C)</td>\n",
       "      <td>0.011407</td>\n",
       "      <td>0.010139</td>\n",
       "      <td>0.010139</td>\n",
       "      <td>0.888889</td>\n",
       "      <td>87.666667</td>\n",
       "      <td>0.010024</td>\n",
       "      <td>8.908745</td>\n",
       "      <td>1.000000</td>\n",
       "    </tr>\n",
       "    <tr>\n",
       "      <th>57517</th>\n",
       "      <td>(84997D, 20677)</td>\n",
       "      <td>(POST, 21239, 84997C)</td>\n",
       "      <td>0.011407</td>\n",
       "      <td>0.010139</td>\n",
       "      <td>0.010139</td>\n",
       "      <td>0.888889</td>\n",
       "      <td>87.666667</td>\n",
       "      <td>0.010024</td>\n",
       "      <td>8.908745</td>\n",
       "      <td>1.000000</td>\n",
       "    </tr>\n",
       "    <tr>\n",
       "      <th>63351</th>\n",
       "      <td>(20674, 21242, 21244)</td>\n",
       "      <td>(20676, 21245, 20675)</td>\n",
       "      <td>0.011407</td>\n",
       "      <td>0.011407</td>\n",
       "      <td>0.011407</td>\n",
       "      <td>1.000000</td>\n",
       "      <td>87.666667</td>\n",
       "      <td>0.011277</td>\n",
       "      <td>inf</td>\n",
       "      <td>1.000000</td>\n",
       "    </tr>\n",
       "    <tr>\n",
       "      <th>57500</th>\n",
       "      <td>(POST, 21239, 84997C)</td>\n",
       "      <td>(84997D, 20677)</td>\n",
       "      <td>0.010139</td>\n",
       "      <td>0.011407</td>\n",
       "      <td>0.010139</td>\n",
       "      <td>1.000000</td>\n",
       "      <td>87.666667</td>\n",
       "      <td>0.010024</td>\n",
       "      <td>inf</td>\n",
       "      <td>0.998720</td>\n",
       "    </tr>\n",
       "    <tr>\n",
       "      <th>77654</th>\n",
       "      <td>(20674, 21242, 21244)</td>\n",
       "      <td>(20676, 21245, 20675, 21238)</td>\n",
       "      <td>0.011407</td>\n",
       "      <td>0.011407</td>\n",
       "      <td>0.011407</td>\n",
       "      <td>1.000000</td>\n",
       "      <td>87.666667</td>\n",
       "      <td>0.011277</td>\n",
       "      <td>inf</td>\n",
       "      <td>1.000000</td>\n",
       "    </tr>\n",
       "    <tr>\n",
       "      <th>4736</th>\n",
       "      <td>(22562)</td>\n",
       "      <td>(22563)</td>\n",
       "      <td>0.010139</td>\n",
       "      <td>0.011407</td>\n",
       "      <td>0.010139</td>\n",
       "      <td>1.000000</td>\n",
       "      <td>87.666667</td>\n",
       "      <td>0.010024</td>\n",
       "      <td>inf</td>\n",
       "      <td>0.998720</td>\n",
       "    </tr>\n",
       "    <tr>\n",
       "      <th>76564</th>\n",
       "      <td>(POST, 21239, 84997C)</td>\n",
       "      <td>(84997D, 21240, 20677)</td>\n",
       "      <td>0.010139</td>\n",
       "      <td>0.011407</td>\n",
       "      <td>0.010139</td>\n",
       "      <td>1.000000</td>\n",
       "      <td>87.666667</td>\n",
       "      <td>0.010024</td>\n",
       "      <td>inf</td>\n",
       "      <td>0.998720</td>\n",
       "    </tr>\n",
       "    <tr>\n",
       "      <th>77626</th>\n",
       "      <td>(20674, 21242, 21244, 21238)</td>\n",
       "      <td>(20676, 21245, 20675)</td>\n",
       "      <td>0.011407</td>\n",
       "      <td>0.011407</td>\n",
       "      <td>0.011407</td>\n",
       "      <td>1.000000</td>\n",
       "      <td>87.666667</td>\n",
       "      <td>0.011277</td>\n",
       "      <td>inf</td>\n",
       "      <td>1.000000</td>\n",
       "    </tr>\n",
       "    <tr>\n",
       "      <th>63362</th>\n",
       "      <td>(20676, 21245, 20675)</td>\n",
       "      <td>(20674, 21242, 21244)</td>\n",
       "      <td>0.011407</td>\n",
       "      <td>0.011407</td>\n",
       "      <td>0.011407</td>\n",
       "      <td>1.000000</td>\n",
       "      <td>87.666667</td>\n",
       "      <td>0.011277</td>\n",
       "      <td>inf</td>\n",
       "      <td>1.000000</td>\n",
       "    </tr>\n",
       "    <tr>\n",
       "      <th>77671</th>\n",
       "      <td>(20676, 21245, 20675)</td>\n",
       "      <td>(20674, 21242, 21244, 21238)</td>\n",
       "      <td>0.011407</td>\n",
       "      <td>0.011407</td>\n",
       "      <td>0.011407</td>\n",
       "      <td>1.000000</td>\n",
       "      <td>87.666667</td>\n",
       "      <td>0.011277</td>\n",
       "      <td>inf</td>\n",
       "      <td>1.000000</td>\n",
       "    </tr>\n",
       "    <tr>\n",
       "      <th>77643</th>\n",
       "      <td>(20676, 21245, 20675, 21238)</td>\n",
       "      <td>(20674, 21242, 21244)</td>\n",
       "      <td>0.011407</td>\n",
       "      <td>0.011407</td>\n",
       "      <td>0.011407</td>\n",
       "      <td>1.000000</td>\n",
       "      <td>87.666667</td>\n",
       "      <td>0.011277</td>\n",
       "      <td>inf</td>\n",
       "      <td>1.000000</td>\n",
       "    </tr>\n",
       "    <tr>\n",
       "      <th>76546</th>\n",
       "      <td>(20677, 21240, POST, 84997C)</td>\n",
       "      <td>(84997D, 21239)</td>\n",
       "      <td>0.010139</td>\n",
       "      <td>0.011407</td>\n",
       "      <td>0.010139</td>\n",
       "      <td>1.000000</td>\n",
       "      <td>87.666667</td>\n",
       "      <td>0.010024</td>\n",
       "      <td>inf</td>\n",
       "      <td>0.998720</td>\n",
       "    </tr>\n",
       "    <tr>\n",
       "      <th>76539</th>\n",
       "      <td>(21240, POST, 21239, 84997C)</td>\n",
       "      <td>(84997D, 20677)</td>\n",
       "      <td>0.010139</td>\n",
       "      <td>0.011407</td>\n",
       "      <td>0.010139</td>\n",
       "      <td>1.000000</td>\n",
       "      <td>87.666667</td>\n",
       "      <td>0.010024</td>\n",
       "      <td>inf</td>\n",
       "      <td>0.998720</td>\n",
       "    </tr>\n",
       "    <tr>\n",
       "      <th>77659</th>\n",
       "      <td>(20675, 20674, 21242)</td>\n",
       "      <td>(20676, 21245, 21244, 21238)</td>\n",
       "      <td>0.011407</td>\n",
       "      <td>0.012674</td>\n",
       "      <td>0.011407</td>\n",
       "      <td>1.000000</td>\n",
       "      <td>78.900000</td>\n",
       "      <td>0.011262</td>\n",
       "      <td>inf</td>\n",
       "      <td>0.998718</td>\n",
       "    </tr>\n",
       "    <tr>\n",
       "      <th>63375</th>\n",
       "      <td>(21245, 20675)</td>\n",
       "      <td>(20674, 21242, 20676, 21244)</td>\n",
       "      <td>0.012674</td>\n",
       "      <td>0.011407</td>\n",
       "      <td>0.011407</td>\n",
       "      <td>0.900000</td>\n",
       "      <td>78.900000</td>\n",
       "      <td>0.011262</td>\n",
       "      <td>9.885932</td>\n",
       "      <td>1.000000</td>\n",
       "    </tr>\n",
       "    <tr>\n",
       "      <th>77657</th>\n",
       "      <td>(20674, 21244, 21238)</td>\n",
       "      <td>(20675, 20676, 21245, 21242)</td>\n",
       "      <td>0.012674</td>\n",
       "      <td>0.011407</td>\n",
       "      <td>0.011407</td>\n",
       "      <td>0.900000</td>\n",
       "      <td>78.900000</td>\n",
       "      <td>0.011262</td>\n",
       "      <td>9.885932</td>\n",
       "      <td>1.000000</td>\n",
       "    </tr>\n",
       "    <tr>\n",
       "      <th>76572</th>\n",
       "      <td>(84997D, POST, 20677)</td>\n",
       "      <td>(21240, 21239, 84997C)</td>\n",
       "      <td>0.010139</td>\n",
       "      <td>0.012674</td>\n",
       "      <td>0.010139</td>\n",
       "      <td>1.000000</td>\n",
       "      <td>78.900000</td>\n",
       "      <td>0.010011</td>\n",
       "      <td>inf</td>\n",
       "      <td>0.997439</td>\n",
       "    </tr>\n",
       "    <tr>\n",
       "      <th>77632</th>\n",
       "      <td>(20675, 20674, 21242, 21238)</td>\n",
       "      <td>(20676, 21245, 21244)</td>\n",
       "      <td>0.011407</td>\n",
       "      <td>0.012674</td>\n",
       "      <td>0.011407</td>\n",
       "      <td>1.000000</td>\n",
       "      <td>78.900000</td>\n",
       "      <td>0.011262</td>\n",
       "      <td>inf</td>\n",
       "      <td>0.998718</td>\n",
       "    </tr>\n",
       "    <tr>\n",
       "      <th>57213</th>\n",
       "      <td>(21239, 84997C)</td>\n",
       "      <td>(84997D, 21240, 20677)</td>\n",
       "      <td>0.012674</td>\n",
       "      <td>0.011407</td>\n",
       "      <td>0.011407</td>\n",
       "      <td>0.900000</td>\n",
       "      <td>78.900000</td>\n",
       "      <td>0.011262</td>\n",
       "      <td>9.885932</td>\n",
       "      <td>1.000000</td>\n",
       "    </tr>\n",
       "    <tr>\n",
       "      <th>57214</th>\n",
       "      <td>(84997D, 21239)</td>\n",
       "      <td>(20677, 21240, 84997C)</td>\n",
       "      <td>0.011407</td>\n",
       "      <td>0.012674</td>\n",
       "      <td>0.011407</td>\n",
       "      <td>1.000000</td>\n",
       "      <td>78.900000</td>\n",
       "      <td>0.011262</td>\n",
       "      <td>inf</td>\n",
       "      <td>0.998718</td>\n",
       "    </tr>\n",
       "    <tr>\n",
       "      <th>75698</th>\n",
       "      <td>(84997D, 21239, 21238)</td>\n",
       "      <td>(20677, 21240, 84997C)</td>\n",
       "      <td>0.010139</td>\n",
       "      <td>0.012674</td>\n",
       "      <td>0.010139</td>\n",
       "      <td>1.000000</td>\n",
       "      <td>78.900000</td>\n",
       "      <td>0.010011</td>\n",
       "      <td>inf</td>\n",
       "      <td>0.997439</td>\n",
       "    </tr>\n",
       "    <tr>\n",
       "      <th>75704</th>\n",
       "      <td>(84997D, 20677, 21238)</td>\n",
       "      <td>(21240, 21239, 84997C)</td>\n",
       "      <td>0.010139</td>\n",
       "      <td>0.012674</td>\n",
       "      <td>0.010139</td>\n",
       "      <td>1.000000</td>\n",
       "      <td>78.900000</td>\n",
       "      <td>0.010011</td>\n",
       "      <td>inf</td>\n",
       "      <td>0.997439</td>\n",
       "    </tr>\n",
       "    <tr>\n",
       "      <th>76547</th>\n",
       "      <td>(84997D, 21240, POST, 20677)</td>\n",
       "      <td>(21239, 84997C)</td>\n",
       "      <td>0.010139</td>\n",
       "      <td>0.012674</td>\n",
       "      <td>0.010139</td>\n",
       "      <td>1.000000</td>\n",
       "      <td>78.900000</td>\n",
       "      <td>0.010011</td>\n",
       "      <td>inf</td>\n",
       "      <td>0.997439</td>\n",
       "    </tr>\n",
       "    <tr>\n",
       "      <th>46702</th>\n",
       "      <td>(20674, 21242, 21244)</td>\n",
       "      <td>(21245, 20675)</td>\n",
       "      <td>0.011407</td>\n",
       "      <td>0.012674</td>\n",
       "      <td>0.011407</td>\n",
       "      <td>1.000000</td>\n",
       "      <td>78.900000</td>\n",
       "      <td>0.011262</td>\n",
       "      <td>inf</td>\n",
       "      <td>0.998718</td>\n",
       "    </tr>\n",
       "    <tr>\n",
       "      <th>30323</th>\n",
       "      <td>(21239, 84997C)</td>\n",
       "      <td>(20677, 84997D)</td>\n",
       "      <td>0.012674</td>\n",
       "      <td>0.011407</td>\n",
       "      <td>0.011407</td>\n",
       "      <td>0.900000</td>\n",
       "      <td>78.900000</td>\n",
       "      <td>0.011262</td>\n",
       "      <td>9.885932</td>\n",
       "      <td>1.000000</td>\n",
       "    </tr>\n",
       "    <tr>\n",
       "      <th>63401</th>\n",
       "      <td>(20674, 21242, 21244, 21238)</td>\n",
       "      <td>(21245, 20675)</td>\n",
       "      <td>0.011407</td>\n",
       "      <td>0.012674</td>\n",
       "      <td>0.011407</td>\n",
       "      <td>1.000000</td>\n",
       "      <td>78.900000</td>\n",
       "      <td>0.011262</td>\n",
       "      <td>inf</td>\n",
       "      <td>0.998718</td>\n",
       "    </tr>\n",
       "    <tr>\n",
       "      <th>63338</th>\n",
       "      <td>(20674, 21242, 20676, 21244)</td>\n",
       "      <td>(21245, 20675)</td>\n",
       "      <td>0.011407</td>\n",
       "      <td>0.012674</td>\n",
       "      <td>0.011407</td>\n",
       "      <td>1.000000</td>\n",
       "      <td>78.900000</td>\n",
       "      <td>0.011262</td>\n",
       "      <td>inf</td>\n",
       "      <td>0.998718</td>\n",
       "    </tr>\n",
       "  </tbody>\n",
       "</table>\n",
       "</div>"
      ],
      "text/plain": [
       "                        antecedents                   consequents  \\\n",
       "76579               (84997D, 21239)  (20677, 21240, POST, 84997C)   \n",
       "76586               (84997D, 20677)  (21240, POST, 21239, 84997C)   \n",
       "4737                        (22563)                       (22562)   \n",
       "76561        (84997D, 21240, 20677)         (POST, 21239, 84997C)   \n",
       "57517               (84997D, 20677)         (POST, 21239, 84997C)   \n",
       "63351         (20674, 21242, 21244)         (20676, 21245, 20675)   \n",
       "57500         (POST, 21239, 84997C)               (84997D, 20677)   \n",
       "77654         (20674, 21242, 21244)  (20676, 21245, 20675, 21238)   \n",
       "4736                        (22562)                       (22563)   \n",
       "76564         (POST, 21239, 84997C)        (84997D, 21240, 20677)   \n",
       "77626  (20674, 21242, 21244, 21238)         (20676, 21245, 20675)   \n",
       "63362         (20676, 21245, 20675)         (20674, 21242, 21244)   \n",
       "77671         (20676, 21245, 20675)  (20674, 21242, 21244, 21238)   \n",
       "77643  (20676, 21245, 20675, 21238)         (20674, 21242, 21244)   \n",
       "76546  (20677, 21240, POST, 84997C)               (84997D, 21239)   \n",
       "76539  (21240, POST, 21239, 84997C)               (84997D, 20677)   \n",
       "77659         (20675, 20674, 21242)  (20676, 21245, 21244, 21238)   \n",
       "63375                (21245, 20675)  (20674, 21242, 20676, 21244)   \n",
       "77657         (20674, 21244, 21238)  (20675, 20676, 21245, 21242)   \n",
       "76572         (84997D, POST, 20677)        (21240, 21239, 84997C)   \n",
       "77632  (20675, 20674, 21242, 21238)         (20676, 21245, 21244)   \n",
       "57213               (21239, 84997C)        (84997D, 21240, 20677)   \n",
       "57214               (84997D, 21239)        (20677, 21240, 84997C)   \n",
       "75698        (84997D, 21239, 21238)        (20677, 21240, 84997C)   \n",
       "75704        (84997D, 20677, 21238)        (21240, 21239, 84997C)   \n",
       "76547  (84997D, 21240, POST, 20677)               (21239, 84997C)   \n",
       "46702         (20674, 21242, 21244)                (21245, 20675)   \n",
       "30323               (21239, 84997C)               (20677, 84997D)   \n",
       "63401  (20674, 21242, 21244, 21238)                (21245, 20675)   \n",
       "63338  (20674, 21242, 20676, 21244)                (21245, 20675)   \n",
       "\n",
       "       antecedent support  consequent support   support  confidence  \\\n",
       "76579            0.011407            0.010139  0.010139    0.888889   \n",
       "76586            0.011407            0.010139  0.010139    0.888889   \n",
       "4737             0.011407            0.010139  0.010139    0.888889   \n",
       "76561            0.011407            0.010139  0.010139    0.888889   \n",
       "57517            0.011407            0.010139  0.010139    0.888889   \n",
       "63351            0.011407            0.011407  0.011407    1.000000   \n",
       "57500            0.010139            0.011407  0.010139    1.000000   \n",
       "77654            0.011407            0.011407  0.011407    1.000000   \n",
       "4736             0.010139            0.011407  0.010139    1.000000   \n",
       "76564            0.010139            0.011407  0.010139    1.000000   \n",
       "77626            0.011407            0.011407  0.011407    1.000000   \n",
       "63362            0.011407            0.011407  0.011407    1.000000   \n",
       "77671            0.011407            0.011407  0.011407    1.000000   \n",
       "77643            0.011407            0.011407  0.011407    1.000000   \n",
       "76546            0.010139            0.011407  0.010139    1.000000   \n",
       "76539            0.010139            0.011407  0.010139    1.000000   \n",
       "77659            0.011407            0.012674  0.011407    1.000000   \n",
       "63375            0.012674            0.011407  0.011407    0.900000   \n",
       "77657            0.012674            0.011407  0.011407    0.900000   \n",
       "76572            0.010139            0.012674  0.010139    1.000000   \n",
       "77632            0.011407            0.012674  0.011407    1.000000   \n",
       "57213            0.012674            0.011407  0.011407    0.900000   \n",
       "57214            0.011407            0.012674  0.011407    1.000000   \n",
       "75698            0.010139            0.012674  0.010139    1.000000   \n",
       "75704            0.010139            0.012674  0.010139    1.000000   \n",
       "76547            0.010139            0.012674  0.010139    1.000000   \n",
       "46702            0.011407            0.012674  0.011407    1.000000   \n",
       "30323            0.012674            0.011407  0.011407    0.900000   \n",
       "63401            0.011407            0.012674  0.011407    1.000000   \n",
       "63338            0.011407            0.012674  0.011407    1.000000   \n",
       "\n",
       "            lift  leverage  conviction  zhangs_metric  \n",
       "76579  87.666667  0.010024    8.908745       1.000000  \n",
       "76586  87.666667  0.010024    8.908745       1.000000  \n",
       "4737   87.666667  0.010024    8.908745       1.000000  \n",
       "76561  87.666667  0.010024    8.908745       1.000000  \n",
       "57517  87.666667  0.010024    8.908745       1.000000  \n",
       "63351  87.666667  0.011277         inf       1.000000  \n",
       "57500  87.666667  0.010024         inf       0.998720  \n",
       "77654  87.666667  0.011277         inf       1.000000  \n",
       "4736   87.666667  0.010024         inf       0.998720  \n",
       "76564  87.666667  0.010024         inf       0.998720  \n",
       "77626  87.666667  0.011277         inf       1.000000  \n",
       "63362  87.666667  0.011277         inf       1.000000  \n",
       "77671  87.666667  0.011277         inf       1.000000  \n",
       "77643  87.666667  0.011277         inf       1.000000  \n",
       "76546  87.666667  0.010024         inf       0.998720  \n",
       "76539  87.666667  0.010024         inf       0.998720  \n",
       "77659  78.900000  0.011262         inf       0.998718  \n",
       "63375  78.900000  0.011262    9.885932       1.000000  \n",
       "77657  78.900000  0.011262    9.885932       1.000000  \n",
       "76572  78.900000  0.010011         inf       0.997439  \n",
       "77632  78.900000  0.011262         inf       0.998718  \n",
       "57213  78.900000  0.011262    9.885932       1.000000  \n",
       "57214  78.900000  0.011262         inf       0.998718  \n",
       "75698  78.900000  0.010011         inf       0.997439  \n",
       "75704  78.900000  0.010011         inf       0.997439  \n",
       "76547  78.900000  0.010011         inf       0.997439  \n",
       "46702  78.900000  0.011262         inf       0.998718  \n",
       "30323  78.900000  0.011262    9.885932       1.000000  \n",
       "63401  78.900000  0.011262         inf       0.998718  \n",
       "63338  78.900000  0.011262         inf       0.998718  "
      ]
     },
     "execution_count": 64,
     "metadata": {},
     "output_type": "execute_result"
    }
   ],
   "source": [
    "# Enforcement of Association Rules:\n",
    "rules = association_rules(frequent_itemsets, metric=\"support\", min_threshold=0.01)\n",
    "rules.sort_values(\"lift\", ascending=False).head(30)"
   ]
  },
  {
   "cell_type": "code",
   "execution_count": 65,
   "metadata": {},
   "outputs": [],
   "source": [
    "# Product recommendation for users in the cart to be done\n",
    "def arl_recommender(rules_df, product_id, rec_count=1):\n",
    "    sorted_rules = rules_df.sort_values(\"lift\", ascending=False)\n",
    "    recommendation_list = []\n",
    "\n",
    "    for i, product in sorted_rules[\"antecedents\"].items():\n",
    "        for j in list(product):\n",
    "            if j == product_id:\n",
    "                recommendation_list.append(list(sorted_rules.iloc[i][\"consequents\"]))\n",
    "\n",
    "    recommendation_list = list({item for item_list in recommendation_list for item in item_list})\n",
    "\n",
    "    return recommendation_list[:rec_count]"
   ]
  },
  {
   "cell_type": "code",
   "execution_count": 66,
   "metadata": {},
   "outputs": [
    {
     "name": "stdout",
     "output_type": "stream",
     "text": [
      "['PACK OF 6 SKULL PAPER CUPS']\n"
     ]
    }
   ],
   "source": [
    "# The name of the product\n",
    "check_id(df_with_one_country, \"21987\")"
   ]
  },
  {
   "cell_type": "code",
   "execution_count": 67,
   "metadata": {},
   "outputs": [
    {
     "data": {
      "text/plain": [
       "['21240', '21231', '21245']"
      ]
     },
     "execution_count": 67,
     "metadata": {},
     "output_type": "execute_result"
    }
   ],
   "source": [
    "# 3 product recommended\n",
    "arl_recommender(rules, \"21987\", 3)"
   ]
  },
  {
   "cell_type": "markdown",
   "metadata": {},
   "source": [
    "### Recommendated Products:\n"
   ]
  },
  {
   "cell_type": "code",
   "execution_count": 68,
   "metadata": {},
   "outputs": [
    {
     "name": "stdout",
     "output_type": "stream",
     "text": [
      "['BLUE  SPOTTY CUP']\n",
      "['SWEETHEART CERAMIC TRINKET BOX']\n",
      "['GREEN  SPOTTY PLATE ']\n",
      "['BLUE  SPOTTY CUP']\n",
      "['GREEN  SPOTTY PLATE ']\n",
      "['PINK  SPOTTY CUP']\n"
     ]
    },
    {
     "data": {
      "text/plain": [
       "[[None, None, None], [], [None, None, None]]"
      ]
     },
     "execution_count": 68,
     "metadata": {},
     "output_type": "execute_result"
    }
   ],
   "source": [
    "[[check_id(df_with_one_country, i) for i in arl_recommender(rules, product, 3)] for product in l]"
   ]
  },
  {
   "cell_type": "markdown",
   "metadata": {},
   "source": [
    "As we you can see we get recommanded plates and bowls if we are purchasing the glasses, which will be helpful for the customers"
   ]
  },
  {
   "cell_type": "markdown",
   "metadata": {},
   "source": [
    "## Recommendation"
   ]
  },
  {
   "cell_type": "markdown",
   "metadata": {},
   "source": [
    "Here’s a complete implementation for the Collaborative Filtering and Hybrid Recommender Systems, along with proper comments and documentation.\n",
    "\n",
    "### 1. **Collaborative Filtering Approach:**\n",
    "\n",
    "Collaborative filtering can be divided into two methods:\n",
    "\n",
    "- **User-Based Collaborative Filtering**: Recommend products based on the behavior of similar users.\n",
    "- **Item-Based Collaborative Filtering**: Recommend products similar to the ones the user has already purchased.\n",
    "\n",
    "#### 1.1 **User-Based Collaborative Filtering**\n"
   ]
  },
  {
   "cell_type": "code",
   "execution_count": 69,
   "metadata": {},
   "outputs": [
    {
     "data": {
      "text/plain": [
       "['POST', '21988', '21086']"
      ]
     },
     "execution_count": 69,
     "metadata": {},
     "output_type": "execute_result"
    }
   ],
   "source": [
    "# Importing necessary libraries\n",
    "import pandas as pd\n",
    "from mlxtend.frequent_patterns import apriori, association_rules\n",
    "from sklearn.metrics.pairwise import cosine_similarity\n",
    "import numpy as np\n",
    "import warnings\n",
    "\n",
    "# Suppress warnings for clean output\n",
    "warnings.filterwarnings(\"ignore\")\n",
    "\n",
    "# Step 7: Collaborative Filtering Approaches\n",
    "# 7.1: User-Based Collaborative Filtering\n",
    "def user_based_collaborative_filtering(df, product_id, top_n=3):\n",
    "    \"\"\"\n",
    "    Recommends products based on similar customers who purchased the same product.\n",
    "    \n",
    "    Parameters:\n",
    "    - df: The Invoice-Product matrix\n",
    "    - product_id: The product for which recommendations are to be made\n",
    "    - top_n: Number of recommended products\n",
    "    \n",
    "    Returns:\n",
    "    - List of top-n recommended products\n",
    "    \"\"\"\n",
    "    # Cosine Similarity on the User-Item matrix (rows are users/customers)\n",
    "    user_similarity = cosine_similarity(df)  # Cosine similarity between users\n",
    "    user_similarity_df = pd.DataFrame(user_similarity, index=df.index, columns=df.index)\n",
    "\n",
    "    # Get the users who purchased the given product\n",
    "    users_who_bought = df[df[product_id] == 1].index.tolist()\n",
    "\n",
    "    # Aggregate the similarity scores for these users\n",
    "    similar_users = user_similarity_df.loc[users_who_bought].mean(axis=0).sort_values(ascending=False).head(top_n + 1).index.tolist()\n",
    "\n",
    "    # Get the products purchased by similar users (excluding the input product)\n",
    "    recommended_products = df.loc[similar_users].sum().sort_values(ascending=False).head(top_n).index.tolist()\n",
    "\n",
    "    return recommended_products\n",
    "\n",
    "# Example of user-based collaborative filtering recommendation\n",
    "user_based_collaborative_filtering(inv_pro_df, \"21987\", 3)\n"
   ]
  },
  {
   "cell_type": "markdown",
   "metadata": {},
   "source": [
    "**Explanation:**\n",
    "- **Cosine Similarity** is calculated between users based on the products they have purchased. This gives us an understanding of how similar two users are in terms of their purchasing behavior.\n",
    "- The function returns the top-N recommended products based on the similarity of users who have purchased the same product."
   ]
  },
  {
   "cell_type": "markdown",
   "metadata": {},
   "source": [
    "#### 1.2 **Item-Based Collaborative Filtering**"
   ]
  },
  {
   "cell_type": "code",
   "execution_count": 70,
   "metadata": {},
   "outputs": [
    {
     "data": {
      "text/plain": [
       "['21988', '21989', '21086']"
      ]
     },
     "execution_count": 70,
     "metadata": {},
     "output_type": "execute_result"
    }
   ],
   "source": [
    "\n",
    "# 7.2: Item-Based Collaborative Filtering\n",
    "def item_based_collaborative_filtering(df, product_id, top_n=3):\n",
    "    \"\"\"\n",
    "    Recommends products similar to the ones that the customer has already purchased, using item-based collaborative filtering.\n",
    "    \n",
    "    Parameters:\n",
    "    - df: The Invoice-Product matrix\n",
    "    - product_id: The product for which recommendations are to be made\n",
    "    - top_n: Number of recommended products\n",
    "    \n",
    "    Returns:\n",
    "    - List of top-n recommended products\n",
    "    \"\"\"\n",
    "    # Cosine Similarity on the Item-Item matrix\n",
    "    item_similarity = cosine_similarity(df.T)  # Transpose to get item-item similarity\n",
    "    item_similarity_df = pd.DataFrame(item_similarity, index=df.columns, columns=df.columns)\n",
    "\n",
    "    # Get the products similar to the input product\n",
    "    similar_products = item_similarity_df[product_id].sort_values(ascending=False).head(top_n + 1).index.tolist()\n",
    "\n",
    "    # Exclude the input product from the recommendations\n",
    "    similar_products.remove(product_id)\n",
    "\n",
    "    return similar_products[:top_n]\n",
    "\n",
    "# Example of item-based collaborative filtering recommendation\n",
    "item_based_collaborative_filtering(inv_pro_df, \"21987\", 3)"
   ]
  },
  {
   "cell_type": "markdown",
   "metadata": {},
   "source": [
    "**Explanation:**\n",
    "- **Cosine Similarity** is calculated between products (rows are products) to find products that are similar to the one the user has purchased.\n",
    "- The function returns the top-N similar products to recommend.\n"
   ]
  },
  {
   "cell_type": "markdown",
   "metadata": {},
   "source": [
    "### 2. **Hybrid Recommender System:**\n",
    "\n",
    "The hybrid approach combines the collaborative filtering recommendations with the association rule-based recommendations. It can be achieved by blending the results of both techniques and recommending products that appear in both lists.\n"
   ]
  },
  {
   "cell_type": "code",
   "execution_count": 71,
   "metadata": {},
   "outputs": [
    {
     "data": {
      "text/plain": [
       "['21240', '21231', '21245']"
      ]
     },
     "execution_count": 71,
     "metadata": {},
     "output_type": "execute_result"
    }
   ],
   "source": [
    "\n",
    "# 7.3: Hybrid Recommender (Combination of Association Rules and Collaborative Filtering)\n",
    "def hybrid_recommender(df, rules_df, product_id, top_n=3):\n",
    "    \"\"\"\n",
    "    Hybrid recommender that combines Association Rules and Collaborative Filtering.\n",
    "    \n",
    "    Parameters:\n",
    "    - df: The Invoice-Product matrix\n",
    "    - rules_df: The association rules DataFrame\n",
    "    - product_id: The product for which recommendations are to be made\n",
    "    - top_n: Number of recommended products\n",
    "    \n",
    "    Returns:\n",
    "    - List of top-n recommended products\n",
    "    \"\"\"\n",
    "    # Step 1: Get recommendations from association rules\n",
    "    rule_based_recs = arl_recommender(rules_df, product_id, top_n)\n",
    "    \n",
    "    # Step 2: Get recommendations from item-based collaborative filtering\n",
    "    item_based_recs = item_based_collaborative_filtering(df, product_id, top_n)\n",
    "    \n",
    "    # Combine the two lists and remove duplicates\n",
    "    hybrid_recs = list(set(rule_based_recs + item_based_recs))\n",
    "\n",
    "    return hybrid_recs[:top_n]\n",
    "\n",
    "# Example of hybrid recommender\n",
    "hybrid_recommender(inv_pro_df, rules, \"21987\", 3)\n",
    "\n"
   ]
  },
  {
   "cell_type": "markdown",
   "metadata": {},
   "source": [
    "**Explanation:**\n",
    "- The **Hybrid Recommender** combines both association rule-based and collaborative filtering recommendations by blending both approaches.\n",
    "- The function merges the results and removes duplicates to ensure diverse recommendations."
   ]
  },
  {
   "cell_type": "markdown",
   "metadata": {},
   "source": [
    "### 3. **Matrix Factorization: Singular Value Decomposition (SVD)**"
   ]
  },
  {
   "cell_type": "code",
   "execution_count": 72,
   "metadata": {},
   "outputs": [
    {
     "data": {
      "image/png": "[encoded data removed]",
      "text/plain": [
       "<Figure size 1000x600 with 1 Axes>"
      ]
     },
     "metadata": {},
     "output_type": "display_data"
    }
   ],
   "source": [
    "from sklearn.decomposition import TruncatedSVD\n",
    "from sklearn.metrics import mean_squared_error\n",
    "from sklearn.model_selection import train_test_split\n",
    "import warnings\n",
    "\n",
    "## 7.4.2 Matrix Factorization: Singular Value Decomposition (SVD)\n",
    "\n",
    "# Using Matrix Factorization (SVD) for dimensionality reduction\n",
    "svd = TruncatedSVD(n_components=20)\n",
    "svd_matrix = svd.fit_transform(inv_pro_df)  # Using sparse matrix for SVD\n",
    "\n",
    "# Visualize the SVD decomposition of the matrix\n",
    "plt.figure(figsize=(10, 6))\n",
    "plt.plot(range(1, len(svd.explained_variance_ratio_) + 1), svd.explained_variance_ratio_, marker='o', color='b')\n",
    "plt.title(\"Explained Variance Ratio of SVD Components\")\n",
    "plt.xlabel(\"Component Number\")\n",
    "plt.ylabel(\"Explained Variance Ratio\")\n",
    "plt.show()\n",
    "\n"
   ]
  },
  {
   "cell_type": "markdown",
   "metadata": {},
   "source": [
    "\n",
    "**Explanation:**\n",
    "- **SVD** is applied to reduce the dimensionality of the data. The result is a matrix with fewer components that still captures the essential features.\n",
    "- The **Explained Variance Ratio Plot** shows how much variance is captured by each component in the decomposition. This helps to understand how well the SVD model captures the underlying patterns in the data.\n",
    "\n",
    "**Insights from the Graph:**\n",
    "- The plot illustrates the **explained variance** of each SVD component. The components with higher explained variance contribute more to the prediction power of the model.\n",
    "- **Important components** will have higher explained variance, and selecting the optimal number of components is key to reducing overfitting.\n"
   ]
  },
  {
   "cell_type": "markdown",
   "metadata": {},
   "source": [
    "The graph you've uploaded represents the **explained variance ratio** of the components from a **Singular Value Decomposition (SVD)**, which is typically used in dimensionality reduction techniques like Principal Component Analysis (PCA). Here's how we can interpret it:\n",
    "\n",
    "### What the Graph Conveys:\n",
    "- The **x-axis** represents the **component number** (1 to 20 in this case).\n",
    "- The **y-axis** represents the **explained variance ratio** for each SVD component.\n",
    "- The graph shows a **decreasing trend** in the explained variance ratio as the component number increases, which is typical for data decompositions like SVD or PCA.\n",
    "\n",
    "### What Can Be Interpreted:\n",
    "- **First few components have the highest explained variance**: The first component explains the most variance in the data, and as we move to higher components, the explained variance decreases.\n",
    "- **Diminishing returns**: The higher the component number, the less important the component becomes in explaining the variance. For instance, components 1 to 3 might explain a significant portion of the total variance, while components beyond 10 or 15 contribute much less.\n",
    "\n",
    "### What Can Be Concluded:\n",
    "- **Dimensionality reduction potential**: We can consider keeping the first few components. This graph suggests that after around component 3, the additional components are contributing less to explaining the variance in the data.\n",
    "- **Optimal number of components**: From this graph, we could choose an optimal number of components to keep for analysis, balancing between computational efficiency and retaining as much of the original variance as possible. For instance, keeping 3-5 components might retain a substantial proportion of the variance.\n",
    "\n",
    "In summary, this graph helps in understanding how much information each component carries and aids in making decisions about how many components to retain for further analysis, such as in machine learning models or data visualization."
   ]
  },
  {
   "cell_type": "markdown",
   "metadata": {},
   "source": [
    "### 1. Matrix Factorization using Singular Value Decomposition (SVD)\n",
    "\n",
    "We will use **Truncated SVD** from `sklearn.decomposition` for dimensionality reduction.\n",
    "\n",
    "**Explanation:**\n",
    "- **SVD** decomposes the customer-product matrix into three matrices: user features, singular values, and product features.\n",
    "- The resulting `svd_matrix` is the reduced representation of the customer-product interactions.\n",
    "- We reconstruct the original interaction matrix to predict missing ratings."
   ]
  },
  {
   "cell_type": "code",
   "execution_count": 78,
   "metadata": {},
   "outputs": [
    {
     "name": "stdout",
     "output_type": "stream",
     "text": [
      "Explained variance ratio by each component: [0.02926424 0.02356496 0.01795112 0.0163737  0.01491459 0.01392181\n",
      " 0.01336714 0.01212178 0.0111607  0.01036063 0.01021738 0.00994214\n",
      " 0.00937519 0.00840602 0.00828314 0.00818293 0.00772164 0.0074911\n",
      " 0.00730492 0.00708308]\n"
     ]
    }
   ],
   "source": [
    "from sklearn.decomposition import TruncatedSVD\n",
    "import numpy as np\n",
    "import pandas as pd\n",
    "from sklearn.metrics import mean_squared_error\n",
    "\n",
    "# 7.4.1: Matrix Factorization using SVD\n",
    "def matrix_factorization_svd(df, n_components=20):\n",
    "    \"\"\"\n",
    "    Apply Singular Value Decomposition (SVD) for Matrix Factorization.\n",
    "    \n",
    "    Parameters:\n",
    "    - df: Customer-Product interaction matrix (pandas DataFrame)\n",
    "    - n_components: Number of components for SVD\n",
    "    \n",
    "    Returns:\n",
    "    - svd_matrix: Transformed matrix after applying SVD\n",
    "    - svd: The trained SVD model\n",
    "    \"\"\"\n",
    "    # SVD model\n",
    "    svd = TruncatedSVD(n_components=n_components)\n",
    "    svd_matrix = svd.fit_transform(df.fillna(0))  # Fill NaN values with 0 for matrix factorization\n",
    "\n",
    "    # Explained variance ratio\n",
    "    explained_variance = svd.explained_variance_ratio_\n",
    "\n",
    "    # Print the explained variance ratio for each component\n",
    "    print(\"Explained variance ratio by each component:\", explained_variance)\n",
    "\n",
    "    return svd_matrix, svd\n",
    "\n",
    "# Example usage: Apply SVD to the interaction matrix\n",
    "svd_matrix, svd_model = matrix_factorization_svd(inv_pro_df, n_components=20)\n",
    "\n",
    "# Reconstruct the approximate interaction matrix from SVD components\n",
    "reconstructed_matrix = np.dot(svd_matrix, svd_model.components_)"
   ]
  },
  {
   "cell_type": "markdown",
   "metadata": {},
   "source": [
    "### 2. Alternating Least Squares (ALS) for Large-Scale Recommender Systems\n",
    "\n",
    "For ALS, we will use **implicit feedback** and implement the ALS algorithm manually. You can also use libraries like **`implicit`** for better performance, but here’s how you can do it step-by-step.\n",
    "\n",
    "**Explanation:**\n",
    "- **ALS** is a matrix factorization technique used to decompose the user-item interaction matrix into two matrices representing user and item latent factors.\n",
    "- This method is widely used in large-scale recommender systems due to its scalability and efficiency."
   ]
  },
  {
   "cell_type": "code",
   "execution_count": 79,
   "metadata": {},
   "outputs": [
    {
     "data": {
      "application/vnd.jupyter.widget-view+json": {
       "model_id": "9248c7fad6b64d29a5b8d88ab882301d",
       "version_major": 2,
       "version_minor": 0
      },
      "text/plain": [
       "  0%|          | 0/15 [00:00<?, ?it/s]"
      ]
     },
     "metadata": {},
     "output_type": "display_data"
    }
   ],
   "source": [
    "import implicit\n",
    "import scipy.sparse as sparse\n",
    "\n",
    "# 7.4.2: Alternating Least Squares (ALS)\n",
    "def alternating_least_squares(df, factors=20, regularization=0.1, iterations=15):\n",
    "    \"\"\"\n",
    "    Alternating Least Squares (ALS) for collaborative filtering.\n",
    "    \n",
    "    Parameters:\n",
    "    - df: Customer-Product interaction matrix (pandas DataFrame)\n",
    "    - factors: Number of latent factors to extract\n",
    "    - regularization: Regularization parameter for ALS\n",
    "    - iterations: Number of iterations for the ALS algorithm\n",
    "    \n",
    "    Returns:\n",
    "    - model: The trained ALS model\n",
    "    \"\"\"\n",
    "    # Convert to sparse matrix (required for ALS)\n",
    "    sparse_matrix = sparse.csr_matrix(df.fillna(0))\n",
    "\n",
    "    # Create the ALS model from the `implicit` library\n",
    "    model = implicit.als.AlternatingLeastSquares(factors=factors, regularization=regularization, iterations=iterations)\n",
    "\n",
    "    # Train the model\n",
    "    model.fit(sparse_matrix)\n",
    "\n",
    "    return model\n",
    "\n",
    "# Example usage: Apply ALS to the interaction matrix\n",
    "als_model = alternating_least_squares(inv_pro_df, factors=20, regularization=0.1, iterations=15)\n"
   ]
  },
  {
   "cell_type": "markdown",
   "metadata": {},
   "source": [
    "### 3. Generate Predicted Ratings or Scores\n",
    "\n",
    "To generate predictions for products that a customer has not yet purchased, we will compute the predicted scores for these products.\n",
    "\n",
    "#### 3.1 **Predictions with SVD:**\n",
    "\n"
   ]
  },
  {
   "cell_type": "code",
   "execution_count": 83,
   "metadata": {},
   "outputs": [
    {
     "name": "stdout",
     "output_type": "stream",
     "text": [
      "StockCode     10002     10125     10135     11001     15034     15036  \\\n",
      "Invoice                                                                 \n",
      "489526     0.012982  0.004082  0.005019 -0.019425  0.005371 -0.035202   \n",
      "490395    -0.003764 -0.010715  0.003086  0.005848  0.004685  0.021734   \n",
      "490563    -0.009758 -0.018893 -0.020085 -0.024155  0.000529  0.000973   \n",
      "490564     0.001854  0.023185 -0.005109  0.001339  0.013400 -0.020247   \n",
      "490682     0.005706  0.012625  0.001383  0.000787  0.006083  0.020245   \n",
      "...             ...       ...       ...       ...       ...       ...   \n",
      "581266     0.007434  0.106994 -0.002774 -0.014082  0.025588  0.013651   \n",
      "581494    -0.003561  0.052381  0.010167  0.022921 -0.003677  0.014685   \n",
      "581570    -0.001642  0.027321  0.005247  0.002071  0.001697 -0.000712   \n",
      "581574     0.001964  0.005851  0.013924  0.005140  0.003280  0.021989   \n",
      "581578     0.005443  0.053568  0.009170 -0.005434 -0.023528 -0.027938   \n",
      "\n",
      "StockCode     15039    15044A    15044B    15044D   15056BL    15056N  \\\n",
      "Invoice                                                                 \n",
      "489526     0.014874 -0.033925 -0.010036 -0.010036  0.057829  0.059055   \n",
      "490395     0.001274  0.016644  0.015084  0.015084  0.078524  0.061715   \n",
      "490563    -0.020457  0.000883 -0.005978 -0.005978 -0.038463 -0.027957   \n",
      "490564    -0.002528 -0.002571 -0.005461 -0.005461  0.064570  0.045648   \n",
      "490682     0.002138  0.002296  0.007111  0.007111  0.080141  0.056878   \n",
      "...             ...       ...       ...       ...       ...       ...   \n",
      "581266    -0.003872 -0.018948 -0.004200 -0.004200 -0.012539 -0.016701   \n",
      "581494     0.006137 -0.000101  0.000255  0.000255 -0.023513 -0.005093   \n",
      "581570     0.002968 -0.002322 -0.003522 -0.003522  0.025961  0.018832   \n",
      "581574     0.003088 -0.000664  0.004546  0.004546 -0.010133 -0.004138   \n",
      "581578     0.013485 -0.014373 -0.001311 -0.001311  0.025956  0.039073   \n",
      "\n",
      "StockCode    15056P    15058A    15058B    15058C    15060B     16008  \\\n",
      "Invoice                                                                 \n",
      "489526     0.009576  0.020046  0.019912 -0.013351  0.089066 -0.002739   \n",
      "490395     0.039491  0.012195  0.008645  0.002611  0.003594 -0.003842   \n",
      "490563    -0.017040  0.001477  0.003224 -0.014019 -0.038084  0.001332   \n",
      "490564     0.031335  0.009488  0.007123 -0.005116  0.016663  0.003001   \n",
      "490682     0.044232  0.005207  0.002489  0.001130  0.005644  0.002951   \n",
      "...             ...       ...       ...       ...       ...       ...   \n",
      "581266     0.002847  0.005940  0.002331  0.007314  0.019209  0.041441   \n",
      "581494    -0.007453  0.001253 -0.002185  0.008207 -0.014995  0.006460   \n",
      "581570     0.018467  0.009121  0.005246  0.002068 -0.020580  0.010270   \n",
      "581574     0.008837  0.005773  0.001598  0.009992  0.007768  0.011502   \n",
      "581578    -0.004719 -0.009565 -0.009644  0.000528 -0.013514  0.002001   \n",
      "\n",
      "StockCode     16011     16012     16014     16016     16033     16045  \\\n",
      "Invoice                                                                 \n",
      "489526    -0.005555  0.012748  0.011768  0.005764 -0.002228 -0.025713   \n",
      "490395    -0.021765  0.001709  0.008021  0.013444 -0.001350  0.005379   \n",
      "490563    -0.027830  0.006951 -0.004654 -0.005099  0.002721  0.026281   \n",
      "490564     0.000451  0.004023  0.008340  0.013389  0.000498  0.018937   \n",
      "490682     0.002262  0.003336  0.008997  0.015345 -0.000041  0.008051   \n",
      "...             ...       ...       ...       ...       ...       ...   \n",
      "581266     0.093556  0.006666  0.016114  0.006427  0.005914  0.007293   \n",
      "581494     0.020032 -0.003881  0.003315  0.006109  0.006883  0.025669   \n",
      "581570     0.023104  0.003268  0.010361  0.013857  0.003967  0.016684   \n",
      "581574     0.022814 -0.003646  0.011793  0.010753  0.003818 -0.006443   \n",
      "581578     0.005052  0.007946 -0.001367  0.005934  0.004484 -0.003123   \n",
      "\n",
      "StockCode     16052  ...     90070     90087     90098     90104    90160A  \\\n",
      "Invoice              ...                                                     \n",
      "489526     0.003669  ... -0.000492 -0.005777  0.000895  0.017995  0.000626   \n",
      "490395     0.001226  ... -0.001934  0.005086  0.000384 -0.003629  0.002172   \n",
      "490563     0.008778  ... -0.006576  0.001891  0.004242  0.027425 -0.002287   \n",
      "490564     0.002645  ... -0.002484  0.002845  0.000561  0.000426  0.002269   \n",
      "490682     0.000824  ...  0.001313  0.003319  0.001734  0.001072  0.002660   \n",
      "...             ...  ...       ...       ...       ...       ...       ...   \n",
      "581266     0.007587  ... -0.004922 -0.004268  0.011753 -0.010938  0.000902   \n",
      "581494    -0.001304  ...  0.000052  0.003402  0.004779  0.000283  0.000614   \n",
      "581570     0.003440  ...  0.002158  0.002379  0.005529  0.003836  0.001728   \n",
      "581574    -0.000697  ...  0.002150 -0.000106  0.007106  0.001227  0.001394   \n",
      "581578     0.001031  ...  0.000050 -0.000017 -0.002186 -0.000878  0.000978   \n",
      "\n",
      "StockCode    90160B    90160C    90160D    90161B    90161C    90161D  \\\n",
      "Invoice                                                                 \n",
      "489526     0.000626  0.000626  0.000626  0.000626  0.000626  0.000626   \n",
      "490395     0.002172  0.002172  0.002172  0.002172  0.002172  0.002172   \n",
      "490563    -0.002287 -0.002287 -0.002287 -0.002287 -0.002287 -0.002287   \n",
      "490564     0.002269  0.002269  0.002269  0.002269  0.002269  0.002269   \n",
      "490682     0.002660  0.002660  0.002660  0.002660  0.002660  0.002660   \n",
      "...             ...       ...       ...       ...       ...       ...   \n",
      "581266     0.000902  0.000902  0.000902  0.000902  0.000902  0.000902   \n",
      "581494     0.000614  0.000614  0.000614  0.000614  0.000614  0.000614   \n",
      "581570     0.001728  0.001728  0.001728  0.001728  0.001728  0.001728   \n",
      "581574     0.001394  0.001394  0.001394  0.001394  0.001394  0.001394   \n",
      "581578     0.000978  0.000978  0.000978  0.000978  0.000978  0.000978   \n",
      "\n",
      "StockCode     90167     90170     90173    90200E    90201A    90201B  \\\n",
      "Invoice                                                                 \n",
      "489526     0.005314 -0.005139 -0.005139  0.006346  0.000626  0.000626   \n",
      "490395     0.000795  0.004175  0.004175  0.001269  0.002172  0.002172   \n",
      "490563    -0.003760 -0.004198 -0.004198  0.008528 -0.002287 -0.002287   \n",
      "490564     0.000917  0.003069  0.003069  0.001990  0.002269  0.002269   \n",
      "490682     0.001842  0.002651  0.002651  0.000307  0.002660  0.002660   \n",
      "...             ...       ...       ...       ...       ...       ...   \n",
      "581266     0.000737 -0.004575 -0.004575 -0.001558  0.000902  0.000902   \n",
      "581494    -0.000935  0.001697  0.001697 -0.002088  0.000614  0.000614   \n",
      "581570     0.001338  0.000086  0.000086  0.001535  0.001728  0.001728   \n",
      "581574    -0.000542  0.001112  0.001112 -0.004373  0.001394  0.001394   \n",
      "581578     0.005405 -0.004607 -0.004607  0.013008  0.000978  0.000978   \n",
      "\n",
      "StockCode    90201C    90201D    90202D     90204        ADJUST             M  \\\n",
      "Invoice                                                                         \n",
      "489526     0.000626  0.000626 -0.005139 -0.000567 -4.200292e-10 -1.432346e-07   \n",
      "490395     0.002172  0.002172  0.004175  0.003453  2.275013e-10 -1.115948e-07   \n",
      "490563    -0.002287 -0.002287 -0.004198  0.002969 -2.771082e-10  6.103446e-07   \n",
      "490564     0.002269  0.002269  0.003069  0.003845 -4.027827e-10  1.087137e-07   \n",
      "490682     0.002660  0.002660  0.002651  0.002773 -1.537026e-10 -2.817611e-08   \n",
      "...             ...       ...       ...       ...           ...           ...   \n",
      "581266     0.000902  0.000902 -0.004575 -0.001564 -2.188213e-09 -2.832267e-08   \n",
      "581494     0.000614  0.000614  0.001697  0.001399  6.517236e-11 -5.828518e-10   \n",
      "581570     0.001728  0.001728  0.000086  0.001877 -2.685548e-10  7.846514e-08   \n",
      "581574     0.001394  0.001394  0.001112  0.000777  1.307352e-10 -1.835973e-07   \n",
      "581578     0.000978  0.000978 -0.004607 -0.002090  2.411740e-10  1.865171e-07   \n",
      "\n",
      "StockCode      PADS      POST  \n",
      "Invoice                        \n",
      "489526     0.002298  1.035079  \n",
      "490395    -0.000091  1.001540  \n",
      "490563    -0.000879  0.019443  \n",
      "490564     0.000293  0.974918  \n",
      "490682     0.000571  1.011582  \n",
      "...             ...       ...  \n",
      "581266    -0.001476  1.151387  \n",
      "581494     0.000092  1.009792  \n",
      "581570    -0.000830  1.061359  \n",
      "581574    -0.000836  1.006572  \n",
      "581578     0.000557  0.923162  \n",
      "\n",
      "[789 rows x 2172 columns]\n"
     ]
    }
   ],
   "source": [
    "def predict_ratings_svd(df, svd_matrix, svd_model):\n",
    "    \"\"\"\n",
    "    Generate predicted ratings using the SVD model.\n",
    "    \n",
    "    Parameters:\n",
    "    - df: The customer-product interaction matrix (pandas DataFrame)\n",
    "    - svd_matrix: The matrix obtained from SVD (user-feature matrix)\n",
    "    - svd_model: The trained SVD model\n",
    "    \n",
    "    Returns:\n",
    "    - predicted_ratings: A DataFrame containing predicted ratings for all products\n",
    "    \"\"\"\n",
    "    predicted_ratings = np.dot(svd_matrix, svd_model.components_)\n",
    "    \n",
    "    # Convert the predicted ratings matrix to a DataFrame\n",
    "    predicted_ratings_df = pd.DataFrame(predicted_ratings, index=df.index, columns=df.columns)\n",
    "    \n",
    "    return predicted_ratings_df\n",
    "\n",
    "# Generate predicted ratings using SVD\n",
    "predicted_ratings_svd = predict_ratings_svd(inv_pro_df, svd_matrix, svd_model)\n",
    "print(predicted_ratings_svd)\n"
   ]
  },
  {
   "cell_type": "markdown",
   "metadata": {},
   "source": [
    "#### 3.2 **Predictions with ALS:**\n",
    "\n",
    "### Conclusion:\n",
    "\n",
    "Now, the code implements both **Matrix Factorization** using **SVD** and **Alternating Least Squares (ALS)** for collaborative filtering. The system is trained on the customer-product interaction matrix, and we can generate predicted ratings for products that customers have not yet purchased.\n",
    "\n",
    "- **SVD** provides a way to reduce the dimensionality of the matrix and predict missing ratings.\n",
    "- **ALS** is a scalable method that is particularly useful for large datasets.\n",
    "\n",
    "These predicted ratings can be used to generate product recommendations for each user based on their predicted preferences. Would you like me to provide a full example of how to use these predicted ratings for generating recommendations?"
   ]
  },
  {
   "cell_type": "code",
   "execution_count": 82,
   "metadata": {},
   "outputs": [
    {
     "name": "stdout",
     "output_type": "stream",
     "text": [
      "        0         1\n",
      "0     781  0.439488\n",
      "1     458  0.244717\n",
      "2     135  0.565495\n",
      "3     419  0.266210\n",
      "4      66  0.102525\n",
      "..    ...       ...\n",
      "784  1269  0.419895\n",
      "785  1022  0.492387\n",
      "786   837  0.345235\n",
      "787   816  0.162309\n",
      "788  1021  0.466327\n",
      "\n",
      "[789 rows x 2 columns]\n"
     ]
    }
   ],
   "source": [
    "def predict_ratings_als(df, als_model, num_recommendations=5):\n",
    "    \"\"\"\n",
    "    Generate predicted ratings using the ALS model.\n",
    "    \n",
    "    Parameters:\n",
    "    - df: The customer-product interaction matrix (pandas DataFrame)\n",
    "    - als_model: The trained ALS model\n",
    "    - num_recommendations: Number of products to recommend for each user\n",
    "    \n",
    "    Returns:\n",
    "    - predicted_ratings: A DataFrame containing predicted ratings for all products\n",
    "    \"\"\"\n",
    "    # Convert the DataFrame into a sparse matrix (required for ALS)\n",
    "    sparse_matrix = sparse.csr_matrix(df.fillna(0))\n",
    "    \n",
    "    # Prepare to store recommendations\n",
    "    recommendations = {}\n",
    "    \n",
    "    for user_id in range(sparse_matrix.shape[0]):  # Iterate over each user\n",
    "        # Get the top N recommended items for this user\n",
    "        recommended_items = als_model.recommend(user_id, sparse_matrix[user_id], N=num_recommendations)\n",
    "        \n",
    "        # Store the recommendations\n",
    "        recommendations[user_id] = [item[0] for item in recommended_items]  # Extract item ids from tuple (item, score)\n",
    "    \n",
    "    # Convert recommendations dictionary to a DataFrame\n",
    "    recommended_items_df = pd.DataFrame.from_dict(recommendations, orient='index')\n",
    "    \n",
    "    return recommended_items_df\n",
    "\n",
    "# Generate predicted ratings using ALS\n",
    "predicted_ratings_als = predict_ratings_als(inv_pro_df, als_model, num_recommendations=5)\n",
    "print(predicted_ratings_als)\n"
   ]
  },
  {
   "cell_type": "markdown",
   "metadata": {},
   "source": [
    "### 4. **Performance Evaluation:**"
   ]
  },
  {
   "cell_type": "code",
   "execution_count": null,
   "metadata": {},
   "outputs": [
    {
     "name": "stdout",
     "output_type": "stream",
     "text": [
      "RMSE of the SVD model: 0.9543\n"
     ]
    }
   ],
   "source": [
    "from sklearn.metrics import mean_squared_error\n",
    "import numpy as np\n",
    "from scipy.sparse import csr_matrix\n",
    "\n",
    "# Train-test split for evaluating the recommender system\n",
    "train_data, test_data = train_test_split(inv_pro_df, test_size=0.2, random_state=42)\n",
    "\n",
    "# Perform SVD on train data\n",
    "svd_train = TruncatedSVD(n_components=20)\n",
    "svd_train_matrix = svd_train.fit_transform(train_data)\n",
    "\n",
    "# Reconstruct the matrix to predict ratings for the train data\n",
    "svd_pred = np.dot(svd_train_matrix, svd_train.components_)\n",
    "\n",
    "# Convert test_data to sparse matrix\n",
    "test_data_sparse = csr_matrix(test_data)\n",
    "\n",
    "# Get non-zero indices of test data\n",
    "test_data_non_zero = test_data_sparse.nonzero()\n",
    "\n",
    "# Extract the actual values from the test data for the non-zero positions\n",
    "actual_values = test_data_sparse[test_data_non_zero].A.flatten()  # Using .A to convert sparse to dense\n",
    "\n",
    "# Reconstruct the predicted values for the same user-item pairs from svd_pred\n",
    "predicted_values = svd_pred[test_data_non_zero].flatten()\n",
    "\n",
    "# Now calculate RMSE based on the non-zero values\n",
    "rmse = np.sqrt(mean_squared_error(actual_values, predicted_values))\n",
    "print(f\"RMSE of the SVD model: {rmse:.4f}\")\n"
   ]
  },
  {
   "cell_type": "markdown",
   "metadata": {},
   "source": [
    "**Explanation:**\n",
    "- The **Root Mean Squared Error (RMSE)** is calculated to evaluate how well the model predicts the actual purchase behavior of customers. A lower RMSE indicates a better model performance.\n",
    "\n",
    "### Conclusion and Insights:\n",
    "\n",
    "- **Collaborative Filtering (User and Item-based)**: Both methods rely on customer or product similarity. User-based looks at similar customers, while item-based focuses on products.\n",
    "- **Hybrid System**: By combining collaborative filtering and association rule mining, the hybrid recommender system leverages both approaches for more accurate and diverse recommendations.\n",
    "- **Matrix Factorization (SVD)**: Reduces dimensionality and improves prediction accuracy by focusing on latent features.\n",
    "- **RMSE Evaluation**: Helps assess the model’s predictive performance, guiding improvements.\n",
    "\n",
    "These techniques provide a comprehensive approach to creating a recommender system tailored to customer purchasing behavior, enabling more effective and personalized recommendations."
   ]
  }
 ],
 "metadata": {
  "colab": {
   "provenance": [],
   "toc_visible": true
  },
  "kernelspec": {
   "display_name": "Python 3 (ipykernel)",
   "language": "python",
   "name": "python3"
  },
  "language_info": {
   "codemirror_mode": {
    "name": "ipython",
    "version": 3
   },
   "file_extension": ".py",
   "mimetype": "text/x-python",
   "name": "python",
   "nbconvert_exporter": "python",
   "pygments_lexer": "ipython3",
   "version": "3.12.7"
  }
 },
 "nbformat": 4,
 "nbformat_minor": 4
}
